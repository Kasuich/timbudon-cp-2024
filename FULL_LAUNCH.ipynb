{
 "cells": [
  {
   "cell_type": "markdown",
   "metadata": {},
   "source": [
    "# Полный запуск решения\n",
    "\n",
    "## Импорт библиотек"
   ]
  },
  {
   "cell_type": "code",
   "execution_count": 1,
   "metadata": {},
   "outputs": [
    {
     "name": "stderr",
     "output_type": "stream",
     "text": [
      "/home/tsykanovae/micromamba/envs/new_laaunch/lib/python3.11/site-packages/sentence_transformers/cross_encoder/CrossEncoder.py:13: TqdmWarning: IProgress not found. Please update jupyter and ipywidgets. See https://ipywidgets.readthedocs.io/en/stable/user_install.html\n",
      "  from tqdm.autonotebook import tqdm, trange\n",
      "2024-11-10 10:51:03.872586: I tensorflow/core/util/port.cc:153] oneDNN custom operations are on. You may see slightly different numerical results due to floating-point round-off errors from different computation orders. To turn them off, set the environment variable `TF_ENABLE_ONEDNN_OPTS=0`.\n",
      "2024-11-10 10:51:03.886858: E external/local_xla/xla/stream_executor/cuda/cuda_fft.cc:477] Unable to register cuFFT factory: Attempting to register factory for plugin cuFFT when one has already been registered\n",
      "WARNING: All log messages before absl::InitializeLog() is called are written to STDERR\n",
      "E0000 00:00:1731225063.907022  873270 cuda_dnn.cc:8310] Unable to register cuDNN factory: Attempting to register factory for plugin cuDNN when one has already been registered\n",
      "E0000 00:00:1731225063.911912  873270 cuda_blas.cc:1418] Unable to register cuBLAS factory: Attempting to register factory for plugin cuBLAS when one has already been registered\n",
      "2024-11-10 10:51:03.936230: I tensorflow/core/platform/cpu_feature_guard.cc:210] This TensorFlow binary is optimized to use available CPU instructions in performance-critical operations.\n",
      "To enable the following instructions: AVX2 AVX512F AVX512_VNNI FMA, in other operations, rebuild TensorFlow with the appropriate compiler flags.\n"
     ]
    }
   ],
   "source": [
    "import io\n",
    "import os\n",
    "import pickle\n",
    "import yaml\n",
    "from typing import List, Dict\n",
    "from pathlib import Path\n",
    "\n",
    "import pandas as pd\n",
    "import numpy as np\n",
    "from PIL import Image\n",
    "from sentence_transformers import SentenceTransformer\n",
    "from loguru import logger\n",
    "from tqdm import tqdm\n",
    "from sklearn.neighbors import NearestNeighbors\n",
    "import logging\n",
    "import warnings\n",
    "\n",
    "import Levenshtein\n",
    "os.environ['TF_CPP_MIN_LOG_LEVEL'] = '3'\n",
    "from ultralytics import YOLO\n",
    "from sklearn.neighbors import NearestNeighbors\n",
    "import cv2\n",
    "from dataclasses import dataclass\n",
    "import abc\n",
    "from paddleocr import PaddleOCR\n",
    "from sklearn.metrics import accuracy_score, pairwise_distances\n",
    "\n",
    "config_path = 'config.yaml'"
   ]
  },
  {
   "cell_type": "code",
   "execution_count": 2,
   "metadata": {},
   "outputs": [],
   "source": [
    "warnings.filterwarnings(\"ignore\")\n",
    "logging.getLogger(\"ppocr\").setLevel(logging.ERROR)\n",
    "\n",
    "\n",
    "os.makedirs(\"weights/embed\", exist_ok=True)\n",
    "os.makedirs(\"test/imags\", exist_ok=True)"
   ]
  },
  {
   "cell_type": "markdown",
   "metadata": {},
   "source": [
    "## Для дальнейшей работы, нужно скачать веса, и положить в нужные папки\n",
    "train_embed положить в weights/embeded  \n",
    "https://drive.google.com/file/d/154jS1mS7ca43gm1eSu_DhzP7Y7f7eCHU/view?usp=sharing\n",
    "\n",
    "segmentation.pt положить в weights/  \n",
    "https://drive.google.com/file/d/1Rssq6iwe8ExxcSG7hnjz1UZiieUDkwVh/view?usp=sharing\n",
    "\n",
    "best_det.pt положить в weights/  \n",
    "https://drive.google.com/file/d/10sPV7AW10ugb_oIjbPES5bUWP3wDRn1J/view?usp=sharing"
   ]
  },
  {
   "cell_type": "markdown",
   "metadata": {},
   "source": [
    "# Фотографии, информации о боксах, и текст для тейна должны лежать в папке train в папках imgs, labels, labels_with_text соотвотсвенно: train/imgs - фотографии, train/labels - информация о боксах, tarin/labels_with_text - текст \n",
    "\n",
    "# Также для работы необходим config.yaml\n",
    "\n",
    "# Тестовые фотографи следует положить в папку test/imags !"
   ]
  },
  {
   "cell_type": "markdown",
   "metadata": {},
   "source": [
    "## Получение Эмбедингов для тестовых фото"
   ]
  },
  {
   "cell_type": "code",
   "execution_count": 3,
   "metadata": {},
   "outputs": [],
   "source": [
    "def load_images_from_folder(output_folder: str) -> List[np.ndarray]:\n",
    "    \n",
    "    frame_files = sorted(os.listdir(output_folder))\n",
    "    frames = []\n",
    "    for frame_file in frame_files:\n",
    "        frame_path = os.path.join(output_folder, frame_file)\n",
    "        if os.path.isfile(frame_path) and frame_file.lower().endswith(('.png', '.jpg', '.jpeg', '.gif', '.bmp')):\n",
    "            try:\n",
    "                img = Image.open(frame_path)\n",
    "                frames.append(np.array(img))\n",
    "            except Exception as e:\n",
    "                logger.eror(f\"Error opening {frame_path}: {e}\")\n",
    "        else:\n",
    "            logger.eror(f\"Skipping directory or non-image file: {frame_path}\")\n",
    "    \n",
    "    return frames\n",
    "\n",
    "def save_embeddings(embeddings, filename, output_folder):\n",
    "    output_path = Path(output_folder) / f\"{filename}.pkl\"\n",
    "    with open(output_path, 'wb') as f:\n",
    "        pickle.dump(embeddings, f)\n",
    "    logger.info(f\"Saved embeddings to {output_path}\")\n",
    "\n",
    "def vectorize_images(images: List[np.ndarray], model: SentenceTransformer) -> List[np.ndarray]:\n",
    "    return [model.encode(Image.fromarray(img)) for img in tqdm(images)]"
   ]
  },
  {
   "cell_type": "code",
   "execution_count": 4,
   "metadata": {},
   "outputs": [
    {
     "name": "stderr",
     "output_type": "stream",
     "text": [
      "\u001b[32m2024-11-10 10:51:07.227\u001b[0m | \u001b[1mINFO    \u001b[0m | \u001b[36m__main__\u001b[0m:\u001b[36m<module>\u001b[0m:\u001b[36m3\u001b[0m - \u001b[1mLoaded configuration from config.yaml\u001b[0m\n",
      "\u001b[32m2024-11-10 10:51:09.790\u001b[0m | \u001b[1mINFO    \u001b[0m | \u001b[36m__main__\u001b[0m:\u001b[36m<module>\u001b[0m:\u001b[36m6\u001b[0m - \u001b[1mLoaded test: test/imags\u001b[0m\n",
      "\u001b[32m2024-11-10 10:51:11.137\u001b[0m | \u001b[1mINFO    \u001b[0m | \u001b[36m__main__\u001b[0m:\u001b[36m<module>\u001b[0m:\u001b[36m9\u001b[0m - \u001b[1mLoaded model: clip-ViT-B-16\u001b[0m\n",
      " 49%|████▊     | 55/113 [00:10<00:12,  4.62it/s]"
     ]
    }
   ],
   "source": [
    "with open(config_path, 'r') as file:\n",
    "    config = yaml.safe_load(file)\n",
    "logger.info(\"Loaded configuration from {}\", config_path)\n",
    "\n",
    "test_images = load_images_from_folder(config['test_images_folder'])\n",
    "logger.info(\"Loaded test: {}\", config['test_images_folder'])\n",
    "\n",
    "model = SentenceTransformer(config['model_name'])\n",
    "logger.info(\"Loaded model: {}\", config['model_name'])\n",
    "\n",
    "test_embeddings = vectorize_images(test_images, model)\n",
    "\n",
    "save_embeddings(test_embeddings, 'test_emb', config['emb_output_folder'])\n",
    "\n",
    "logger.info(\"Saved embeddings for test images.\")\n"
   ]
  },
  {
   "cell_type": "markdown",
   "metadata": {},
   "source": [
    "# Сегментация"
   ]
  },
  {
   "cell_type": "code",
   "execution_count": 5,
   "metadata": {},
   "outputs": [],
   "source": [
    "class Segmentation:\n",
    "    def __init__(self, weights_yolo_seg_path: str):\n",
    "        self.model_seg = YOLO(weights_yolo_seg_path)\n",
    "        \n",
    "    def get_segmentation(self) -> None:\n",
    "        result = self.model_seg(self.image, conf=0.7)   \n",
    "        if len(result[0]):\n",
    "            object_masks = np.array(result[0].masks.xy, dtype=object)\n",
    "            self.data[\"segment_points\"] = object_masks \n",
    "        else:\n",
    "            self.data[\"segment_points\"] = []\n",
    "\n",
    "    def make_filter_detect(self):\n",
    "        image = np.array(self.image)\n",
    "        mask = self.data[\"mask\"]\n",
    "        mask_bin = (mask > 0).astype(np.uint8) * 255\n",
    "        contours, _ = cv2.findContours(mask_bin, cv2.RETR_EXTERNAL, cv2.CHAIN_APPROX_SIMPLE)\n",
    "        cv2.drawContours(image, contours, -1, (0, 0, 255), thickness=5)\n",
    "        mask = np.repeat(mask[:, :, np.newaxis], 3, axis=2)\n",
    "        mask = 0.5 * (mask > 0) + 0.5\n",
    "        new_image = (image * mask).astype(\"int32\")\n",
    "        cv2.imwrite('output_image.jpg', new_image)"
   ]
  },
  {
   "cell_type": "markdown",
   "metadata": {},
   "source": [
    "## Детекця"
   ]
  },
  {
   "cell_type": "code",
   "execution_count": 6,
   "metadata": {},
   "outputs": [],
   "source": [
    "class Detection:\n",
    "    def __init__(self, weights_yolo_det_path: str):\n",
    "        self.model_det = YOLO(weights_yolo_det_path)\n",
    "        \n",
    "    def get_detection(self) -> None:\n",
    "        result = self.model_det(self.image)\n",
    "        if len(result[0]):\n",
    "            object_box = np.array(result[0].boxes.xywhn.to(\"cpu\").detach().numpy(), dtype=object)\n",
    "            self.data[\"box_xywhn\"] = ['\\n'.join([f\"{0} {x} {y} {w} {h}\" for x, y, w, h in object_box])]\n",
    "        else:\n",
    "            self.data[\"box_xywhn\"] = []"
   ]
  },
  {
   "cell_type": "markdown",
   "metadata": {},
   "source": [
    "## OCR"
   ]
  },
  {
   "cell_type": "code",
   "execution_count": 7,
   "metadata": {},
   "outputs": [],
   "source": [
    "class OCR(Segmentation, Detection):\n",
    "    def __init__(self, \n",
    "                 weights_yolo_seg_path: str, \n",
    "                 weights_yolo_det_path: str,\n",
    "                 image: Image.Image):\n",
    "        Segmentation.__init__(self, weights_yolo_seg_path)\n",
    "        Detection.__init__(self, weights_yolo_det_path)\n",
    "        self.ocr = PaddleOCR(use_gpu=True, lang=\"en\")  \n",
    "        self.image = image\n",
    "        self.data = {}\n",
    "        self.get_segmentation()\n",
    "        self.get_detection()\n",
    "        self.crop_one_img()\n",
    "        self.ocr_one_img()\n",
    "        self.make_filter_detect()\n",
    "\n",
    "    def get_mask(self) -> np.array:\n",
    "        mask = np.zeros((self.image.size[1], self.image.size[0]), dtype=np.uint8)\n",
    "        for object in self.data[\"segment_points\"]:\n",
    "            points = np.array(\n",
    "                [[x, y] for x, y in object], dtype=np.int32\n",
    "            )\n",
    "            mask = cv2.fillPoly(mask, [points], color=255)\n",
    "        self.data[\"mask\"] = mask\n",
    "        \n",
    "        return mask\n",
    "    \n",
    "    def crop_one_img(self) -> None:\n",
    "        mask = (np.array(self.get_mask()) > 0)\n",
    "        mask = np.expand_dims(mask, axis=-1)\n",
    "        image = self.image * mask\n",
    "        if len(self.data[\"segment_points\"]):\n",
    "            x = np.array([x for obj in self.data[\"segment_points\"] for x, y in obj])\n",
    "            y = np.array([y for obj in self.data[\"segment_points\"] for x, y in obj])\n",
    "            x_min, x_max = int(min(x)), int(max(x))\n",
    "            y_min, y_max = int(min(y)), int(max(y))\n",
    "            self.data[\"crop_img\"] = image[y_min:y_max, x_min:x_max, :]\n",
    "        else:\n",
    "            self.data[\"crop_img\"] = image\n",
    "    \n",
    "    def ocr_one_img(self) -> None:\n",
    "        crop_image = np.array(self.data[\"crop_img\"])\n",
    "        orig_image = np.array(self.image)\n",
    "\n",
    "        # result = self.ocr.ocr(crop_image, rec=True)\n",
    "        # if result[0]:\n",
    "        #     self.data[\"rec_crop\"] = [line[1][0] for line in result[0]]\n",
    "        # else:\n",
    "        #     self.data[\"rec_crop\"] = [\"None\"]\n",
    "\n",
    "        result = self.ocr.ocr(orig_image, rec=True)\n",
    "        if result[0]:\n",
    "            self.data[\"rec_orig\"] = [line[1][0] for line in result[0]]\n",
    "        else:\n",
    "            self.data[\"rec_orig\"] = [\"None\"]\n",
    "\n",
    "    def get_text(self) -> Dict[str, List[str]]:\n",
    "        dict_text = {\n",
    "            \"text_orig_img\": self.data[\"rec_orig\"],\n",
    "            # \"text_crop_img\": self.data[\"rec_crop\"],\n",
    "        }\n",
    "        return dict_text"
   ]
  },
  {
   "cell_type": "code",
   "execution_count": 8,
   "metadata": {},
   "outputs": [],
   "source": [
    "@dataclass\n",
    "class PredictResult:\n",
    "    raw_text: str = None\n",
    "    # image in bytes with boxes and text on it\n",
    "    pred_img: str = None\n",
    "    # unknow data from excel, None if search_in_data is False\n",
    "    attribute1: str | None = None\n",
    "    attribute2: str | None = None\n",
    "    attribute3: str | None = None\n",
    "\n",
    "class BaseModel(abc.ABC):\n",
    "\n",
    "    @abc.abstractmethod\n",
    "    def predict(\n",
    "        self, image: Image.Image, search_in_data: bool, dist_threshold: float\n",
    "    ) -> PredictResult:\n",
    "        \"\"\"Get predict from ML OCR Model\n",
    "\n",
    "        Parameters\n",
    "        ----------\n",
    "        images : Image.Image\n",
    "            List with images to be predicted\n",
    "        search_in_data : bool\n",
    "            Flag, if true, get missing data from excel file\n",
    "        dist_threshold : float\n",
    "            Distance threshold to cut out unknown images\n",
    "\n",
    "        Returns\n",
    "        -------\n",
    "        PredictResult\n",
    "            If search_in_data is True, returns full data from excel\n",
    "            If False, return only OCR result\n",
    "        \"\"\"\n",
    "        pass"
   ]
  },
  {
   "cell_type": "code",
   "execution_count": 9,
   "metadata": {},
   "outputs": [],
   "source": [
    "class OcrBD():\n",
    "\n",
    "    def __init__(self) -> None:\n",
    "        self.model = SentenceTransformer(\"clip-ViT-B-16\")\n",
    "        self.emb_output_folder = \"embeddings_vit\"\n",
    "        self.test_images_folder = \"test/images\"\n",
    "        self.train_labels_folder = \"train/labels\"\n",
    "        self.train_labels_with_text_folder = \"train/labels_with_text\"\n",
    "        self.config_path = \"config.yaml\"\n",
    "        with open(self.config_path, 'r') as file:\n",
    "            self.config = yaml.safe_load(file)\n",
    "        logger.info(\"Loaded configuration from {}\", self.config_path)\n",
    "\n",
    "\n",
    "    def load_embeddings_from_folder(self, folder: str) -> tuple[List[np.ndarray], List[np.ndarray]]:\n",
    "        for filename in os.listdir(folder):\n",
    "            emb_path = os.path.join(folder, filename)\n",
    "    \n",
    "            if os.path.isfile(emb_path):\n",
    "                with open(emb_path, 'rb') as f:\n",
    "                    embedding = pickle.load(f)\n",
    "    \n",
    "                    if 'test' in filename.lower():\n",
    "                        test_embeddings = embedding\n",
    "                    elif 'train' in filename.lower():\n",
    "                        train_embeddings = embedding\n",
    "    \n",
    "        return train_embeddings\n",
    "        \n",
    "    def vectorize_img(self, image: Image.Image) -> np.ndarray:\n",
    "        return [self.model.encode(image)]\n",
    "\n",
    "    def load_image_filenames(self, images_folder: str) -> List[str]:\n",
    "        image_filenames = []\n",
    "        for filename in sorted(os.listdir(images_folder)):\n",
    "            if filename.lower().endswith(('png', 'jpg', 'jpeg', 'bmp', 'gif', 'bbox', 'txt')): \n",
    "                image_filenames.append(filename)\n",
    "        return image_filenames\n",
    "\n",
    "    def find_nearest_neighbors(self,\n",
    "                               test_embeddings: List[np.ndarray], \n",
    "                               train_embeddings: List[np.ndarray], \n",
    "                               n_neighbors: int, \n",
    "                               threshold: float) -> List[List[int]]:\n",
    "        test_embeddings = np.array(test_embeddings)\n",
    "        train_embeddings = np.array(train_embeddings)\n",
    "        nn = NearestNeighbors(n_neighbors=n_neighbors, algorithm='ball_tree')\n",
    "        nn.fit(train_embeddings)  \n",
    "        \n",
    "        neighbors_indices = []\n",
    "        for test_emb in test_embeddings:\n",
    "            distances, indices = nn.kneighbors([test_emb])  \n",
    "            valid_indices = [idx for dist, idx in zip(distances[0], indices[0]) if dist < threshold]\n",
    "            \n",
    "            if valid_indices:\n",
    "                neighbors_indices.append(valid_indices[0])\n",
    "            else:\n",
    "                neighbors_indices.append(None)\n",
    "    \n",
    "        return neighbors_indices \n",
    "        \n",
    "    def load_labels(self, labels_folder: str, file_extension: str, train_filenames: List[str]) -> List[str]:\n",
    "        labels = []\n",
    "        train_filenames_base = [filename.split('.')[0] for filename in train_filenames]\n",
    "        \n",
    "        for filename in sorted(os.listdir(labels_folder)):\n",
    "            if filename.split('.')[-1] == file_extension.lstrip('.') and filename.split('.')[0] in train_filenames_base:\n",
    "                with open(os.path.join(labels_folder, filename), 'r') as file:\n",
    "                    # Читаем строки и добавляем `\\n`, если его нет\n",
    "                    content = ''.join(line if line.endswith('\\n') else line + '\\n' for line in file.readlines())\n",
    "                    labels.append(content)\n",
    "                    \n",
    "        return labels\n",
    "\n",
    "    def predict(self, image: Image.Image, search_in_data: bool, dist_threshold: float) -> PredictResult:\n",
    "        config = self.config\n",
    "    \n",
    "        train_embeddings = self.load_embeddings_from_folder(config['emb_output_folder'])\n",
    "        test_embedings = self.vectorize_img(image)\n",
    "        \n",
    "        logger.info(\"Embeddings were read\")\n",
    "    \n",
    "        test_filenames = self.load_image_filenames(config['test_images_folder'])\n",
    "        train_filenames = self.load_image_filenames(config['train_images_folder'])\n",
    "    \n",
    "        train_labels = self.load_labels(config['train_labels_folder'], '.txt', train_filenames)\n",
    "        train_labels_with_text = self.load_labels(config['train_labels_with_text_folder'], '.bbox', train_filenames)\n",
    "        logger.info(\"train_labels and train_labels_with_text were read\")\n",
    "        \n",
    "        logger.info(\"Test image filenames were read\")\n",
    "    \n",
    "        n_neighbors = config['n_neighbors']\n",
    "        threshold = config['threshold']\n",
    "        nearest_neighbors = self.find_nearest_neighbors(test_embedings, train_embeddings, n_neighbors, threshold)\n",
    "        logger.info(f\"Neighbours were found - {nearest_neighbors}\")\n",
    "        results = []\n",
    "        for test_idx, neighbors in enumerate(nearest_neighbors):\n",
    "            if 1 == 1:\n",
    "                neighbor_idx = neighbors \n",
    "                results.append([\n",
    "                    test_idx, \n",
    "                    train_labels[neighbor_idx], \n",
    "                    train_labels_with_text[neighbor_idx],\n",
    "                    train_filenames[neighbor_idx],\n",
    "                ])\n",
    "            else:\n",
    "                results.append([\n",
    "                    test_filenames[test_idx],  \n",
    "                    None,  \n",
    "                    None,\n",
    "                    None\n",
    "                ])\n",
    "\n",
    "        df = pd.DataFrame(results, columns=['Test_Embedding', 'Label', 'Label_With_Text', 'Neighbour'])\n",
    "        df[\"Label_With_Text\"] = df[\"Label_With_Text\"].map(lambda x: x[:-1])\n",
    "        # df.to_excel(config['output_excel'], index=False)\n",
    "        # logger.info(\"Saved results to Excel: {}\", config['output_excel'])\n",
    "        return df"
   ]
  },
  {
   "cell_type": "code",
   "execution_count": 10,
   "metadata": {},
   "outputs": [],
   "source": [
    "def replace_words_by_similarity(label_text: str, text_list: List[str]) -> str:\n",
    "    words = label_text.split()\n",
    "    replaced_words = []\n",
    "    for word in words:\n",
    "        candidates = [text for text in text_list if text != \"None\" and len(text) == len(word)]\n",
    "        if candidates:\n",
    "            closest_match = min(candidates, key=lambda x: Levenshtein.distance(word, x))\n",
    "            replaced_words.append(closest_match)\n",
    "        else:\n",
    "            replaced_words.append(word)\n",
    "    return ' '.join(replaced_words)"
   ]
  },
  {
   "cell_type": "code",
   "execution_count": 11,
   "metadata": {},
   "outputs": [],
   "source": [
    "class OcrPipeline(BaseModel):\n",
    "\n",
    "    def __init__(self) -> None:\n",
    "        self.weights_seg = \"./weights/best.pt\"\n",
    "        self.weights_det = \"./weights/best_det.pt\"\n",
    "\n",
    "    def predict(\n",
    "        self, image: Image.Image, search_in_data: bool, dist_threshold: float\n",
    "    ) -> PredictResult:\n",
    "        ocr = OCR(self.weights_seg, self.weights_det, image)\n",
    "        dict_text = ocr.get_text()\n",
    "        # box_coord = ocr.data[\"box_xywhn\"][0]\n",
    "        model_neighbour = OcrBD()\n",
    "        result = model_neighbour.predict(\n",
    "            image, search_in_data=False, dist_threshold=10.5\n",
    "        )\n",
    "\n",
    "        neighbour_text = result[\"Label_With_Text\"].iloc[0][1:-1]\n",
    "        box_coord = result[\"Label\"].iloc[0]\n",
    "        new_label_text = replace_words_by_similarity(neighbour_text, dict_text[\"text_orig_img\"])\n",
    "\n",
    "        return [box_coord, new_label_text] "
   ]
  },
  {
   "cell_type": "markdown",
   "metadata": {},
   "source": [
    "## Инференс "
   ]
  },
  {
   "cell_type": "code",
   "execution_count": 67,
   "metadata": {},
   "outputs": [
    {
     "name": "stderr",
     "output_type": "stream",
     "text": [
      "  0%|          | 0/113 [00:00<?, ?it/s]"
     ]
    },
    {
     "name": "stdout",
     "output_type": "stream",
     "text": [
      "\n",
      "0: 608x1088 (no detections), 427.6ms\n",
      "Speed: 7.7ms preprocess, 427.6ms inference, 0.8ms postprocess per image at shape (1, 3, 608, 1088)\n",
      "\n",
      "0: 384x640 1 0, 104.0ms\n",
      "Speed: 3.6ms preprocess, 104.0ms inference, 1.0ms postprocess per image at shape (1, 3, 384, 640)\n"
     ]
    },
    {
     "name": "stderr",
     "output_type": "stream",
     "text": [
      "\u001b[32m2024-11-10 10:50:23.621\u001b[0m | \u001b[1mINFO    \u001b[0m | \u001b[36m__main__\u001b[0m:\u001b[36m__init__\u001b[0m:\u001b[36m12\u001b[0m - \u001b[1mLoaded configuration from config.yaml\u001b[0m\n",
      "\u001b[32m2024-11-10 10:50:23.800\u001b[0m | \u001b[1mINFO    \u001b[0m | \u001b[36m__main__\u001b[0m:\u001b[36mpredict\u001b[0m:\u001b[36m81\u001b[0m - \u001b[1mEmbeddings were read\u001b[0m\n",
      "\u001b[32m2024-11-10 10:50:23.813\u001b[0m | \u001b[1mINFO    \u001b[0m | \u001b[36m__main__\u001b[0m:\u001b[36mpredict\u001b[0m:\u001b[36m88\u001b[0m - \u001b[1mtrain_labels and train_labels_with_text were read\u001b[0m\n",
      "\u001b[32m2024-11-10 10:50:23.813\u001b[0m | \u001b[1mINFO    \u001b[0m | \u001b[36m__main__\u001b[0m:\u001b[36mpredict\u001b[0m:\u001b[36m90\u001b[0m - \u001b[1mTest image filenames were read\u001b[0m\n",
      "\u001b[32m2024-11-10 10:50:23.818\u001b[0m | \u001b[1mINFO    \u001b[0m | \u001b[36m__main__\u001b[0m:\u001b[36mpredict\u001b[0m:\u001b[36m95\u001b[0m - \u001b[1mNeighbours were found - [171]\u001b[0m\n",
      "  1%|          | 1/113 [00:04<07:48,  4.19s/it]"
     ]
    },
    {
     "name": "stdout",
     "output_type": "stream",
     "text": [
      "\n",
      "0: 1088x832 2 2s, 635.0ms\n",
      "Speed: 14.3ms preprocess, 635.0ms inference, 6.7ms postprocess per image at shape (1, 3, 1088, 832)\n",
      "\n",
      "0: 640x480 1 0, 131.7ms\n",
      "Speed: 2.0ms preprocess, 131.7ms inference, 0.5ms postprocess per image at shape (1, 3, 640, 480)\n"
     ]
    },
    {
     "name": "stderr",
     "output_type": "stream",
     "text": [
      "\u001b[32m2024-11-10 10:50:27.557\u001b[0m | \u001b[1mINFO    \u001b[0m | \u001b[36m__main__\u001b[0m:\u001b[36m__init__\u001b[0m:\u001b[36m12\u001b[0m - \u001b[1mLoaded configuration from config.yaml\u001b[0m\n",
      "\u001b[32m2024-11-10 10:50:27.741\u001b[0m | \u001b[1mINFO    \u001b[0m | \u001b[36m__main__\u001b[0m:\u001b[36mpredict\u001b[0m:\u001b[36m81\u001b[0m - \u001b[1mEmbeddings were read\u001b[0m\n",
      "\u001b[32m2024-11-10 10:50:27.751\u001b[0m | \u001b[1mINFO    \u001b[0m | \u001b[36m__main__\u001b[0m:\u001b[36mpredict\u001b[0m:\u001b[36m88\u001b[0m - \u001b[1mtrain_labels and train_labels_with_text were read\u001b[0m\n",
      "\u001b[32m2024-11-10 10:50:27.753\u001b[0m | \u001b[1mINFO    \u001b[0m | \u001b[36m__main__\u001b[0m:\u001b[36mpredict\u001b[0m:\u001b[36m90\u001b[0m - \u001b[1mTest image filenames were read\u001b[0m\n",
      "\u001b[32m2024-11-10 10:50:27.757\u001b[0m | \u001b[1mINFO    \u001b[0m | \u001b[36m__main__\u001b[0m:\u001b[36mpredict\u001b[0m:\u001b[36m95\u001b[0m - \u001b[1mNeighbours were found - [65]\u001b[0m\n",
      "  2%|▏         | 2/113 [00:08<07:28,  4.04s/it]"
     ]
    },
    {
     "name": "stdout",
     "output_type": "stream",
     "text": [
      "\n",
      "0: 1088x832 1 2, 487.9ms\n",
      "Speed: 3.9ms preprocess, 487.9ms inference, 3.0ms postprocess per image at shape (1, 3, 1088, 832)\n",
      "\n",
      "0: 640x480 1 0, 111.0ms\n",
      "Speed: 1.3ms preprocess, 111.0ms inference, 0.6ms postprocess per image at shape (1, 3, 640, 480)\n"
     ]
    },
    {
     "name": "stderr",
     "output_type": "stream",
     "text": [
      "\u001b[32m2024-11-10 10:50:31.211\u001b[0m | \u001b[1mINFO    \u001b[0m | \u001b[36m__main__\u001b[0m:\u001b[36m__init__\u001b[0m:\u001b[36m12\u001b[0m - \u001b[1mLoaded configuration from config.yaml\u001b[0m\n",
      "\u001b[32m2024-11-10 10:50:31.456\u001b[0m | \u001b[1mINFO    \u001b[0m | \u001b[36m__main__\u001b[0m:\u001b[36mpredict\u001b[0m:\u001b[36m81\u001b[0m - \u001b[1mEmbeddings were read\u001b[0m\n",
      "\u001b[32m2024-11-10 10:50:31.466\u001b[0m | \u001b[1mINFO    \u001b[0m | \u001b[36m__main__\u001b[0m:\u001b[36mpredict\u001b[0m:\u001b[36m88\u001b[0m - \u001b[1mtrain_labels and train_labels_with_text were read\u001b[0m\n",
      "\u001b[32m2024-11-10 10:50:31.467\u001b[0m | \u001b[1mINFO    \u001b[0m | \u001b[36m__main__\u001b[0m:\u001b[36mpredict\u001b[0m:\u001b[36m90\u001b[0m - \u001b[1mTest image filenames were read\u001b[0m\n",
      "\u001b[32m2024-11-10 10:50:31.475\u001b[0m | \u001b[1mINFO    \u001b[0m | \u001b[36m__main__\u001b[0m:\u001b[36mpredict\u001b[0m:\u001b[36m95\u001b[0m - \u001b[1mNeighbours were found - [32]\u001b[0m\n",
      "  3%|▎         | 3/113 [00:11<07:11,  3.93s/it]"
     ]
    },
    {
     "name": "stdout",
     "output_type": "stream",
     "text": [
      "\n",
      "0: 1088x832 2 2s, 510.4ms\n",
      "Speed: 8.2ms preprocess, 510.4ms inference, 4.8ms postprocess per image at shape (1, 3, 1088, 832)\n",
      "\n",
      "0: 640x480 1 0, 123.9ms\n",
      "Speed: 1.1ms preprocess, 123.9ms inference, 0.5ms postprocess per image at shape (1, 3, 640, 480)\n"
     ]
    },
    {
     "name": "stderr",
     "output_type": "stream",
     "text": [
      "\u001b[32m2024-11-10 10:50:35.546\u001b[0m | \u001b[1mINFO    \u001b[0m | \u001b[36m__main__\u001b[0m:\u001b[36m__init__\u001b[0m:\u001b[36m12\u001b[0m - \u001b[1mLoaded configuration from config.yaml\u001b[0m\n",
      "\u001b[32m2024-11-10 10:50:35.816\u001b[0m | \u001b[1mINFO    \u001b[0m | \u001b[36m__main__\u001b[0m:\u001b[36mpredict\u001b[0m:\u001b[36m81\u001b[0m - \u001b[1mEmbeddings were read\u001b[0m\n",
      "\u001b[32m2024-11-10 10:50:35.828\u001b[0m | \u001b[1mINFO    \u001b[0m | \u001b[36m__main__\u001b[0m:\u001b[36mpredict\u001b[0m:\u001b[36m88\u001b[0m - \u001b[1mtrain_labels and train_labels_with_text were read\u001b[0m\n",
      "\u001b[32m2024-11-10 10:50:35.829\u001b[0m | \u001b[1mINFO    \u001b[0m | \u001b[36m__main__\u001b[0m:\u001b[36mpredict\u001b[0m:\u001b[36m90\u001b[0m - \u001b[1mTest image filenames were read\u001b[0m\n",
      "\u001b[32m2024-11-10 10:50:35.837\u001b[0m | \u001b[1mINFO    \u001b[0m | \u001b[36m__main__\u001b[0m:\u001b[36mpredict\u001b[0m:\u001b[36m95\u001b[0m - \u001b[1mNeighbours were found - [221]\u001b[0m\n",
      "  4%|▎         | 4/113 [00:16<07:24,  4.08s/it]"
     ]
    },
    {
     "name": "stdout",
     "output_type": "stream",
     "text": [
      "\n",
      "0: 832x1088 2 2s, 632.1ms\n",
      "Speed: 10.7ms preprocess, 632.1ms inference, 5.6ms postprocess per image at shape (1, 3, 832, 1088)\n",
      "\n",
      "0: 480x640 1 0, 137.8ms\n",
      "Speed: 3.3ms preprocess, 137.8ms inference, 0.4ms postprocess per image at shape (1, 3, 480, 640)\n"
     ]
    },
    {
     "name": "stderr",
     "output_type": "stream",
     "text": [
      "\u001b[32m2024-11-10 10:50:39.956\u001b[0m | \u001b[1mINFO    \u001b[0m | \u001b[36m__main__\u001b[0m:\u001b[36m__init__\u001b[0m:\u001b[36m12\u001b[0m - \u001b[1mLoaded configuration from config.yaml\u001b[0m\n",
      "\u001b[32m2024-11-10 10:50:40.129\u001b[0m | \u001b[1mINFO    \u001b[0m | \u001b[36m__main__\u001b[0m:\u001b[36mpredict\u001b[0m:\u001b[36m81\u001b[0m - \u001b[1mEmbeddings were read\u001b[0m\n",
      "\u001b[32m2024-11-10 10:50:40.139\u001b[0m | \u001b[1mINFO    \u001b[0m | \u001b[36m__main__\u001b[0m:\u001b[36mpredict\u001b[0m:\u001b[36m88\u001b[0m - \u001b[1mtrain_labels and train_labels_with_text were read\u001b[0m\n",
      "\u001b[32m2024-11-10 10:50:40.139\u001b[0m | \u001b[1mINFO    \u001b[0m | \u001b[36m__main__\u001b[0m:\u001b[36mpredict\u001b[0m:\u001b[36m90\u001b[0m - \u001b[1mTest image filenames were read\u001b[0m\n",
      "\u001b[32m2024-11-10 10:50:40.144\u001b[0m | \u001b[1mINFO    \u001b[0m | \u001b[36m__main__\u001b[0m:\u001b[36mpredict\u001b[0m:\u001b[36m95\u001b[0m - \u001b[1mNeighbours were found - [74]\u001b[0m\n",
      "  4%|▍         | 5/113 [00:20<07:28,  4.16s/it]"
     ]
    },
    {
     "name": "stdout",
     "output_type": "stream",
     "text": [
      "\n",
      "0: 1088x832 2 2s, 563.6ms\n",
      "Speed: 5.8ms preprocess, 563.6ms inference, 7.6ms postprocess per image at shape (1, 3, 1088, 832)\n",
      "\n",
      "0: 640x480 1 0, 100.2ms\n",
      "Speed: 2.7ms preprocess, 100.2ms inference, 1.4ms postprocess per image at shape (1, 3, 640, 480)\n"
     ]
    },
    {
     "name": "stderr",
     "output_type": "stream",
     "text": [
      "\u001b[32m2024-11-10 10:50:43.964\u001b[0m | \u001b[1mINFO    \u001b[0m | \u001b[36m__main__\u001b[0m:\u001b[36m__init__\u001b[0m:\u001b[36m12\u001b[0m - \u001b[1mLoaded configuration from config.yaml\u001b[0m\n",
      "\u001b[32m2024-11-10 10:50:44.162\u001b[0m | \u001b[1mINFO    \u001b[0m | \u001b[36m__main__\u001b[0m:\u001b[36mpredict\u001b[0m:\u001b[36m81\u001b[0m - \u001b[1mEmbeddings were read\u001b[0m\n",
      "\u001b[32m2024-11-10 10:50:44.172\u001b[0m | \u001b[1mINFO    \u001b[0m | \u001b[36m__main__\u001b[0m:\u001b[36mpredict\u001b[0m:\u001b[36m88\u001b[0m - \u001b[1mtrain_labels and train_labels_with_text were read\u001b[0m\n",
      "\u001b[32m2024-11-10 10:50:44.172\u001b[0m | \u001b[1mINFO    \u001b[0m | \u001b[36m__main__\u001b[0m:\u001b[36mpredict\u001b[0m:\u001b[36m90\u001b[0m - \u001b[1mTest image filenames were read\u001b[0m\n",
      "\u001b[32m2024-11-10 10:50:44.178\u001b[0m | \u001b[1mINFO    \u001b[0m | \u001b[36m__main__\u001b[0m:\u001b[36mpredict\u001b[0m:\u001b[36m95\u001b[0m - \u001b[1mNeighbours were found - [196]\u001b[0m\n",
      "  5%|▌         | 6/113 [00:24<07:19,  4.11s/it]"
     ]
    },
    {
     "name": "stdout",
     "output_type": "stream",
     "text": [
      "\n",
      "0: 832x1088 2 2s, 577.7ms\n",
      "Speed: 13.5ms preprocess, 577.7ms inference, 7.2ms postprocess per image at shape (1, 3, 832, 1088)\n",
      "\n",
      "0: 480x640 1 0, 145.6ms\n",
      "Speed: 1.7ms preprocess, 145.6ms inference, 1.3ms postprocess per image at shape (1, 3, 480, 640)\n"
     ]
    },
    {
     "name": "stderr",
     "output_type": "stream",
     "text": [
      "\u001b[32m2024-11-10 10:50:47.986\u001b[0m | \u001b[1mINFO    \u001b[0m | \u001b[36m__main__\u001b[0m:\u001b[36m__init__\u001b[0m:\u001b[36m12\u001b[0m - \u001b[1mLoaded configuration from config.yaml\u001b[0m\n",
      "\u001b[32m2024-11-10 10:50:48.215\u001b[0m | \u001b[1mINFO    \u001b[0m | \u001b[36m__main__\u001b[0m:\u001b[36mpredict\u001b[0m:\u001b[36m81\u001b[0m - \u001b[1mEmbeddings were read\u001b[0m\n",
      "\u001b[32m2024-11-10 10:50:48.227\u001b[0m | \u001b[1mINFO    \u001b[0m | \u001b[36m__main__\u001b[0m:\u001b[36mpredict\u001b[0m:\u001b[36m88\u001b[0m - \u001b[1mtrain_labels and train_labels_with_text were read\u001b[0m\n",
      "\u001b[32m2024-11-10 10:50:48.227\u001b[0m | \u001b[1mINFO    \u001b[0m | \u001b[36m__main__\u001b[0m:\u001b[36mpredict\u001b[0m:\u001b[36m90\u001b[0m - \u001b[1mTest image filenames were read\u001b[0m\n",
      "\u001b[32m2024-11-10 10:50:48.234\u001b[0m | \u001b[1mINFO    \u001b[0m | \u001b[36m__main__\u001b[0m:\u001b[36mpredict\u001b[0m:\u001b[36m95\u001b[0m - \u001b[1mNeighbours were found - [21]\u001b[0m\n",
      "  6%|▌         | 7/113 [00:28<07:14,  4.10s/it]"
     ]
    },
    {
     "name": "stdout",
     "output_type": "stream",
     "text": [
      "\n",
      "0: 1088x832 1 2, 601.0ms\n",
      "Speed: 6.1ms preprocess, 601.0ms inference, 2.9ms postprocess per image at shape (1, 3, 1088, 832)\n",
      "\n",
      "0: 640x480 1 0, 105.5ms\n",
      "Speed: 2.5ms preprocess, 105.5ms inference, 0.5ms postprocess per image at shape (1, 3, 640, 480)\n"
     ]
    },
    {
     "name": "stderr",
     "output_type": "stream",
     "text": [
      "\u001b[32m2024-11-10 10:50:52.507\u001b[0m | \u001b[1mINFO    \u001b[0m | \u001b[36m__main__\u001b[0m:\u001b[36m__init__\u001b[0m:\u001b[36m12\u001b[0m - \u001b[1mLoaded configuration from config.yaml\u001b[0m\n",
      "\u001b[32m2024-11-10 10:50:52.737\u001b[0m | \u001b[1mINFO    \u001b[0m | \u001b[36m__main__\u001b[0m:\u001b[36mpredict\u001b[0m:\u001b[36m81\u001b[0m - \u001b[1mEmbeddings were read\u001b[0m\n",
      "\u001b[32m2024-11-10 10:50:52.752\u001b[0m | \u001b[1mINFO    \u001b[0m | \u001b[36m__main__\u001b[0m:\u001b[36mpredict\u001b[0m:\u001b[36m88\u001b[0m - \u001b[1mtrain_labels and train_labels_with_text were read\u001b[0m\n",
      "\u001b[32m2024-11-10 10:50:52.755\u001b[0m | \u001b[1mINFO    \u001b[0m | \u001b[36m__main__\u001b[0m:\u001b[36mpredict\u001b[0m:\u001b[36m90\u001b[0m - \u001b[1mTest image filenames were read\u001b[0m\n",
      "\u001b[32m2024-11-10 10:50:52.761\u001b[0m | \u001b[1mINFO    \u001b[0m | \u001b[36m__main__\u001b[0m:\u001b[36mpredict\u001b[0m:\u001b[36m95\u001b[0m - \u001b[1mNeighbours were found - [38]\u001b[0m\n",
      "  7%|▋         | 8/113 [00:33<07:25,  4.25s/it]"
     ]
    },
    {
     "name": "stdout",
     "output_type": "stream",
     "text": [
      "\n",
      "0: 832x1088 2 2s, 504.9ms\n",
      "Speed: 4.4ms preprocess, 504.9ms inference, 5.3ms postprocess per image at shape (1, 3, 832, 1088)\n",
      "\n",
      "0: 480x640 1 0, 123.0ms\n",
      "Speed: 1.5ms preprocess, 123.0ms inference, 1.0ms postprocess per image at shape (1, 3, 480, 640)\n"
     ]
    },
    {
     "name": "stderr",
     "output_type": "stream",
     "text": [
      "\u001b[32m2024-11-10 10:50:56.560\u001b[0m | \u001b[1mINFO    \u001b[0m | \u001b[36m__main__\u001b[0m:\u001b[36m__init__\u001b[0m:\u001b[36m12\u001b[0m - \u001b[1mLoaded configuration from config.yaml\u001b[0m\n",
      "\u001b[32m2024-11-10 10:50:56.751\u001b[0m | \u001b[1mINFO    \u001b[0m | \u001b[36m__main__\u001b[0m:\u001b[36mpredict\u001b[0m:\u001b[36m81\u001b[0m - \u001b[1mEmbeddings were read\u001b[0m\n",
      "\u001b[32m2024-11-10 10:50:56.762\u001b[0m | \u001b[1mINFO    \u001b[0m | \u001b[36m__main__\u001b[0m:\u001b[36mpredict\u001b[0m:\u001b[36m88\u001b[0m - \u001b[1mtrain_labels and train_labels_with_text were read\u001b[0m\n",
      "\u001b[32m2024-11-10 10:50:56.762\u001b[0m | \u001b[1mINFO    \u001b[0m | \u001b[36m__main__\u001b[0m:\u001b[36mpredict\u001b[0m:\u001b[36m90\u001b[0m - \u001b[1mTest image filenames were read\u001b[0m\n",
      "\u001b[32m2024-11-10 10:50:56.767\u001b[0m | \u001b[1mINFO    \u001b[0m | \u001b[36m__main__\u001b[0m:\u001b[36mpredict\u001b[0m:\u001b[36m95\u001b[0m - \u001b[1mNeighbours were found - [74]\u001b[0m\n",
      "  8%|▊         | 9/113 [00:37<07:12,  4.16s/it]"
     ]
    },
    {
     "name": "stdout",
     "output_type": "stream",
     "text": [
      "\n",
      "0: 1088x832 1 2, 478.4ms\n",
      "Speed: 6.7ms preprocess, 478.4ms inference, 4.1ms postprocess per image at shape (1, 3, 1088, 832)\n",
      "\n",
      "0: 640x480 1 0, 160.7ms\n",
      "Speed: 5.7ms preprocess, 160.7ms inference, 0.5ms postprocess per image at shape (1, 3, 640, 480)\n"
     ]
    }
   ],
   "source": [
    "model = OcrPipeline()\n",
    "ans = pd.DataFrame()\n",
    "res_arr = []\n",
    "for img_path in tqdm(os.listdir(config[\"test_images_folder\"])):\n",
    "    if img_path.split(\".\")[-1].lower() in [\"jpg\", \"png\", \"jpeg\"]:\n",
    "        image = Image.open(os.path.join(config[\"test_images_folder\"], img_path))\n",
    "        result = [img_path]\n",
    "        result += model.predict(image, search_in_data=False, dist_threshold=10.5)\n",
    "        res_arr.append(result)"
   ]
  },
  {
   "cell_type": "code",
   "execution_count": 68,
   "metadata": {},
   "outputs": [],
   "source": [
    "final_df = pd.DataFrame(res_arr, columns=[\"image_file\", \"label\", \"label_text\"])\n",
    "final_df[\"label_text\"] = final_df[\"label_text\"].map(lambda x: '\"'+x+'\"')"
   ]
  },
  {
   "cell_type": "code",
   "execution_count": 69,
   "metadata": {},
   "outputs": [],
   "source": [
    "final_df.to_csv(\"submission.csv\", index=False)"
   ]
  },
  {
   "cell_type": "code",
   "execution_count": null,
   "metadata": {},
   "outputs": [],
   "source": []
  }
 ],
 "metadata": {
  "kernelspec": {
   "display_name": "Python 3",
   "language": "python",
   "name": "python3"
  },
  "language_info": {
   "codemirror_mode": {
    "name": "ipython",
    "version": 3
   },
   "file_extension": ".py",
   "mimetype": "text/x-python",
   "name": "python",
   "nbconvert_exporter": "python",
   "pygments_lexer": "ipython3",
   "version": "3.11.9"
  }
 },
 "nbformat": 4,
 "nbformat_minor": 2
}
