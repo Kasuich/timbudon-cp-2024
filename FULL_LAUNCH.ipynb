{
 "cells": [
  {
   "cell_type": "markdown",
   "metadata": {},
   "source": [
    "# Полный запуск решения\n",
    "\n",
    "## Импорт библиотек"
   ]
  },
  {
   "cell_type": "code",
   "execution_count": 36,
   "metadata": {},
   "outputs": [],
   "source": [
    "import io\n",
    "import os\n",
    "import pickle\n",
    "import yaml\n",
    "from typing import List, Dict\n",
    "from pathlib import Path\n",
    "\n",
    "import pandas as pd\n",
    "import numpy as np\n",
    "from PIL import Image\n",
    "from sentence_transformers import SentenceTransformer\n",
    "from loguru import logger\n",
    "from tqdm import tqdm\n",
    "from sklearn.neighbors import NearestNeighbors\n",
    "import logging\n",
    "import warnings\n",
    "\n",
    "import Levenshtein\n",
    "os.environ['TF_CPP_MIN_LOG_LEVEL'] = '3'\n",
    "from ultralytics import YOLO\n",
    "from sklearn.neighbors import NearestNeighbors\n",
    "import cv2\n",
    "from dataclasses import dataclass\n",
    "import abc\n",
    "from paddleocr import PaddleOCR\n",
    "from sklearn.metrics import accuracy_score, pairwise_distances\n",
    "\n",
    "config_path = 'config.yaml'"
   ]
  },
  {
   "cell_type": "code",
   "execution_count": 37,
   "metadata": {},
   "outputs": [],
   "source": [
    "warnings.filterwarnings(\"ignore\")\n",
    "logging.getLogger(\"ppocr\").setLevel(logging.ERROR)\n",
    "\n",
    "\n",
    "os.makedirs(\"weights/embed\", exist_ok=True)\n",
    "os.makedirs(\"test/imags\", exist_ok=True)"
   ]
  },
  {
   "cell_type": "markdown",
   "metadata": {},
   "source": [
    "## Для дальнейшей работы, нужно скачать веса, и положить в нужные папки\n",
    "train_embed положить в weights/embeded  \n",
    "https://drive.google.com/file/d/154jS1mS7ca43gm1eSu_DhzP7Y7f7eCHU/view?usp=sharing\n",
    "\n",
    "segmentation.pt положить в weights/  \n",
    "https://drive.google.com/file/d/1Rssq6iwe8ExxcSG7hnjz1UZiieUDkwVh/view?usp=sharing\n",
    "\n",
    "best_det.pt положить в weights/  \n",
    "https://drive.google.com/file/d/10sPV7AW10ugb_oIjbPES5bUWP3wDRn1J/view?usp=sharing"
   ]
  },
  {
   "cell_type": "markdown",
   "metadata": {},
   "source": [
    "# Тестовые фотографи следует положить в папку test/imags !"
   ]
  },
  {
   "cell_type": "markdown",
   "metadata": {},
   "source": [
    "## Получение Эмбедингов для тестовых фото"
   ]
  },
  {
   "cell_type": "code",
   "execution_count": 50,
   "metadata": {},
   "outputs": [],
   "source": [
    "def load_images_from_folder(output_folder: str) -> List[np.ndarray]:\n",
    "    \n",
    "    frame_files = sorted(os.listdir(output_folder))\n",
    "    frames = []\n",
    "    for frame_file in frame_files:\n",
    "        frame_path = os.path.join(output_folder, frame_file)\n",
    "        if os.path.isfile(frame_path) and frame_file.lower().endswith(('.png', '.jpg', '.jpeg', '.gif', '.bmp')):\n",
    "            try:\n",
    "                img = Image.open(frame_path)\n",
    "                frames.append(np.array(img))\n",
    "            except Exception as e:\n",
    "                logger.eror(f\"Error opening {frame_path}: {e}\")\n",
    "        else:\n",
    "            logger.eror(f\"Skipping directory or non-image file: {frame_path}\")\n",
    "    \n",
    "    return frames\n",
    "\n",
    "def save_embeddings(embeddings, filename, output_folder):\n",
    "    output_path = Path(output_folder) / f\"{filename}.pkl\"\n",
    "    with open(output_path, 'wb') as f:\n",
    "        pickle.dump(embeddings, f)\n",
    "    logger.info(f\"Saved embeddings to {output_path}\")\n",
    "\n",
    "def vectorize_images(images: List[np.ndarray], model: SentenceTransformer) -> List[np.ndarray]:\n",
    "    return [model.encode(Image.fromarray(img)) for img in tqdm(images)]"
   ]
  },
  {
   "cell_type": "code",
   "execution_count": 51,
   "metadata": {},
   "outputs": [
    {
     "name": "stderr",
     "output_type": "stream",
     "text": [
      "\u001b[32m2024-11-10 09:02:19.782\u001b[0m | \u001b[1mINFO    \u001b[0m | \u001b[36m__main__\u001b[0m:\u001b[36m<module>\u001b[0m:\u001b[36m3\u001b[0m - \u001b[1mLoaded configuration from config.yaml\u001b[0m\n",
      "\u001b[32m2024-11-10 09:02:21.660\u001b[0m | \u001b[1mINFO    \u001b[0m | \u001b[36m__main__\u001b[0m:\u001b[36m<module>\u001b[0m:\u001b[36m6\u001b[0m - \u001b[1mLoaded test: test/imags\u001b[0m\n",
      "\u001b[32m2024-11-10 09:02:22.957\u001b[0m | \u001b[1mINFO    \u001b[0m | \u001b[36m__main__\u001b[0m:\u001b[36m<module>\u001b[0m:\u001b[36m9\u001b[0m - \u001b[1mLoaded model: clip-ViT-B-16\u001b[0m\n",
      "100%|██████████| 113/113 [00:18<00:00,  6.24it/s]\n",
      "\u001b[32m2024-11-10 09:02:41.082\u001b[0m | \u001b[1mINFO    \u001b[0m | \u001b[36m__main__\u001b[0m:\u001b[36msave_embeddings\u001b[0m:\u001b[36m22\u001b[0m - \u001b[1mSaved embeddings to weights/embed/test_emb.pkl\u001b[0m\n",
      "\u001b[32m2024-11-10 09:02:41.083\u001b[0m | \u001b[1mINFO    \u001b[0m | \u001b[36m__main__\u001b[0m:\u001b[36m<module>\u001b[0m:\u001b[36m15\u001b[0m - \u001b[1mSaved embeddings for test images.\u001b[0m\n"
     ]
    }
   ],
   "source": [
    "with open(config_path, 'r') as file:\n",
    "    config = yaml.safe_load(file)\n",
    "logger.info(\"Loaded configuration from {}\", config_path)\n",
    "\n",
    "test_images = load_images_from_folder(config['test_images_folder'])\n",
    "logger.info(\"Loaded test: {}\", config['test_images_folder'])\n",
    "\n",
    "model = SentenceTransformer(config['model_name'])\n",
    "logger.info(\"Loaded model: {}\", config['model_name'])\n",
    "\n",
    "test_embeddings = vectorize_images(test_images, model)\n",
    "\n",
    "save_embeddings(test_embeddings, 'test_emb', config['emb_output_folder'])\n",
    "\n",
    "logger.info(\"Saved embeddings for test images.\")\n"
   ]
  },
  {
   "cell_type": "markdown",
   "metadata": {},
   "source": [
    "# Сегментация"
   ]
  },
  {
   "cell_type": "code",
   "execution_count": 52,
   "metadata": {},
   "outputs": [],
   "source": [
    "class Segmentation:\n",
    "    def __init__(self, weights_yolo_seg_path: str):\n",
    "        self.model_seg = YOLO(weights_yolo_seg_path)\n",
    "        \n",
    "    def get_segmentation(self) -> None:\n",
    "        result = self.model_seg(self.image, conf=0.7)   \n",
    "        if len(result[0]):\n",
    "            object_masks = np.array(result[0].masks.xy, dtype=object)\n",
    "            self.data[\"segment_points\"] = object_masks \n",
    "        else:\n",
    "            self.data[\"segment_points\"] = []\n",
    "\n",
    "    def make_filter_detect(self):\n",
    "        image = np.array(self.image)\n",
    "        mask = self.data[\"mask\"]\n",
    "        mask_bin = (mask > 0).astype(np.uint8) * 255\n",
    "        contours, _ = cv2.findContours(mask_bin, cv2.RETR_EXTERNAL, cv2.CHAIN_APPROX_SIMPLE)\n",
    "        cv2.drawContours(image, contours, -1, (0, 0, 255), thickness=5)\n",
    "        mask = np.repeat(mask[:, :, np.newaxis], 3, axis=2)\n",
    "        mask = 0.5 * (mask > 0) + 0.5\n",
    "        new_image = (image * mask).astype(\"int32\")\n",
    "        cv2.imwrite('output_image.jpg', new_image)"
   ]
  },
  {
   "cell_type": "markdown",
   "metadata": {},
   "source": [
    "## Детекця"
   ]
  },
  {
   "cell_type": "code",
   "execution_count": 53,
   "metadata": {},
   "outputs": [],
   "source": [
    "class Detection:\n",
    "    def __init__(self, weights_yolo_det_path: str):\n",
    "        self.model_det = YOLO(weights_yolo_det_path)\n",
    "        \n",
    "    def get_detection(self) -> None:\n",
    "        result = self.model_det(self.image)\n",
    "        if len(result[0]):\n",
    "            object_box = np.array(result[0].boxes.xywhn.to(\"cpu\").detach().numpy(), dtype=object)\n",
    "            self.data[\"box_xywhn\"] = ['\\n'.join([f\"{0} {x} {y} {w} {h}\" for x, y, w, h in object_box])]\n",
    "        else:\n",
    "            self.data[\"box_xywhn\"] = []"
   ]
  },
  {
   "cell_type": "markdown",
   "metadata": {},
   "source": [
    "## OCR"
   ]
  },
  {
   "cell_type": "code",
   "execution_count": 54,
   "metadata": {},
   "outputs": [],
   "source": [
    "class OCR(Segmentation, Detection):\n",
    "    def __init__(self, \n",
    "                 weights_yolo_seg_path: str, \n",
    "                 weights_yolo_det_path: str,\n",
    "                 image: Image.Image):\n",
    "        Segmentation.__init__(self, weights_yolo_seg_path)\n",
    "        Detection.__init__(self, weights_yolo_det_path)\n",
    "        self.ocr = PaddleOCR(use_gpu=True, lang=\"en\")  \n",
    "        self.image = image\n",
    "        self.data = {}\n",
    "        self.get_segmentation()\n",
    "        self.get_detection()\n",
    "        self.crop_one_img()\n",
    "        self.ocr_one_img()\n",
    "        self.make_filter_detect()\n",
    "\n",
    "    def get_mask(self) -> np.array:\n",
    "        mask = np.zeros((self.image.size[1], self.image.size[0]), dtype=np.uint8)\n",
    "        for object in self.data[\"segment_points\"]:\n",
    "            points = np.array(\n",
    "                [[x, y] for x, y in object], dtype=np.int32\n",
    "            )\n",
    "            mask = cv2.fillPoly(mask, [points], color=255)\n",
    "        self.data[\"mask\"] = mask\n",
    "        \n",
    "        return mask\n",
    "    \n",
    "    def crop_one_img(self) -> None:\n",
    "        mask = (np.array(self.get_mask()) > 0)\n",
    "        mask = np.expand_dims(mask, axis=-1)\n",
    "        image = self.image * mask\n",
    "        if len(self.data[\"segment_points\"]):\n",
    "            x = np.array([x for obj in self.data[\"segment_points\"] for x, y in obj])\n",
    "            y = np.array([y for obj in self.data[\"segment_points\"] for x, y in obj])\n",
    "            x_min, x_max = int(min(x)), int(max(x))\n",
    "            y_min, y_max = int(min(y)), int(max(y))\n",
    "            self.data[\"crop_img\"] = image[y_min:y_max, x_min:x_max, :]\n",
    "        else:\n",
    "            self.data[\"crop_img\"] = image\n",
    "    \n",
    "    def ocr_one_img(self) -> None:\n",
    "        crop_image = np.array(self.data[\"crop_img\"])\n",
    "        orig_image = np.array(self.image)\n",
    "\n",
    "        # result = self.ocr.ocr(crop_image, rec=True)\n",
    "        # if result[0]:\n",
    "        #     self.data[\"rec_crop\"] = [line[1][0] for line in result[0]]\n",
    "        # else:\n",
    "        #     self.data[\"rec_crop\"] = [\"None\"]\n",
    "\n",
    "        result = self.ocr.ocr(orig_image, rec=True)\n",
    "        if result[0]:\n",
    "            self.data[\"rec_orig\"] = [line[1][0] for line in result[0]]\n",
    "        else:\n",
    "            self.data[\"rec_orig\"] = [\"None\"]\n",
    "\n",
    "    def get_text(self) -> Dict[str, List[str]]:\n",
    "        dict_text = {\n",
    "            \"text_orig_img\": self.data[\"rec_orig\"],\n",
    "            # \"text_crop_img\": self.data[\"rec_crop\"],\n",
    "        }\n",
    "        return dict_text"
   ]
  },
  {
   "cell_type": "code",
   "execution_count": 55,
   "metadata": {},
   "outputs": [],
   "source": [
    "@dataclass\n",
    "class PredictResult:\n",
    "    raw_text: str = None\n",
    "    # image in bytes with boxes and text on it\n",
    "    pred_img: str = None\n",
    "    # unknow data from excel, None if search_in_data is False\n",
    "    attribute1: str | None = None\n",
    "    attribute2: str | None = None\n",
    "    attribute3: str | None = None\n",
    "\n",
    "class BaseModel(abc.ABC):\n",
    "\n",
    "    @abc.abstractmethod\n",
    "    def predict(\n",
    "        self, image: Image.Image, search_in_data: bool, dist_threshold: float\n",
    "    ) -> PredictResult:\n",
    "        \"\"\"Get predict from ML OCR Model\n",
    "\n",
    "        Parameters\n",
    "        ----------\n",
    "        images : Image.Image\n",
    "            List with images to be predicted\n",
    "        search_in_data : bool\n",
    "            Flag, if true, get missing data from excel file\n",
    "        dist_threshold : float\n",
    "            Distance threshold to cut out unknown images\n",
    "\n",
    "        Returns\n",
    "        -------\n",
    "        PredictResult\n",
    "            If search_in_data is True, returns full data from excel\n",
    "            If False, return only OCR result\n",
    "        \"\"\"\n",
    "        pass"
   ]
  },
  {
   "cell_type": "code",
   "execution_count": 62,
   "metadata": {},
   "outputs": [],
   "source": [
    "class OcrBD():\n",
    "\n",
    "    def __init__(self) -> None:\n",
    "        self.model = SentenceTransformer(\"clip-ViT-B-16\")\n",
    "        self.emb_output_folder = \"embeddings_vit\"\n",
    "        self.test_images_folder = \"test/images\"\n",
    "        self.train_labels_folder = \"train/labels\"\n",
    "        self.train_labels_with_text_folder = \"train/labels_with_text\"\n",
    "        self.config_path = \"config.yaml\"\n",
    "        with open(self.config_path, 'r') as file:\n",
    "            self.config = yaml.safe_load(file)\n",
    "        logger.info(\"Loaded configuration from {}\", self.config_path)\n",
    "\n",
    "\n",
    "    def load_embeddings_from_folder(self, folder: str) -> tuple[List[np.ndarray], List[np.ndarray]]:\n",
    "        for filename in os.listdir(folder):\n",
    "            emb_path = os.path.join(folder, filename)\n",
    "    \n",
    "            if os.path.isfile(emb_path):\n",
    "                with open(emb_path, 'rb') as f:\n",
    "                    embedding = pickle.load(f)\n",
    "    \n",
    "                    if 'test' in filename.lower():\n",
    "                        test_embeddings = embedding\n",
    "                    elif 'train' in filename.lower():\n",
    "                        train_embeddings = embedding\n",
    "    \n",
    "        return train_embeddings\n",
    "        \n",
    "    def vectorize_img(self, image: Image.Image) -> np.ndarray:\n",
    "        return [self.model.encode(image)]\n",
    "\n",
    "    def load_image_filenames(self, images_folder: str) -> List[str]:\n",
    "        image_filenames = []\n",
    "        for filename in sorted(os.listdir(images_folder)):\n",
    "            if filename.lower().endswith(('png', 'jpg', 'jpeg', 'bmp', 'gif', 'bbox', 'txt')): \n",
    "                image_filenames.append(filename)\n",
    "        return image_filenames\n",
    "\n",
    "    def find_nearest_neighbors(self,\n",
    "                               test_embeddings: List[np.ndarray], \n",
    "                               train_embeddings: List[np.ndarray], \n",
    "                               n_neighbors: int, \n",
    "                               threshold: float) -> List[List[int]]:\n",
    "        test_embeddings = np.array(test_embeddings)\n",
    "        train_embeddings = np.array(train_embeddings)\n",
    "        nn = NearestNeighbors(n_neighbors=n_neighbors, algorithm='ball_tree')\n",
    "        nn.fit(train_embeddings)  \n",
    "        \n",
    "        neighbors_indices = []\n",
    "        for test_emb in test_embeddings:\n",
    "            distances, indices = nn.kneighbors([test_emb])  \n",
    "            valid_indices = [idx for dist, idx in zip(distances[0], indices[0]) if dist > 0 and dist < threshold]\n",
    "            \n",
    "            if valid_indices:\n",
    "                neighbors_indices.append(valid_indices[0])\n",
    "            else:\n",
    "                neighbors_indices.append(None)\n",
    "    \n",
    "        return neighbors_indices \n",
    "        \n",
    "    def load_labels(self, labels_folder: str, file_extension: str, train_filenames: List[str]) -> List[str]:\n",
    "        labels = []\n",
    "        train_filenames_base = [filename.split('.')[0] for filename in train_filenames]\n",
    "        \n",
    "        for filename in sorted(os.listdir(labels_folder)):\n",
    "            if filename.split('.')[-1] == file_extension.lstrip('.') and filename.split('.')[0] in train_filenames_base:\n",
    "                with open(os.path.join(labels_folder, filename), 'r') as file:\n",
    "                    # Читаем строки и добавляем `\\n`, если его нет\n",
    "                    content = ''.join(line if line.endswith('\\n') else line + '\\n' for line in file.readlines())\n",
    "                    labels.append(content)\n",
    "                    \n",
    "        return labels\n",
    "\n",
    "    def predict(self, image: Image.Image, search_in_data: bool, dist_threshold: float) -> PredictResult:\n",
    "        config = self.config\n",
    "    \n",
    "        train_embeddings = self.load_embeddings_from_folder(config['emb_output_folder'])\n",
    "        test_embedings = self.vectorize_img(image)\n",
    "        \n",
    "        logger.info(\"Embeddings were read\")\n",
    "    \n",
    "        test_filenames = self.load_image_filenames(config['test_images_folder'])\n",
    "        train_filenames = self.load_image_filenames(config['train_images_folder'])\n",
    "    \n",
    "        train_labels = self.load_labels(config['train_labels_folder'], '.txt', train_filenames)\n",
    "        train_labels_with_text = self.load_labels(config['train_labels_with_text_folder'], '.bbox', train_filenames)\n",
    "        logger.info(\"train_labels and train_labels_with_text were read\")\n",
    "        \n",
    "        logger.info(\"Test image filenames were read\")\n",
    "    \n",
    "        n_neighbors = config['n_neighbors']\n",
    "        threshold = config['threshold']\n",
    "        nearest_neighbors = self.find_nearest_neighbors(test_embedings, train_embeddings, n_neighbors, threshold)\n",
    "        logger.info(f\"Neighbours were found - {nearest_neighbors}\")\n",
    "        results = []\n",
    "        for test_idx, neighbors in enumerate(nearest_neighbors):\n",
    "            if 1 == 1:\n",
    "                neighbor_idx = neighbors \n",
    "                results.append([\n",
    "                    test_idx, \n",
    "                    train_labels[neighbor_idx], \n",
    "                    train_labels_with_text[neighbor_idx],\n",
    "                    train_filenames[neighbor_idx],\n",
    "                ])\n",
    "            else:\n",
    "                results.append([\n",
    "                    test_filenames[test_idx],  \n",
    "                    None,  \n",
    "                    None,\n",
    "                    None\n",
    "                ])\n",
    "\n",
    "        df = pd.DataFrame(results, columns=['Test_Embedding', 'Label', 'Label_With_Text', 'Neighbour'])\n",
    "        df[\"Label_With_Text\"] = df[\"Label_With_Text\"].map(lambda x: x[:-1] if x is not None else x)\n",
    "        # df.to_excel(config['output_excel'], index=False)\n",
    "        # logger.info(\"Saved results to Excel: {}\", config['output_excel'])\n",
    "        return df"
   ]
  },
  {
   "cell_type": "code",
   "execution_count": 63,
   "metadata": {},
   "outputs": [],
   "source": [
    "def replace_words_by_similarity(label_text: str, text_list: List[str]) -> str:\n",
    "    words = label_text.split()\n",
    "    replaced_words = []\n",
    "    for word in words:\n",
    "        candidates = [text for text in text_list if text != \"None\" and len(text) == len(word)]\n",
    "        if candidates:\n",
    "            closest_match = min(candidates, key=lambda x: Levenshtein.distance(word, x))\n",
    "            replaced_words.append(closest_match)\n",
    "        else:\n",
    "            replaced_words.append(word)\n",
    "    return ' '.join(replaced_words)"
   ]
  },
  {
   "cell_type": "code",
   "execution_count": 66,
   "metadata": {},
   "outputs": [],
   "source": [
    "class OcrPipeline(BaseModel):\n",
    "\n",
    "    def __init__(self) -> None:\n",
    "        self.weights_seg = \"./weights/best.pt\"\n",
    "        self.weights_det = \"./weights/best_det.pt\"\n",
    "\n",
    "    def predict(\n",
    "        self, image: Image.Image, search_in_data: bool, dist_threshold: float\n",
    "    ) -> PredictResult:\n",
    "        ocr = OCR(self.weights_seg, self.weights_det, image)\n",
    "        dict_text = ocr.get_text()\n",
    "        box_coord = ocr.data[\"box_xywhn\"]\n",
    "        model_neighbour = OcrBD()\n",
    "        result = model_neighbour.predict(\n",
    "            image, search_in_data=False, dist_threshold=10.5\n",
    "        )\n",
    "\n",
    "        if result[\"Label_With_Text\"].iloc[0] is not None:\n",
    "            neighbour_text = result[\"Label_With_Text\"].iloc[0][1:-1]\n",
    "        else:\n",
    "            neighbour_text = \"\"  # or handle it in a way that makes sense for your application\n",
    "\n",
    "        new_label_text = replace_words_by_similarity(neighbour_text, dict_text[\"text_orig_img\"])\n",
    "        return [box_coord, new_label_text] "
   ]
  },
  {
   "cell_type": "markdown",
   "metadata": {},
   "source": [
    "## Инференс "
   ]
  },
  {
   "cell_type": "code",
   "execution_count": 67,
   "metadata": {},
   "outputs": [
    {
     "name": "stderr",
     "output_type": "stream",
     "text": [
      "  0%|          | 0/113 [00:00<?, ?it/s]"
     ]
    },
    {
     "name": "stdout",
     "output_type": "stream",
     "text": [
      "\n",
      "0: 608x1088 (no detections), 292.3ms\n",
      "Speed: 3.0ms preprocess, 292.3ms inference, 0.6ms postprocess per image at shape (1, 3, 608, 1088)\n",
      "\n",
      "0: 384x640 1 0, 82.4ms\n",
      "Speed: 1.7ms preprocess, 82.4ms inference, 0.4ms postprocess per image at shape (1, 3, 384, 640)\n"
     ]
    },
    {
     "name": "stderr",
     "output_type": "stream",
     "text": [
      "\u001b[32m2024-11-10 09:15:36.658\u001b[0m | \u001b[1mINFO    \u001b[0m | \u001b[36m__main__\u001b[0m:\u001b[36m__init__\u001b[0m:\u001b[36m12\u001b[0m - \u001b[1mLoaded configuration from config.yaml\u001b[0m\n",
      "\u001b[32m2024-11-10 09:15:36.826\u001b[0m | \u001b[1mINFO    \u001b[0m | \u001b[36m__main__\u001b[0m:\u001b[36mpredict\u001b[0m:\u001b[36m81\u001b[0m - \u001b[1mEmbeddings were read\u001b[0m\n",
      "\u001b[32m2024-11-10 09:15:36.835\u001b[0m | \u001b[1mINFO    \u001b[0m | \u001b[36m__main__\u001b[0m:\u001b[36mpredict\u001b[0m:\u001b[36m88\u001b[0m - \u001b[1mtrain_labels and train_labels_with_text were read\u001b[0m\n",
      "\u001b[32m2024-11-10 09:15:36.835\u001b[0m | \u001b[1mINFO    \u001b[0m | \u001b[36m__main__\u001b[0m:\u001b[36mpredict\u001b[0m:\u001b[36m90\u001b[0m - \u001b[1mTest image filenames were read\u001b[0m\n",
      "\u001b[32m2024-11-10 09:15:36.839\u001b[0m | \u001b[1mINFO    \u001b[0m | \u001b[36m__main__\u001b[0m:\u001b[36mpredict\u001b[0m:\u001b[36m95\u001b[0m - \u001b[1mNeighbours were found - [171]\u001b[0m\n",
      "  1%|          | 1/113 [00:02<05:02,  2.70s/it]"
     ]
    },
    {
     "name": "stdout",
     "output_type": "stream",
     "text": [
      "\n",
      "0: 1088x832 2 2s, 414.0ms\n",
      "Speed: 6.8ms preprocess, 414.0ms inference, 4.8ms postprocess per image at shape (1, 3, 1088, 832)\n",
      "\n",
      "0: 640x480 1 0, 95.5ms\n",
      "Speed: 1.2ms preprocess, 95.5ms inference, 0.6ms postprocess per image at shape (1, 3, 640, 480)\n"
     ]
    },
    {
     "name": "stderr",
     "output_type": "stream",
     "text": [
      "\u001b[32m2024-11-10 09:15:40.288\u001b[0m | \u001b[1mINFO    \u001b[0m | \u001b[36m__main__\u001b[0m:\u001b[36m__init__\u001b[0m:\u001b[36m12\u001b[0m - \u001b[1mLoaded configuration from config.yaml\u001b[0m\n",
      "\u001b[32m2024-11-10 09:15:40.442\u001b[0m | \u001b[1mINFO    \u001b[0m | \u001b[36m__main__\u001b[0m:\u001b[36mpredict\u001b[0m:\u001b[36m81\u001b[0m - \u001b[1mEmbeddings were read\u001b[0m\n",
      "\u001b[32m2024-11-10 09:15:40.451\u001b[0m | \u001b[1mINFO    \u001b[0m | \u001b[36m__main__\u001b[0m:\u001b[36mpredict\u001b[0m:\u001b[36m88\u001b[0m - \u001b[1mtrain_labels and train_labels_with_text were read\u001b[0m\n",
      "\u001b[32m2024-11-10 09:15:40.452\u001b[0m | \u001b[1mINFO    \u001b[0m | \u001b[36m__main__\u001b[0m:\u001b[36mpredict\u001b[0m:\u001b[36m90\u001b[0m - \u001b[1mTest image filenames were read\u001b[0m\n",
      "\u001b[32m2024-11-10 09:15:40.456\u001b[0m | \u001b[1mINFO    \u001b[0m | \u001b[36m__main__\u001b[0m:\u001b[36mpredict\u001b[0m:\u001b[36m95\u001b[0m - \u001b[1mNeighbours were found - [65]\u001b[0m\n",
      "  2%|▏         | 2/113 [00:06<06:02,  3.27s/it]"
     ]
    },
    {
     "name": "stdout",
     "output_type": "stream",
     "text": [
      "\n",
      "0: 1088x832 1 2, 437.4ms\n",
      "Speed: 8.0ms preprocess, 437.4ms inference, 2.8ms postprocess per image at shape (1, 3, 1088, 832)\n",
      "\n",
      "0: 640x480 1 0, 101.7ms\n",
      "Speed: 1.0ms preprocess, 101.7ms inference, 1.0ms postprocess per image at shape (1, 3, 640, 480)\n"
     ]
    },
    {
     "name": "stderr",
     "output_type": "stream",
     "text": [
      "\u001b[32m2024-11-10 09:15:43.480\u001b[0m | \u001b[1mINFO    \u001b[0m | \u001b[36m__main__\u001b[0m:\u001b[36m__init__\u001b[0m:\u001b[36m12\u001b[0m - \u001b[1mLoaded configuration from config.yaml\u001b[0m\n",
      "\u001b[32m2024-11-10 09:15:43.634\u001b[0m | \u001b[1mINFO    \u001b[0m | \u001b[36m__main__\u001b[0m:\u001b[36mpredict\u001b[0m:\u001b[36m81\u001b[0m - \u001b[1mEmbeddings were read\u001b[0m\n",
      "\u001b[32m2024-11-10 09:15:43.643\u001b[0m | \u001b[1mINFO    \u001b[0m | \u001b[36m__main__\u001b[0m:\u001b[36mpredict\u001b[0m:\u001b[36m88\u001b[0m - \u001b[1mtrain_labels and train_labels_with_text were read\u001b[0m\n",
      "\u001b[32m2024-11-10 09:15:43.643\u001b[0m | \u001b[1mINFO    \u001b[0m | \u001b[36m__main__\u001b[0m:\u001b[36mpredict\u001b[0m:\u001b[36m90\u001b[0m - \u001b[1mTest image filenames were read\u001b[0m\n",
      "\u001b[32m2024-11-10 09:15:43.649\u001b[0m | \u001b[1mINFO    \u001b[0m | \u001b[36m__main__\u001b[0m:\u001b[36mpredict\u001b[0m:\u001b[36m95\u001b[0m - \u001b[1mNeighbours were found - [32]\u001b[0m\n",
      "  3%|▎         | 3/113 [00:09<05:56,  3.24s/it]"
     ]
    },
    {
     "name": "stdout",
     "output_type": "stream",
     "text": [
      "\n",
      "0: 1088x832 2 2s, 433.7ms\n",
      "Speed: 4.1ms preprocess, 433.7ms inference, 5.7ms postprocess per image at shape (1, 3, 1088, 832)\n",
      "\n",
      "0: 640x480 1 0, 96.8ms\n",
      "Speed: 1.4ms preprocess, 96.8ms inference, 0.8ms postprocess per image at shape (1, 3, 640, 480)\n"
     ]
    },
    {
     "name": "stderr",
     "output_type": "stream",
     "text": [
      "\u001b[32m2024-11-10 09:15:46.660\u001b[0m | \u001b[1mINFO    \u001b[0m | \u001b[36m__main__\u001b[0m:\u001b[36m__init__\u001b[0m:\u001b[36m12\u001b[0m - \u001b[1mLoaded configuration from config.yaml\u001b[0m\n",
      "\u001b[32m2024-11-10 09:15:46.821\u001b[0m | \u001b[1mINFO    \u001b[0m | \u001b[36m__main__\u001b[0m:\u001b[36mpredict\u001b[0m:\u001b[36m81\u001b[0m - \u001b[1mEmbeddings were read\u001b[0m\n",
      "\u001b[32m2024-11-10 09:15:46.831\u001b[0m | \u001b[1mINFO    \u001b[0m | \u001b[36m__main__\u001b[0m:\u001b[36mpredict\u001b[0m:\u001b[36m88\u001b[0m - \u001b[1mtrain_labels and train_labels_with_text were read\u001b[0m\n",
      "\u001b[32m2024-11-10 09:15:46.832\u001b[0m | \u001b[1mINFO    \u001b[0m | \u001b[36m__main__\u001b[0m:\u001b[36mpredict\u001b[0m:\u001b[36m90\u001b[0m - \u001b[1mTest image filenames were read\u001b[0m\n",
      "\u001b[32m2024-11-10 09:15:46.839\u001b[0m | \u001b[1mINFO    \u001b[0m | \u001b[36m__main__\u001b[0m:\u001b[36mpredict\u001b[0m:\u001b[36m95\u001b[0m - \u001b[1mNeighbours were found - [221]\u001b[0m\n",
      "  4%|▎         | 4/113 [00:12<05:51,  3.22s/it]"
     ]
    },
    {
     "name": "stdout",
     "output_type": "stream",
     "text": [
      "\n",
      "0: 832x1088 2 2s, 399.5ms\n",
      "Speed: 4.5ms preprocess, 399.5ms inference, 4.6ms postprocess per image at shape (1, 3, 832, 1088)\n",
      "\n",
      "0: 480x640 1 0, 91.2ms\n",
      "Speed: 1.0ms preprocess, 91.2ms inference, 0.8ms postprocess per image at shape (1, 3, 480, 640)\n"
     ]
    },
    {
     "name": "stderr",
     "output_type": "stream",
     "text": [
      "\u001b[32m2024-11-10 09:15:49.771\u001b[0m | \u001b[1mINFO    \u001b[0m | \u001b[36m__main__\u001b[0m:\u001b[36m__init__\u001b[0m:\u001b[36m12\u001b[0m - \u001b[1mLoaded configuration from config.yaml\u001b[0m\n",
      "\u001b[32m2024-11-10 09:15:49.991\u001b[0m | \u001b[1mINFO    \u001b[0m | \u001b[36m__main__\u001b[0m:\u001b[36mpredict\u001b[0m:\u001b[36m81\u001b[0m - \u001b[1mEmbeddings were read\u001b[0m\n",
      "\u001b[32m2024-11-10 09:15:50.000\u001b[0m | \u001b[1mINFO    \u001b[0m | \u001b[36m__main__\u001b[0m:\u001b[36mpredict\u001b[0m:\u001b[36m88\u001b[0m - \u001b[1mtrain_labels and train_labels_with_text were read\u001b[0m\n",
      "\u001b[32m2024-11-10 09:15:50.000\u001b[0m | \u001b[1mINFO    \u001b[0m | \u001b[36m__main__\u001b[0m:\u001b[36mpredict\u001b[0m:\u001b[36m90\u001b[0m - \u001b[1mTest image filenames were read\u001b[0m\n",
      "\u001b[32m2024-11-10 09:15:50.005\u001b[0m | \u001b[1mINFO    \u001b[0m | \u001b[36m__main__\u001b[0m:\u001b[36mpredict\u001b[0m:\u001b[36m95\u001b[0m - \u001b[1mNeighbours were found - [74]\u001b[0m\n",
      "  4%|▍         | 5/113 [00:15<05:45,  3.20s/it]"
     ]
    },
    {
     "name": "stdout",
     "output_type": "stream",
     "text": [
      "\n",
      "0: 1088x832 2 2s, 416.2ms\n",
      "Speed: 5.8ms preprocess, 416.2ms inference, 4.1ms postprocess per image at shape (1, 3, 1088, 832)\n",
      "\n",
      "0: 640x480 1 0, 90.6ms\n",
      "Speed: 1.8ms preprocess, 90.6ms inference, 0.7ms postprocess per image at shape (1, 3, 640, 480)\n"
     ]
    },
    {
     "name": "stderr",
     "output_type": "stream",
     "text": [
      "\u001b[32m2024-11-10 09:15:52.864\u001b[0m | \u001b[1mINFO    \u001b[0m | \u001b[36m__main__\u001b[0m:\u001b[36m__init__\u001b[0m:\u001b[36m12\u001b[0m - \u001b[1mLoaded configuration from config.yaml\u001b[0m\n",
      "\u001b[32m2024-11-10 09:15:53.017\u001b[0m | \u001b[1mINFO    \u001b[0m | \u001b[36m__main__\u001b[0m:\u001b[36mpredict\u001b[0m:\u001b[36m81\u001b[0m - \u001b[1mEmbeddings were read\u001b[0m\n",
      "\u001b[32m2024-11-10 09:15:53.024\u001b[0m | \u001b[1mINFO    \u001b[0m | \u001b[36m__main__\u001b[0m:\u001b[36mpredict\u001b[0m:\u001b[36m88\u001b[0m - \u001b[1mtrain_labels and train_labels_with_text were read\u001b[0m\n",
      "\u001b[32m2024-11-10 09:15:53.024\u001b[0m | \u001b[1mINFO    \u001b[0m | \u001b[36m__main__\u001b[0m:\u001b[36mpredict\u001b[0m:\u001b[36m90\u001b[0m - \u001b[1mTest image filenames were read\u001b[0m\n",
      "\u001b[32m2024-11-10 09:15:53.028\u001b[0m | \u001b[1mINFO    \u001b[0m | \u001b[36m__main__\u001b[0m:\u001b[36mpredict\u001b[0m:\u001b[36m95\u001b[0m - \u001b[1mNeighbours were found - [196]\u001b[0m\n",
      "  5%|▌         | 6/113 [00:18<05:35,  3.14s/it]"
     ]
    },
    {
     "name": "stdout",
     "output_type": "stream",
     "text": [
      "\n",
      "0: 832x1088 2 2s, 396.8ms\n",
      "Speed: 3.6ms preprocess, 396.8ms inference, 3.9ms postprocess per image at shape (1, 3, 832, 1088)\n",
      "\n",
      "0: 480x640 1 0, 89.7ms\n",
      "Speed: 1.1ms preprocess, 89.7ms inference, 0.5ms postprocess per image at shape (1, 3, 480, 640)\n"
     ]
    },
    {
     "name": "stderr",
     "output_type": "stream",
     "text": [
      "\u001b[32m2024-11-10 09:15:55.968\u001b[0m | \u001b[1mINFO    \u001b[0m | \u001b[36m__main__\u001b[0m:\u001b[36m__init__\u001b[0m:\u001b[36m12\u001b[0m - \u001b[1mLoaded configuration from config.yaml\u001b[0m\n",
      "\u001b[32m2024-11-10 09:15:56.109\u001b[0m | \u001b[1mINFO    \u001b[0m | \u001b[36m__main__\u001b[0m:\u001b[36mpredict\u001b[0m:\u001b[36m81\u001b[0m - \u001b[1mEmbeddings were read\u001b[0m\n",
      "\u001b[32m2024-11-10 09:15:56.119\u001b[0m | \u001b[1mINFO    \u001b[0m | \u001b[36m__main__\u001b[0m:\u001b[36mpredict\u001b[0m:\u001b[36m88\u001b[0m - \u001b[1mtrain_labels and train_labels_with_text were read\u001b[0m\n",
      "\u001b[32m2024-11-10 09:15:56.119\u001b[0m | \u001b[1mINFO    \u001b[0m | \u001b[36m__main__\u001b[0m:\u001b[36mpredict\u001b[0m:\u001b[36m90\u001b[0m - \u001b[1mTest image filenames were read\u001b[0m\n",
      "\u001b[32m2024-11-10 09:15:56.123\u001b[0m | \u001b[1mINFO    \u001b[0m | \u001b[36m__main__\u001b[0m:\u001b[36mpredict\u001b[0m:\u001b[36m95\u001b[0m - \u001b[1mNeighbours were found - [21]\u001b[0m\n",
      "  6%|▌         | 7/113 [00:22<05:30,  3.12s/it]"
     ]
    },
    {
     "name": "stdout",
     "output_type": "stream",
     "text": [
      "\n",
      "0: 1088x832 1 2, 415.5ms\n",
      "Speed: 4.1ms preprocess, 415.5ms inference, 2.7ms postprocess per image at shape (1, 3, 1088, 832)\n",
      "\n",
      "0: 640x480 1 0, 92.0ms\n",
      "Speed: 1.1ms preprocess, 92.0ms inference, 0.8ms postprocess per image at shape (1, 3, 640, 480)\n"
     ]
    },
    {
     "name": "stderr",
     "output_type": "stream",
     "text": [
      "\u001b[32m2024-11-10 09:15:58.996\u001b[0m | \u001b[1mINFO    \u001b[0m | \u001b[36m__main__\u001b[0m:\u001b[36m__init__\u001b[0m:\u001b[36m12\u001b[0m - \u001b[1mLoaded configuration from config.yaml\u001b[0m\n",
      "\u001b[32m2024-11-10 09:15:59.145\u001b[0m | \u001b[1mINFO    \u001b[0m | \u001b[36m__main__\u001b[0m:\u001b[36mpredict\u001b[0m:\u001b[36m81\u001b[0m - \u001b[1mEmbeddings were read\u001b[0m\n",
      "\u001b[32m2024-11-10 09:15:59.155\u001b[0m | \u001b[1mINFO    \u001b[0m | \u001b[36m__main__\u001b[0m:\u001b[36mpredict\u001b[0m:\u001b[36m88\u001b[0m - \u001b[1mtrain_labels and train_labels_with_text were read\u001b[0m\n",
      "\u001b[32m2024-11-10 09:15:59.155\u001b[0m | \u001b[1mINFO    \u001b[0m | \u001b[36m__main__\u001b[0m:\u001b[36mpredict\u001b[0m:\u001b[36m90\u001b[0m - \u001b[1mTest image filenames were read\u001b[0m\n",
      "\u001b[32m2024-11-10 09:15:59.159\u001b[0m | \u001b[1mINFO    \u001b[0m | \u001b[36m__main__\u001b[0m:\u001b[36mpredict\u001b[0m:\u001b[36m95\u001b[0m - \u001b[1mNeighbours were found - [38]\u001b[0m\n",
      "  7%|▋         | 8/113 [00:25<05:24,  3.09s/it]"
     ]
    },
    {
     "name": "stdout",
     "output_type": "stream",
     "text": [
      "\n",
      "0: 832x1088 2 2s, 386.6ms\n",
      "Speed: 4.9ms preprocess, 386.6ms inference, 3.6ms postprocess per image at shape (1, 3, 832, 1088)\n",
      "\n",
      "0: 480x640 1 0, 86.3ms\n",
      "Speed: 1.0ms preprocess, 86.3ms inference, 0.5ms postprocess per image at shape (1, 3, 480, 640)\n"
     ]
    },
    {
     "name": "stderr",
     "output_type": "stream",
     "text": [
      "\u001b[32m2024-11-10 09:16:01.999\u001b[0m | \u001b[1mINFO    \u001b[0m | \u001b[36m__main__\u001b[0m:\u001b[36m__init__\u001b[0m:\u001b[36m12\u001b[0m - \u001b[1mLoaded configuration from config.yaml\u001b[0m\n",
      "\u001b[32m2024-11-10 09:16:02.151\u001b[0m | \u001b[1mINFO    \u001b[0m | \u001b[36m__main__\u001b[0m:\u001b[36mpredict\u001b[0m:\u001b[36m81\u001b[0m - \u001b[1mEmbeddings were read\u001b[0m\n",
      "\u001b[32m2024-11-10 09:16:02.159\u001b[0m | \u001b[1mINFO    \u001b[0m | \u001b[36m__main__\u001b[0m:\u001b[36mpredict\u001b[0m:\u001b[36m88\u001b[0m - \u001b[1mtrain_labels and train_labels_with_text were read\u001b[0m\n",
      "\u001b[32m2024-11-10 09:16:02.160\u001b[0m | \u001b[1mINFO    \u001b[0m | \u001b[36m__main__\u001b[0m:\u001b[36mpredict\u001b[0m:\u001b[36m90\u001b[0m - \u001b[1mTest image filenames were read\u001b[0m\n",
      "\u001b[32m2024-11-10 09:16:02.165\u001b[0m | \u001b[1mINFO    \u001b[0m | \u001b[36m__main__\u001b[0m:\u001b[36mpredict\u001b[0m:\u001b[36m95\u001b[0m - \u001b[1mNeighbours were found - [74]\u001b[0m\n",
      "  8%|▊         | 9/113 [00:28<05:19,  3.07s/it]"
     ]
    },
    {
     "name": "stdout",
     "output_type": "stream",
     "text": [
      "\n",
      "0: 1088x832 1 2, 443.3ms\n",
      "Speed: 5.0ms preprocess, 443.3ms inference, 3.1ms postprocess per image at shape (1, 3, 1088, 832)\n",
      "\n",
      "0: 640x480 1 0, 94.9ms\n",
      "Speed: 1.3ms preprocess, 94.9ms inference, 0.5ms postprocess per image at shape (1, 3, 640, 480)\n"
     ]
    },
    {
     "name": "stderr",
     "output_type": "stream",
     "text": [
      "\u001b[32m2024-11-10 09:16:05.498\u001b[0m | \u001b[1mINFO    \u001b[0m | \u001b[36m__main__\u001b[0m:\u001b[36m__init__\u001b[0m:\u001b[36m12\u001b[0m - \u001b[1mLoaded configuration from config.yaml\u001b[0m\n",
      "\u001b[32m2024-11-10 09:16:05.639\u001b[0m | \u001b[1mINFO    \u001b[0m | \u001b[36m__main__\u001b[0m:\u001b[36mpredict\u001b[0m:\u001b[36m81\u001b[0m - \u001b[1mEmbeddings were read\u001b[0m\n",
      "\u001b[32m2024-11-10 09:16:05.647\u001b[0m | \u001b[1mINFO    \u001b[0m | \u001b[36m__main__\u001b[0m:\u001b[36mpredict\u001b[0m:\u001b[36m88\u001b[0m - \u001b[1mtrain_labels and train_labels_with_text were read\u001b[0m\n",
      "\u001b[32m2024-11-10 09:16:05.647\u001b[0m | \u001b[1mINFO    \u001b[0m | \u001b[36m__main__\u001b[0m:\u001b[36mpredict\u001b[0m:\u001b[36m90\u001b[0m - \u001b[1mTest image filenames were read\u001b[0m\n",
      "\u001b[32m2024-11-10 09:16:05.651\u001b[0m | \u001b[1mINFO    \u001b[0m | \u001b[36m__main__\u001b[0m:\u001b[36mpredict\u001b[0m:\u001b[36m95\u001b[0m - \u001b[1mNeighbours were found - [47]\u001b[0m\n",
      "  9%|▉         | 10/113 [00:31<05:29,  3.19s/it]"
     ]
    },
    {
     "name": "stdout",
     "output_type": "stream",
     "text": [
      "\n",
      "0: 1088x832 2 2s, 395.4ms\n",
      "Speed: 4.7ms preprocess, 395.4ms inference, 3.9ms postprocess per image at shape (1, 3, 1088, 832)\n",
      "\n",
      "0: 640x480 1 0, 89.1ms\n",
      "Speed: 1.5ms preprocess, 89.1ms inference, 0.5ms postprocess per image at shape (1, 3, 640, 480)\n"
     ]
    },
    {
     "name": "stderr",
     "output_type": "stream",
     "text": [
      "\u001b[32m2024-11-10 09:16:08.656\u001b[0m | \u001b[1mINFO    \u001b[0m | \u001b[36m__main__\u001b[0m:\u001b[36m__init__\u001b[0m:\u001b[36m12\u001b[0m - \u001b[1mLoaded configuration from config.yaml\u001b[0m\n",
      "\u001b[32m2024-11-10 09:16:08.815\u001b[0m | \u001b[1mINFO    \u001b[0m | \u001b[36m__main__\u001b[0m:\u001b[36mpredict\u001b[0m:\u001b[36m81\u001b[0m - \u001b[1mEmbeddings were read\u001b[0m\n",
      "\u001b[32m2024-11-10 09:16:08.822\u001b[0m | \u001b[1mINFO    \u001b[0m | \u001b[36m__main__\u001b[0m:\u001b[36mpredict\u001b[0m:\u001b[36m88\u001b[0m - \u001b[1mtrain_labels and train_labels_with_text were read\u001b[0m\n",
      "\u001b[32m2024-11-10 09:16:08.822\u001b[0m | \u001b[1mINFO    \u001b[0m | \u001b[36m__main__\u001b[0m:\u001b[36mpredict\u001b[0m:\u001b[36m90\u001b[0m - \u001b[1mTest image filenames were read\u001b[0m\n",
      "\u001b[32m2024-11-10 09:16:08.826\u001b[0m | \u001b[1mINFO    \u001b[0m | \u001b[36m__main__\u001b[0m:\u001b[36mpredict\u001b[0m:\u001b[36m95\u001b[0m - \u001b[1mNeighbours were found - [88]\u001b[0m\n",
      " 10%|▉         | 11/113 [00:34<05:25,  3.19s/it]"
     ]
    },
    {
     "name": "stdout",
     "output_type": "stream",
     "text": [
      "\n",
      "0: 1088x832 2 2s, 418.7ms\n",
      "Speed: 6.8ms preprocess, 418.7ms inference, 3.7ms postprocess per image at shape (1, 3, 1088, 832)\n",
      "\n",
      "0: 640x480 1 0, 97.2ms\n",
      "Speed: 1.0ms preprocess, 97.2ms inference, 0.4ms postprocess per image at shape (1, 3, 640, 480)\n"
     ]
    },
    {
     "name": "stderr",
     "output_type": "stream",
     "text": [
      "\u001b[32m2024-11-10 09:16:11.758\u001b[0m | \u001b[1mINFO    \u001b[0m | \u001b[36m__main__\u001b[0m:\u001b[36m__init__\u001b[0m:\u001b[36m12\u001b[0m - \u001b[1mLoaded configuration from config.yaml\u001b[0m\n",
      "\u001b[32m2024-11-10 09:16:11.912\u001b[0m | \u001b[1mINFO    \u001b[0m | \u001b[36m__main__\u001b[0m:\u001b[36mpredict\u001b[0m:\u001b[36m81\u001b[0m - \u001b[1mEmbeddings were read\u001b[0m\n",
      "\u001b[32m2024-11-10 09:16:11.923\u001b[0m | \u001b[1mINFO    \u001b[0m | \u001b[36m__main__\u001b[0m:\u001b[36mpredict\u001b[0m:\u001b[36m88\u001b[0m - \u001b[1mtrain_labels and train_labels_with_text were read\u001b[0m\n",
      "\u001b[32m2024-11-10 09:16:11.924\u001b[0m | \u001b[1mINFO    \u001b[0m | \u001b[36m__main__\u001b[0m:\u001b[36mpredict\u001b[0m:\u001b[36m90\u001b[0m - \u001b[1mTest image filenames were read\u001b[0m\n",
      "\u001b[32m2024-11-10 09:16:11.929\u001b[0m | \u001b[1mINFO    \u001b[0m | \u001b[36m__main__\u001b[0m:\u001b[36mpredict\u001b[0m:\u001b[36m95\u001b[0m - \u001b[1mNeighbours were found - [70]\u001b[0m\n",
      " 11%|█         | 12/113 [00:37<05:19,  3.17s/it]"
     ]
    },
    {
     "name": "stdout",
     "output_type": "stream",
     "text": [
      "\n",
      "0: 1088x832 2 2s, 412.7ms\n",
      "Speed: 4.2ms preprocess, 412.7ms inference, 4.0ms postprocess per image at shape (1, 3, 1088, 832)\n",
      "\n",
      "0: 640x480 1 0, 92.5ms\n",
      "Speed: 1.3ms preprocess, 92.5ms inference, 0.8ms postprocess per image at shape (1, 3, 640, 480)\n"
     ]
    },
    {
     "name": "stderr",
     "output_type": "stream",
     "text": [
      "\u001b[32m2024-11-10 09:16:14.856\u001b[0m | \u001b[1mINFO    \u001b[0m | \u001b[36m__main__\u001b[0m:\u001b[36m__init__\u001b[0m:\u001b[36m12\u001b[0m - \u001b[1mLoaded configuration from config.yaml\u001b[0m\n",
      "\u001b[32m2024-11-10 09:16:15.012\u001b[0m | \u001b[1mINFO    \u001b[0m | \u001b[36m__main__\u001b[0m:\u001b[36mpredict\u001b[0m:\u001b[36m81\u001b[0m - \u001b[1mEmbeddings were read\u001b[0m\n",
      "\u001b[32m2024-11-10 09:16:15.021\u001b[0m | \u001b[1mINFO    \u001b[0m | \u001b[36m__main__\u001b[0m:\u001b[36mpredict\u001b[0m:\u001b[36m88\u001b[0m - \u001b[1mtrain_labels and train_labels_with_text were read\u001b[0m\n",
      "\u001b[32m2024-11-10 09:16:15.022\u001b[0m | \u001b[1mINFO    \u001b[0m | \u001b[36m__main__\u001b[0m:\u001b[36mpredict\u001b[0m:\u001b[36m90\u001b[0m - \u001b[1mTest image filenames were read\u001b[0m\n",
      "\u001b[32m2024-11-10 09:16:15.027\u001b[0m | \u001b[1mINFO    \u001b[0m | \u001b[36m__main__\u001b[0m:\u001b[36mpredict\u001b[0m:\u001b[36m95\u001b[0m - \u001b[1mNeighbours were found - [93]\u001b[0m\n",
      " 12%|█▏        | 13/113 [00:40<05:14,  3.15s/it]"
     ]
    },
    {
     "name": "stdout",
     "output_type": "stream",
     "text": [
      "\n",
      "0: 1088x832 1 2, 430.2ms\n",
      "Speed: 4.1ms preprocess, 430.2ms inference, 2.5ms postprocess per image at shape (1, 3, 1088, 832)\n",
      "\n",
      "0: 640x480 1 0, 95.0ms\n",
      "Speed: 1.2ms preprocess, 95.0ms inference, 0.4ms postprocess per image at shape (1, 3, 640, 480)\n"
     ]
    },
    {
     "name": "stderr",
     "output_type": "stream",
     "text": [
      "\u001b[32m2024-11-10 09:16:18.194\u001b[0m | \u001b[1mINFO    \u001b[0m | \u001b[36m__main__\u001b[0m:\u001b[36m__init__\u001b[0m:\u001b[36m12\u001b[0m - \u001b[1mLoaded configuration from config.yaml\u001b[0m\n",
      "\u001b[32m2024-11-10 09:16:18.336\u001b[0m | \u001b[1mINFO    \u001b[0m | \u001b[36m__main__\u001b[0m:\u001b[36mpredict\u001b[0m:\u001b[36m81\u001b[0m - \u001b[1mEmbeddings were read\u001b[0m\n",
      "\u001b[32m2024-11-10 09:16:18.343\u001b[0m | \u001b[1mINFO    \u001b[0m | \u001b[36m__main__\u001b[0m:\u001b[36mpredict\u001b[0m:\u001b[36m88\u001b[0m - \u001b[1mtrain_labels and train_labels_with_text were read\u001b[0m\n",
      "\u001b[32m2024-11-10 09:16:18.343\u001b[0m | \u001b[1mINFO    \u001b[0m | \u001b[36m__main__\u001b[0m:\u001b[36mpredict\u001b[0m:\u001b[36m90\u001b[0m - \u001b[1mTest image filenames were read\u001b[0m\n",
      "\u001b[32m2024-11-10 09:16:18.347\u001b[0m | \u001b[1mINFO    \u001b[0m | \u001b[36m__main__\u001b[0m:\u001b[36mpredict\u001b[0m:\u001b[36m95\u001b[0m - \u001b[1mNeighbours were found - [49]\u001b[0m\n",
      " 12%|█▏        | 14/113 [00:44<05:16,  3.19s/it]"
     ]
    },
    {
     "name": "stdout",
     "output_type": "stream",
     "text": [
      "\n",
      "0: 1088x832 2 2s, 428.7ms\n",
      "Speed: 4.3ms preprocess, 428.7ms inference, 4.2ms postprocess per image at shape (1, 3, 1088, 832)\n",
      "\n",
      "0: 640x480 1 0, 91.5ms\n",
      "Speed: 1.2ms preprocess, 91.5ms inference, 0.5ms postprocess per image at shape (1, 3, 640, 480)\n"
     ]
    },
    {
     "name": "stderr",
     "output_type": "stream",
     "text": [
      "\u001b[32m2024-11-10 09:16:21.417\u001b[0m | \u001b[1mINFO    \u001b[0m | \u001b[36m__main__\u001b[0m:\u001b[36m__init__\u001b[0m:\u001b[36m12\u001b[0m - \u001b[1mLoaded configuration from config.yaml\u001b[0m\n",
      "\u001b[32m2024-11-10 09:16:21.583\u001b[0m | \u001b[1mINFO    \u001b[0m | \u001b[36m__main__\u001b[0m:\u001b[36mpredict\u001b[0m:\u001b[36m81\u001b[0m - \u001b[1mEmbeddings were read\u001b[0m\n",
      "\u001b[32m2024-11-10 09:16:21.589\u001b[0m | \u001b[1mINFO    \u001b[0m | \u001b[36m__main__\u001b[0m:\u001b[36mpredict\u001b[0m:\u001b[36m88\u001b[0m - \u001b[1mtrain_labels and train_labels_with_text were read\u001b[0m\n",
      "\u001b[32m2024-11-10 09:16:21.590\u001b[0m | \u001b[1mINFO    \u001b[0m | \u001b[36m__main__\u001b[0m:\u001b[36mpredict\u001b[0m:\u001b[36m90\u001b[0m - \u001b[1mTest image filenames were read\u001b[0m\n",
      "\u001b[32m2024-11-10 09:16:21.595\u001b[0m | \u001b[1mINFO    \u001b[0m | \u001b[36m__main__\u001b[0m:\u001b[36mpredict\u001b[0m:\u001b[36m95\u001b[0m - \u001b[1mNeighbours were found - [93]\u001b[0m\n",
      " 13%|█▎        | 15/113 [00:47<05:15,  3.22s/it]"
     ]
    },
    {
     "name": "stdout",
     "output_type": "stream",
     "text": [
      "\n",
      "0: 1088x832 2 2s, 393.2ms\n",
      "Speed: 5.7ms preprocess, 393.2ms inference, 4.9ms postprocess per image at shape (1, 3, 1088, 832)\n",
      "\n",
      "0: 640x480 1 0, 90.1ms\n",
      "Speed: 1.3ms preprocess, 90.1ms inference, 0.5ms postprocess per image at shape (1, 3, 640, 480)\n"
     ]
    },
    {
     "name": "stderr",
     "output_type": "stream",
     "text": [
      "\u001b[32m2024-11-10 09:16:24.696\u001b[0m | \u001b[1mINFO    \u001b[0m | \u001b[36m__main__\u001b[0m:\u001b[36m__init__\u001b[0m:\u001b[36m12\u001b[0m - \u001b[1mLoaded configuration from config.yaml\u001b[0m\n",
      "\u001b[32m2024-11-10 09:16:24.842\u001b[0m | \u001b[1mINFO    \u001b[0m | \u001b[36m__main__\u001b[0m:\u001b[36mpredict\u001b[0m:\u001b[36m81\u001b[0m - \u001b[1mEmbeddings were read\u001b[0m\n",
      "\u001b[32m2024-11-10 09:16:24.849\u001b[0m | \u001b[1mINFO    \u001b[0m | \u001b[36m__main__\u001b[0m:\u001b[36mpredict\u001b[0m:\u001b[36m88\u001b[0m - \u001b[1mtrain_labels and train_labels_with_text were read\u001b[0m\n",
      "\u001b[32m2024-11-10 09:16:24.849\u001b[0m | \u001b[1mINFO    \u001b[0m | \u001b[36m__main__\u001b[0m:\u001b[36mpredict\u001b[0m:\u001b[36m90\u001b[0m - \u001b[1mTest image filenames were read\u001b[0m\n",
      "\u001b[32m2024-11-10 09:16:24.853\u001b[0m | \u001b[1mINFO    \u001b[0m | \u001b[36m__main__\u001b[0m:\u001b[36mpredict\u001b[0m:\u001b[36m95\u001b[0m - \u001b[1mNeighbours were found - [251]\u001b[0m\n",
      " 14%|█▍        | 16/113 [00:50<05:12,  3.22s/it]"
     ]
    },
    {
     "name": "stdout",
     "output_type": "stream",
     "text": [
      "\n",
      "0: 1088x832 1 2, 399.9ms\n",
      "Speed: 5.9ms preprocess, 399.9ms inference, 2.7ms postprocess per image at shape (1, 3, 1088, 832)\n",
      "\n",
      "0: 640x480 1 0, 92.3ms\n",
      "Speed: 1.8ms preprocess, 92.3ms inference, 0.5ms postprocess per image at shape (1, 3, 640, 480)\n"
     ]
    },
    {
     "name": "stderr",
     "output_type": "stream",
     "text": [
      "\u001b[32m2024-11-10 09:16:27.828\u001b[0m | \u001b[1mINFO    \u001b[0m | \u001b[36m__main__\u001b[0m:\u001b[36m__init__\u001b[0m:\u001b[36m12\u001b[0m - \u001b[1mLoaded configuration from config.yaml\u001b[0m\n",
      "\u001b[32m2024-11-10 09:16:27.976\u001b[0m | \u001b[1mINFO    \u001b[0m | \u001b[36m__main__\u001b[0m:\u001b[36mpredict\u001b[0m:\u001b[36m81\u001b[0m - \u001b[1mEmbeddings were read\u001b[0m\n",
      "\u001b[32m2024-11-10 09:16:27.983\u001b[0m | \u001b[1mINFO    \u001b[0m | \u001b[36m__main__\u001b[0m:\u001b[36mpredict\u001b[0m:\u001b[36m88\u001b[0m - \u001b[1mtrain_labels and train_labels_with_text were read\u001b[0m\n",
      "\u001b[32m2024-11-10 09:16:27.983\u001b[0m | \u001b[1mINFO    \u001b[0m | \u001b[36m__main__\u001b[0m:\u001b[36mpredict\u001b[0m:\u001b[36m90\u001b[0m - \u001b[1mTest image filenames were read\u001b[0m\n",
      "\u001b[32m2024-11-10 09:16:27.987\u001b[0m | \u001b[1mINFO    \u001b[0m | \u001b[36m__main__\u001b[0m:\u001b[36mpredict\u001b[0m:\u001b[36m95\u001b[0m - \u001b[1mNeighbours were found - [159]\u001b[0m\n",
      " 15%|█▌        | 17/113 [00:53<05:06,  3.20s/it]"
     ]
    },
    {
     "name": "stdout",
     "output_type": "stream",
     "text": [
      "\n",
      "0: 832x1088 (no detections), 419.0ms\n",
      "Speed: 4.3ms preprocess, 419.0ms inference, 0.4ms postprocess per image at shape (1, 3, 832, 1088)\n",
      "\n",
      "0: 480x640 1 0, 87.8ms\n",
      "Speed: 1.1ms preprocess, 87.8ms inference, 0.5ms postprocess per image at shape (1, 3, 480, 640)\n"
     ]
    },
    {
     "name": "stderr",
     "output_type": "stream",
     "text": [
      "\u001b[32m2024-11-10 09:16:31.304\u001b[0m | \u001b[1mINFO    \u001b[0m | \u001b[36m__main__\u001b[0m:\u001b[36m__init__\u001b[0m:\u001b[36m12\u001b[0m - \u001b[1mLoaded configuration from config.yaml\u001b[0m\n",
      "\u001b[32m2024-11-10 09:16:31.465\u001b[0m | \u001b[1mINFO    \u001b[0m | \u001b[36m__main__\u001b[0m:\u001b[36mpredict\u001b[0m:\u001b[36m81\u001b[0m - \u001b[1mEmbeddings were read\u001b[0m\n",
      "\u001b[32m2024-11-10 09:16:31.472\u001b[0m | \u001b[1mINFO    \u001b[0m | \u001b[36m__main__\u001b[0m:\u001b[36mpredict\u001b[0m:\u001b[36m88\u001b[0m - \u001b[1mtrain_labels and train_labels_with_text were read\u001b[0m\n",
      "\u001b[32m2024-11-10 09:16:31.472\u001b[0m | \u001b[1mINFO    \u001b[0m | \u001b[36m__main__\u001b[0m:\u001b[36mpredict\u001b[0m:\u001b[36m90\u001b[0m - \u001b[1mTest image filenames were read\u001b[0m\n",
      "\u001b[32m2024-11-10 09:16:31.477\u001b[0m | \u001b[1mINFO    \u001b[0m | \u001b[36m__main__\u001b[0m:\u001b[36mpredict\u001b[0m:\u001b[36m95\u001b[0m - \u001b[1mNeighbours were found - [98]\u001b[0m\n",
      " 16%|█▌        | 18/113 [00:57<05:11,  3.28s/it]"
     ]
    },
    {
     "name": "stdout",
     "output_type": "stream",
     "text": [
      "\n",
      "0: 832x1088 2 2s, 397.5ms\n",
      "Speed: 4.9ms preprocess, 397.5ms inference, 4.6ms postprocess per image at shape (1, 3, 832, 1088)\n",
      "\n",
      "0: 480x640 1 0, 87.9ms\n",
      "Speed: 3.5ms preprocess, 87.9ms inference, 0.4ms postprocess per image at shape (1, 3, 480, 640)\n"
     ]
    },
    {
     "name": "stderr",
     "output_type": "stream",
     "text": [
      "\u001b[32m2024-11-10 09:16:35.262\u001b[0m | \u001b[1mINFO    \u001b[0m | \u001b[36m__main__\u001b[0m:\u001b[36m__init__\u001b[0m:\u001b[36m12\u001b[0m - \u001b[1mLoaded configuration from config.yaml\u001b[0m\n",
      "\u001b[32m2024-11-10 09:16:35.512\u001b[0m | \u001b[1mINFO    \u001b[0m | \u001b[36m__main__\u001b[0m:\u001b[36mpredict\u001b[0m:\u001b[36m81\u001b[0m - \u001b[1mEmbeddings were read\u001b[0m\n",
      "\u001b[32m2024-11-10 09:16:35.519\u001b[0m | \u001b[1mINFO    \u001b[0m | \u001b[36m__main__\u001b[0m:\u001b[36mpredict\u001b[0m:\u001b[36m88\u001b[0m - \u001b[1mtrain_labels and train_labels_with_text were read\u001b[0m\n",
      "\u001b[32m2024-11-10 09:16:35.519\u001b[0m | \u001b[1mINFO    \u001b[0m | \u001b[36m__main__\u001b[0m:\u001b[36mpredict\u001b[0m:\u001b[36m90\u001b[0m - \u001b[1mTest image filenames were read\u001b[0m\n",
      "\u001b[32m2024-11-10 09:16:35.524\u001b[0m | \u001b[1mINFO    \u001b[0m | \u001b[36m__main__\u001b[0m:\u001b[36mpredict\u001b[0m:\u001b[36m95\u001b[0m - \u001b[1mNeighbours were found - [10]\u001b[0m\n",
      " 17%|█▋        | 19/113 [01:01<05:30,  3.52s/it]"
     ]
    },
    {
     "name": "stdout",
     "output_type": "stream",
     "text": [
      "\n",
      "0: 832x1088 2 2s, 409.9ms\n",
      "Speed: 5.6ms preprocess, 409.9ms inference, 4.6ms postprocess per image at shape (1, 3, 832, 1088)\n",
      "\n",
      "0: 480x640 1 0, 94.4ms\n",
      "Speed: 1.8ms preprocess, 94.4ms inference, 0.5ms postprocess per image at shape (1, 3, 480, 640)\n"
     ]
    },
    {
     "name": "stderr",
     "output_type": "stream",
     "text": [
      "\u001b[32m2024-11-10 09:16:39.121\u001b[0m | \u001b[1mINFO    \u001b[0m | \u001b[36m__main__\u001b[0m:\u001b[36m__init__\u001b[0m:\u001b[36m12\u001b[0m - \u001b[1mLoaded configuration from config.yaml\u001b[0m\n",
      "\u001b[32m2024-11-10 09:16:39.374\u001b[0m | \u001b[1mINFO    \u001b[0m | \u001b[36m__main__\u001b[0m:\u001b[36mpredict\u001b[0m:\u001b[36m81\u001b[0m - \u001b[1mEmbeddings were read\u001b[0m\n",
      "\u001b[32m2024-11-10 09:16:39.381\u001b[0m | \u001b[1mINFO    \u001b[0m | \u001b[36m__main__\u001b[0m:\u001b[36mpredict\u001b[0m:\u001b[36m88\u001b[0m - \u001b[1mtrain_labels and train_labels_with_text were read\u001b[0m\n",
      "\u001b[32m2024-11-10 09:16:39.382\u001b[0m | \u001b[1mINFO    \u001b[0m | \u001b[36m__main__\u001b[0m:\u001b[36mpredict\u001b[0m:\u001b[36m90\u001b[0m - \u001b[1mTest image filenames were read\u001b[0m\n",
      "\u001b[32m2024-11-10 09:16:39.386\u001b[0m | \u001b[1mINFO    \u001b[0m | \u001b[36m__main__\u001b[0m:\u001b[36mpredict\u001b[0m:\u001b[36m95\u001b[0m - \u001b[1mNeighbours were found - [9]\u001b[0m\n",
      " 18%|█▊        | 20/113 [01:05<05:36,  3.62s/it]"
     ]
    },
    {
     "name": "stdout",
     "output_type": "stream",
     "text": [
      "\n",
      "0: 1088x832 1 2, 421.4ms\n",
      "Speed: 4.7ms preprocess, 421.4ms inference, 4.0ms postprocess per image at shape (1, 3, 1088, 832)\n",
      "\n",
      "0: 640x480 1 0, 90.1ms\n",
      "Speed: 1.4ms preprocess, 90.1ms inference, 0.4ms postprocess per image at shape (1, 3, 640, 480)\n"
     ]
    },
    {
     "name": "stderr",
     "output_type": "stream",
     "text": [
      "\u001b[32m2024-11-10 09:16:42.401\u001b[0m | \u001b[1mINFO    \u001b[0m | \u001b[36m__main__\u001b[0m:\u001b[36m__init__\u001b[0m:\u001b[36m12\u001b[0m - \u001b[1mLoaded configuration from config.yaml\u001b[0m\n",
      "\u001b[32m2024-11-10 09:16:42.572\u001b[0m | \u001b[1mINFO    \u001b[0m | \u001b[36m__main__\u001b[0m:\u001b[36mpredict\u001b[0m:\u001b[36m81\u001b[0m - \u001b[1mEmbeddings were read\u001b[0m\n",
      "\u001b[32m2024-11-10 09:16:42.581\u001b[0m | \u001b[1mINFO    \u001b[0m | \u001b[36m__main__\u001b[0m:\u001b[36mpredict\u001b[0m:\u001b[36m88\u001b[0m - \u001b[1mtrain_labels and train_labels_with_text were read\u001b[0m\n",
      "\u001b[32m2024-11-10 09:16:42.581\u001b[0m | \u001b[1mINFO    \u001b[0m | \u001b[36m__main__\u001b[0m:\u001b[36mpredict\u001b[0m:\u001b[36m90\u001b[0m - \u001b[1mTest image filenames were read\u001b[0m\n",
      "\u001b[32m2024-11-10 09:16:42.585\u001b[0m | \u001b[1mINFO    \u001b[0m | \u001b[36m__main__\u001b[0m:\u001b[36mpredict\u001b[0m:\u001b[36m95\u001b[0m - \u001b[1mNeighbours were found - [39]\u001b[0m\n",
      " 19%|█▊        | 21/113 [01:08<05:21,  3.49s/it]"
     ]
    },
    {
     "name": "stdout",
     "output_type": "stream",
     "text": [
      "\n",
      "0: 832x1088 2 2s, 416.6ms\n",
      "Speed: 6.7ms preprocess, 416.6ms inference, 4.1ms postprocess per image at shape (1, 3, 832, 1088)\n",
      "\n",
      "0: 480x640 1 0, 90.8ms\n",
      "Speed: 0.9ms preprocess, 90.8ms inference, 0.4ms postprocess per image at shape (1, 3, 480, 640)\n"
     ]
    },
    {
     "name": "stderr",
     "output_type": "stream",
     "text": [
      "\u001b[32m2024-11-10 09:16:45.649\u001b[0m | \u001b[1mINFO    \u001b[0m | \u001b[36m__main__\u001b[0m:\u001b[36m__init__\u001b[0m:\u001b[36m12\u001b[0m - \u001b[1mLoaded configuration from config.yaml\u001b[0m\n",
      "\u001b[32m2024-11-10 09:16:45.798\u001b[0m | \u001b[1mINFO    \u001b[0m | \u001b[36m__main__\u001b[0m:\u001b[36mpredict\u001b[0m:\u001b[36m81\u001b[0m - \u001b[1mEmbeddings were read\u001b[0m\n",
      "\u001b[32m2024-11-10 09:16:45.807\u001b[0m | \u001b[1mINFO    \u001b[0m | \u001b[36m__main__\u001b[0m:\u001b[36mpredict\u001b[0m:\u001b[36m88\u001b[0m - \u001b[1mtrain_labels and train_labels_with_text were read\u001b[0m\n",
      "\u001b[32m2024-11-10 09:16:45.807\u001b[0m | \u001b[1mINFO    \u001b[0m | \u001b[36m__main__\u001b[0m:\u001b[36mpredict\u001b[0m:\u001b[36m90\u001b[0m - \u001b[1mTest image filenames were read\u001b[0m\n",
      "\u001b[32m2024-11-10 09:16:45.811\u001b[0m | \u001b[1mINFO    \u001b[0m | \u001b[36m__main__\u001b[0m:\u001b[36mpredict\u001b[0m:\u001b[36m95\u001b[0m - \u001b[1mNeighbours were found - [11]\u001b[0m\n",
      " 19%|█▉        | 22/113 [01:11<05:10,  3.41s/it]"
     ]
    },
    {
     "name": "stdout",
     "output_type": "stream",
     "text": [
      "\n",
      "0: 1088x832 1 2, 420.5ms\n",
      "Speed: 5.8ms preprocess, 420.5ms inference, 2.8ms postprocess per image at shape (1, 3, 1088, 832)\n",
      "\n",
      "0: 640x480 1 0, 91.0ms\n",
      "Speed: 3.1ms preprocess, 91.0ms inference, 0.4ms postprocess per image at shape (1, 3, 640, 480)\n"
     ]
    },
    {
     "name": "stderr",
     "output_type": "stream",
     "text": [
      "\u001b[32m2024-11-10 09:16:48.830\u001b[0m | \u001b[1mINFO    \u001b[0m | \u001b[36m__main__\u001b[0m:\u001b[36m__init__\u001b[0m:\u001b[36m12\u001b[0m - \u001b[1mLoaded configuration from config.yaml\u001b[0m\n",
      "\u001b[32m2024-11-10 09:16:48.990\u001b[0m | \u001b[1mINFO    \u001b[0m | \u001b[36m__main__\u001b[0m:\u001b[36mpredict\u001b[0m:\u001b[36m81\u001b[0m - \u001b[1mEmbeddings were read\u001b[0m\n",
      "\u001b[32m2024-11-10 09:16:48.999\u001b[0m | \u001b[1mINFO    \u001b[0m | \u001b[36m__main__\u001b[0m:\u001b[36mpredict\u001b[0m:\u001b[36m88\u001b[0m - \u001b[1mtrain_labels and train_labels_with_text were read\u001b[0m\n",
      "\u001b[32m2024-11-10 09:16:48.999\u001b[0m | \u001b[1mINFO    \u001b[0m | \u001b[36m__main__\u001b[0m:\u001b[36mpredict\u001b[0m:\u001b[36m90\u001b[0m - \u001b[1mTest image filenames were read\u001b[0m\n",
      "\u001b[32m2024-11-10 09:16:49.004\u001b[0m | \u001b[1mINFO    \u001b[0m | \u001b[36m__main__\u001b[0m:\u001b[36mpredict\u001b[0m:\u001b[36m95\u001b[0m - \u001b[1mNeighbours were found - [248]\u001b[0m\n",
      " 20%|██        | 23/113 [01:14<05:01,  3.35s/it]"
     ]
    },
    {
     "name": "stdout",
     "output_type": "stream",
     "text": [
      "\n",
      "0: 1088x832 1 2, 400.5ms\n",
      "Speed: 7.9ms preprocess, 400.5ms inference, 2.7ms postprocess per image at shape (1, 3, 1088, 832)\n",
      "\n",
      "0: 640x480 1 0, 89.9ms\n",
      "Speed: 1.8ms preprocess, 89.9ms inference, 0.5ms postprocess per image at shape (1, 3, 640, 480)\n"
     ]
    },
    {
     "name": "stderr",
     "output_type": "stream",
     "text": [
      "\u001b[32m2024-11-10 09:16:51.878\u001b[0m | \u001b[1mINFO    \u001b[0m | \u001b[36m__main__\u001b[0m:\u001b[36m__init__\u001b[0m:\u001b[36m12\u001b[0m - \u001b[1mLoaded configuration from config.yaml\u001b[0m\n",
      "\u001b[32m2024-11-10 09:16:52.025\u001b[0m | \u001b[1mINFO    \u001b[0m | \u001b[36m__main__\u001b[0m:\u001b[36mpredict\u001b[0m:\u001b[36m81\u001b[0m - \u001b[1mEmbeddings were read\u001b[0m\n",
      "\u001b[32m2024-11-10 09:16:52.033\u001b[0m | \u001b[1mINFO    \u001b[0m | \u001b[36m__main__\u001b[0m:\u001b[36mpredict\u001b[0m:\u001b[36m88\u001b[0m - \u001b[1mtrain_labels and train_labels_with_text were read\u001b[0m\n",
      "\u001b[32m2024-11-10 09:16:52.034\u001b[0m | \u001b[1mINFO    \u001b[0m | \u001b[36m__main__\u001b[0m:\u001b[36mpredict\u001b[0m:\u001b[36m90\u001b[0m - \u001b[1mTest image filenames were read\u001b[0m\n",
      "\u001b[32m2024-11-10 09:16:52.038\u001b[0m | \u001b[1mINFO    \u001b[0m | \u001b[36m__main__\u001b[0m:\u001b[36mpredict\u001b[0m:\u001b[36m95\u001b[0m - \u001b[1mNeighbours were found - [35]\u001b[0m\n",
      " 21%|██        | 24/113 [01:17<04:49,  3.26s/it]"
     ]
    },
    {
     "name": "stdout",
     "output_type": "stream",
     "text": [
      "\n",
      "0: 832x1088 1 2, 412.1ms\n",
      "Speed: 4.3ms preprocess, 412.1ms inference, 3.5ms postprocess per image at shape (1, 3, 832, 1088)\n",
      "\n",
      "0: 480x640 1 0, 99.4ms\n",
      "Speed: 1.7ms preprocess, 99.4ms inference, 0.5ms postprocess per image at shape (1, 3, 480, 640)\n"
     ]
    },
    {
     "name": "stderr",
     "output_type": "stream",
     "text": [
      "\u001b[32m2024-11-10 09:16:55.155\u001b[0m | \u001b[1mINFO    \u001b[0m | \u001b[36m__main__\u001b[0m:\u001b[36m__init__\u001b[0m:\u001b[36m12\u001b[0m - \u001b[1mLoaded configuration from config.yaml\u001b[0m\n",
      "\u001b[32m2024-11-10 09:16:55.312\u001b[0m | \u001b[1mINFO    \u001b[0m | \u001b[36m__main__\u001b[0m:\u001b[36mpredict\u001b[0m:\u001b[36m81\u001b[0m - \u001b[1mEmbeddings were read\u001b[0m\n",
      "\u001b[32m2024-11-10 09:16:55.321\u001b[0m | \u001b[1mINFO    \u001b[0m | \u001b[36m__main__\u001b[0m:\u001b[36mpredict\u001b[0m:\u001b[36m88\u001b[0m - \u001b[1mtrain_labels and train_labels_with_text were read\u001b[0m\n",
      "\u001b[32m2024-11-10 09:16:55.321\u001b[0m | \u001b[1mINFO    \u001b[0m | \u001b[36m__main__\u001b[0m:\u001b[36mpredict\u001b[0m:\u001b[36m90\u001b[0m - \u001b[1mTest image filenames were read\u001b[0m\n",
      "\u001b[32m2024-11-10 09:16:55.326\u001b[0m | \u001b[1mINFO    \u001b[0m | \u001b[36m__main__\u001b[0m:\u001b[36mpredict\u001b[0m:\u001b[36m95\u001b[0m - \u001b[1mNeighbours were found - [123]\u001b[0m\n",
      " 22%|██▏       | 25/113 [01:21<04:47,  3.26s/it]"
     ]
    },
    {
     "name": "stdout",
     "output_type": "stream",
     "text": [
      "\n",
      "0: 1088x832 2 2s, 455.1ms\n",
      "Speed: 5.6ms preprocess, 455.1ms inference, 4.1ms postprocess per image at shape (1, 3, 1088, 832)\n",
      "\n",
      "0: 640x480 1 0, 95.1ms\n",
      "Speed: 1.7ms preprocess, 95.1ms inference, 0.9ms postprocess per image at shape (1, 3, 640, 480)\n"
     ]
    },
    {
     "name": "stderr",
     "output_type": "stream",
     "text": [
      "\u001b[32m2024-11-10 09:16:58.901\u001b[0m | \u001b[1mINFO    \u001b[0m | \u001b[36m__main__\u001b[0m:\u001b[36m__init__\u001b[0m:\u001b[36m12\u001b[0m - \u001b[1mLoaded configuration from config.yaml\u001b[0m\n",
      "\u001b[32m2024-11-10 09:16:59.059\u001b[0m | \u001b[1mINFO    \u001b[0m | \u001b[36m__main__\u001b[0m:\u001b[36mpredict\u001b[0m:\u001b[36m81\u001b[0m - \u001b[1mEmbeddings were read\u001b[0m\n",
      "\u001b[32m2024-11-10 09:16:59.067\u001b[0m | \u001b[1mINFO    \u001b[0m | \u001b[36m__main__\u001b[0m:\u001b[36mpredict\u001b[0m:\u001b[36m88\u001b[0m - \u001b[1mtrain_labels and train_labels_with_text were read\u001b[0m\n",
      "\u001b[32m2024-11-10 09:16:59.068\u001b[0m | \u001b[1mINFO    \u001b[0m | \u001b[36m__main__\u001b[0m:\u001b[36mpredict\u001b[0m:\u001b[36m90\u001b[0m - \u001b[1mTest image filenames were read\u001b[0m\n",
      "\u001b[32m2024-11-10 09:16:59.074\u001b[0m | \u001b[1mINFO    \u001b[0m | \u001b[36m__main__\u001b[0m:\u001b[36mpredict\u001b[0m:\u001b[36m95\u001b[0m - \u001b[1mNeighbours were found - [79]\u001b[0m\n",
      " 23%|██▎       | 26/113 [01:24<04:56,  3.41s/it]"
     ]
    },
    {
     "name": "stdout",
     "output_type": "stream",
     "text": [
      "\n",
      "0: 1088x832 1 2, 504.2ms\n",
      "Speed: 7.2ms preprocess, 504.2ms inference, 2.7ms postprocess per image at shape (1, 3, 1088, 832)\n",
      "\n",
      "0: 640x480 1 0, 94.4ms\n",
      "Speed: 1.1ms preprocess, 94.4ms inference, 0.5ms postprocess per image at shape (1, 3, 640, 480)\n"
     ]
    },
    {
     "name": "stderr",
     "output_type": "stream",
     "text": [
      "\u001b[32m2024-11-10 09:17:02.171\u001b[0m | \u001b[1mINFO    \u001b[0m | \u001b[36m__main__\u001b[0m:\u001b[36m__init__\u001b[0m:\u001b[36m12\u001b[0m - \u001b[1mLoaded configuration from config.yaml\u001b[0m\n",
      "\u001b[32m2024-11-10 09:17:02.328\u001b[0m | \u001b[1mINFO    \u001b[0m | \u001b[36m__main__\u001b[0m:\u001b[36mpredict\u001b[0m:\u001b[36m81\u001b[0m - \u001b[1mEmbeddings were read\u001b[0m\n",
      "\u001b[32m2024-11-10 09:17:02.336\u001b[0m | \u001b[1mINFO    \u001b[0m | \u001b[36m__main__\u001b[0m:\u001b[36mpredict\u001b[0m:\u001b[36m88\u001b[0m - \u001b[1mtrain_labels and train_labels_with_text were read\u001b[0m\n",
      "\u001b[32m2024-11-10 09:17:02.337\u001b[0m | \u001b[1mINFO    \u001b[0m | \u001b[36m__main__\u001b[0m:\u001b[36mpredict\u001b[0m:\u001b[36m90\u001b[0m - \u001b[1mTest image filenames were read\u001b[0m\n",
      "\u001b[32m2024-11-10 09:17:02.342\u001b[0m | \u001b[1mINFO    \u001b[0m | \u001b[36m__main__\u001b[0m:\u001b[36mpredict\u001b[0m:\u001b[36m95\u001b[0m - \u001b[1mNeighbours were found - [31]\u001b[0m\n",
      " 24%|██▍       | 27/113 [01:28<04:49,  3.37s/it]"
     ]
    },
    {
     "name": "stdout",
     "output_type": "stream",
     "text": [
      "\n",
      "0: 832x1088 2 2s, 436.9ms\n",
      "Speed: 6.7ms preprocess, 436.9ms inference, 3.9ms postprocess per image at shape (1, 3, 832, 1088)\n",
      "\n",
      "0: 480x640 1 0, 100.4ms\n",
      "Speed: 1.2ms preprocess, 100.4ms inference, 0.4ms postprocess per image at shape (1, 3, 480, 640)\n"
     ]
    },
    {
     "name": "stderr",
     "output_type": "stream",
     "text": [
      "\u001b[32m2024-11-10 09:17:05.515\u001b[0m | \u001b[1mINFO    \u001b[0m | \u001b[36m__main__\u001b[0m:\u001b[36m__init__\u001b[0m:\u001b[36m12\u001b[0m - \u001b[1mLoaded configuration from config.yaml\u001b[0m\n",
      "\u001b[32m2024-11-10 09:17:05.668\u001b[0m | \u001b[1mINFO    \u001b[0m | \u001b[36m__main__\u001b[0m:\u001b[36mpredict\u001b[0m:\u001b[36m81\u001b[0m - \u001b[1mEmbeddings were read\u001b[0m\n",
      "\u001b[32m2024-11-10 09:17:05.677\u001b[0m | \u001b[1mINFO    \u001b[0m | \u001b[36m__main__\u001b[0m:\u001b[36mpredict\u001b[0m:\u001b[36m88\u001b[0m - \u001b[1mtrain_labels and train_labels_with_text were read\u001b[0m\n",
      "\u001b[32m2024-11-10 09:17:05.678\u001b[0m | \u001b[1mINFO    \u001b[0m | \u001b[36m__main__\u001b[0m:\u001b[36mpredict\u001b[0m:\u001b[36m90\u001b[0m - \u001b[1mTest image filenames were read\u001b[0m\n",
      "\u001b[32m2024-11-10 09:17:05.681\u001b[0m | \u001b[1mINFO    \u001b[0m | \u001b[36m__main__\u001b[0m:\u001b[36mpredict\u001b[0m:\u001b[36m95\u001b[0m - \u001b[1mNeighbours were found - [86]\u001b[0m\n",
      " 25%|██▍       | 28/113 [01:31<04:45,  3.36s/it]"
     ]
    },
    {
     "name": "stdout",
     "output_type": "stream",
     "text": [
      "\n",
      "0: 1088x832 1 2, 438.9ms\n",
      "Speed: 5.8ms preprocess, 438.9ms inference, 3.7ms postprocess per image at shape (1, 3, 1088, 832)\n",
      "\n",
      "0: 640x480 1 0, 103.1ms\n",
      "Speed: 2.1ms preprocess, 103.1ms inference, 0.5ms postprocess per image at shape (1, 3, 640, 480)\n"
     ]
    },
    {
     "name": "stderr",
     "output_type": "stream",
     "text": [
      "\u001b[32m2024-11-10 09:17:08.737\u001b[0m | \u001b[1mINFO    \u001b[0m | \u001b[36m__main__\u001b[0m:\u001b[36m__init__\u001b[0m:\u001b[36m12\u001b[0m - \u001b[1mLoaded configuration from config.yaml\u001b[0m\n",
      "\u001b[32m2024-11-10 09:17:08.904\u001b[0m | \u001b[1mINFO    \u001b[0m | \u001b[36m__main__\u001b[0m:\u001b[36mpredict\u001b[0m:\u001b[36m81\u001b[0m - \u001b[1mEmbeddings were read\u001b[0m\n",
      "\u001b[32m2024-11-10 09:17:08.912\u001b[0m | \u001b[1mINFO    \u001b[0m | \u001b[36m__main__\u001b[0m:\u001b[36mpredict\u001b[0m:\u001b[36m88\u001b[0m - \u001b[1mtrain_labels and train_labels_with_text were read\u001b[0m\n",
      "\u001b[32m2024-11-10 09:17:08.912\u001b[0m | \u001b[1mINFO    \u001b[0m | \u001b[36m__main__\u001b[0m:\u001b[36mpredict\u001b[0m:\u001b[36m90\u001b[0m - \u001b[1mTest image filenames were read\u001b[0m\n",
      "\u001b[32m2024-11-10 09:17:08.916\u001b[0m | \u001b[1mINFO    \u001b[0m | \u001b[36m__main__\u001b[0m:\u001b[36mpredict\u001b[0m:\u001b[36m95\u001b[0m - \u001b[1mNeighbours were found - [20]\u001b[0m\n",
      " 26%|██▌       | 29/113 [01:34<04:39,  3.32s/it]"
     ]
    },
    {
     "name": "stdout",
     "output_type": "stream",
     "text": [
      "\n",
      "0: 1088x832 1 2, 425.2ms\n",
      "Speed: 5.7ms preprocess, 425.2ms inference, 4.1ms postprocess per image at shape (1, 3, 1088, 832)\n",
      "\n",
      "0: 640x480 1 0, 94.5ms\n",
      "Speed: 3.4ms preprocess, 94.5ms inference, 0.5ms postprocess per image at shape (1, 3, 640, 480)\n"
     ]
    },
    {
     "name": "stderr",
     "output_type": "stream",
     "text": [
      "\u001b[32m2024-11-10 09:17:11.974\u001b[0m | \u001b[1mINFO    \u001b[0m | \u001b[36m__main__\u001b[0m:\u001b[36m__init__\u001b[0m:\u001b[36m12\u001b[0m - \u001b[1mLoaded configuration from config.yaml\u001b[0m\n",
      "\u001b[32m2024-11-10 09:17:12.130\u001b[0m | \u001b[1mINFO    \u001b[0m | \u001b[36m__main__\u001b[0m:\u001b[36mpredict\u001b[0m:\u001b[36m81\u001b[0m - \u001b[1mEmbeddings were read\u001b[0m\n",
      "\u001b[32m2024-11-10 09:17:12.139\u001b[0m | \u001b[1mINFO    \u001b[0m | \u001b[36m__main__\u001b[0m:\u001b[36mpredict\u001b[0m:\u001b[36m88\u001b[0m - \u001b[1mtrain_labels and train_labels_with_text were read\u001b[0m\n",
      "\u001b[32m2024-11-10 09:17:12.140\u001b[0m | \u001b[1mINFO    \u001b[0m | \u001b[36m__main__\u001b[0m:\u001b[36mpredict\u001b[0m:\u001b[36m90\u001b[0m - \u001b[1mTest image filenames were read\u001b[0m\n",
      "\u001b[32m2024-11-10 09:17:12.143\u001b[0m | \u001b[1mINFO    \u001b[0m | \u001b[36m__main__\u001b[0m:\u001b[36mpredict\u001b[0m:\u001b[36m95\u001b[0m - \u001b[1mNeighbours were found - [2]\u001b[0m\n",
      " 27%|██▋       | 30/113 [01:38<04:33,  3.29s/it]"
     ]
    },
    {
     "name": "stdout",
     "output_type": "stream",
     "text": [
      "\n",
      "0: 832x1088 4 2s, 411.2ms\n",
      "Speed: 5.8ms preprocess, 411.2ms inference, 7.3ms postprocess per image at shape (1, 3, 832, 1088)\n",
      "\n",
      "0: 480x640 2 0s, 94.2ms\n",
      "Speed: 1.6ms preprocess, 94.2ms inference, 0.4ms postprocess per image at shape (1, 3, 480, 640)\n"
     ]
    },
    {
     "name": "stderr",
     "output_type": "stream",
     "text": [
      "\u001b[32m2024-11-10 09:17:15.090\u001b[0m | \u001b[1mINFO    \u001b[0m | \u001b[36m__main__\u001b[0m:\u001b[36m__init__\u001b[0m:\u001b[36m12\u001b[0m - \u001b[1mLoaded configuration from config.yaml\u001b[0m\n",
      "\u001b[32m2024-11-10 09:17:15.244\u001b[0m | \u001b[1mINFO    \u001b[0m | \u001b[36m__main__\u001b[0m:\u001b[36mpredict\u001b[0m:\u001b[36m81\u001b[0m - \u001b[1mEmbeddings were read\u001b[0m\n",
      "\u001b[32m2024-11-10 09:17:15.253\u001b[0m | \u001b[1mINFO    \u001b[0m | \u001b[36m__main__\u001b[0m:\u001b[36mpredict\u001b[0m:\u001b[36m88\u001b[0m - \u001b[1mtrain_labels and train_labels_with_text were read\u001b[0m\n",
      "\u001b[32m2024-11-10 09:17:15.254\u001b[0m | \u001b[1mINFO    \u001b[0m | \u001b[36m__main__\u001b[0m:\u001b[36mpredict\u001b[0m:\u001b[36m90\u001b[0m - \u001b[1mTest image filenames were read\u001b[0m\n",
      "\u001b[32m2024-11-10 09:17:15.258\u001b[0m | \u001b[1mINFO    \u001b[0m | \u001b[36m__main__\u001b[0m:\u001b[36mpredict\u001b[0m:\u001b[36m95\u001b[0m - \u001b[1mNeighbours were found - [139]\u001b[0m\n",
      " 27%|██▋       | 31/113 [01:41<04:25,  3.24s/it]"
     ]
    },
    {
     "name": "stdout",
     "output_type": "stream",
     "text": [
      "\n",
      "0: 1088x832 1 2, 411.8ms\n",
      "Speed: 5.5ms preprocess, 411.8ms inference, 2.7ms postprocess per image at shape (1, 3, 1088, 832)\n",
      "\n",
      "0: 640x480 1 0, 98.7ms\n",
      "Speed: 1.1ms preprocess, 98.7ms inference, 0.5ms postprocess per image at shape (1, 3, 640, 480)\n"
     ]
    },
    {
     "name": "stderr",
     "output_type": "stream",
     "text": [
      "\u001b[32m2024-11-10 09:17:18.340\u001b[0m | \u001b[1mINFO    \u001b[0m | \u001b[36m__main__\u001b[0m:\u001b[36m__init__\u001b[0m:\u001b[36m12\u001b[0m - \u001b[1mLoaded configuration from config.yaml\u001b[0m\n",
      "\u001b[32m2024-11-10 09:17:18.490\u001b[0m | \u001b[1mINFO    \u001b[0m | \u001b[36m__main__\u001b[0m:\u001b[36mpredict\u001b[0m:\u001b[36m81\u001b[0m - \u001b[1mEmbeddings were read\u001b[0m\n",
      "\u001b[32m2024-11-10 09:17:18.498\u001b[0m | \u001b[1mINFO    \u001b[0m | \u001b[36m__main__\u001b[0m:\u001b[36mpredict\u001b[0m:\u001b[36m88\u001b[0m - \u001b[1mtrain_labels and train_labels_with_text were read\u001b[0m\n",
      "\u001b[32m2024-11-10 09:17:18.499\u001b[0m | \u001b[1mINFO    \u001b[0m | \u001b[36m__main__\u001b[0m:\u001b[36mpredict\u001b[0m:\u001b[36m90\u001b[0m - \u001b[1mTest image filenames were read\u001b[0m\n",
      "\u001b[32m2024-11-10 09:17:18.505\u001b[0m | \u001b[1mINFO    \u001b[0m | \u001b[36m__main__\u001b[0m:\u001b[36mpredict\u001b[0m:\u001b[36m95\u001b[0m - \u001b[1mNeighbours were found - [41]\u001b[0m\n",
      " 28%|██▊       | 32/113 [01:44<04:22,  3.24s/it]"
     ]
    },
    {
     "name": "stdout",
     "output_type": "stream",
     "text": [
      "\n",
      "0: 1088x832 2 2s, 436.7ms\n",
      "Speed: 5.2ms preprocess, 436.7ms inference, 4.4ms postprocess per image at shape (1, 3, 1088, 832)\n",
      "\n",
      "0: 640x480 1 0, 96.9ms\n",
      "Speed: 1.2ms preprocess, 96.9ms inference, 0.5ms postprocess per image at shape (1, 3, 640, 480)\n"
     ]
    },
    {
     "name": "stderr",
     "output_type": "stream",
     "text": [
      "\u001b[32m2024-11-10 09:17:21.435\u001b[0m | \u001b[1mINFO    \u001b[0m | \u001b[36m__main__\u001b[0m:\u001b[36m__init__\u001b[0m:\u001b[36m12\u001b[0m - \u001b[1mLoaded configuration from config.yaml\u001b[0m\n",
      "\u001b[32m2024-11-10 09:17:21.590\u001b[0m | \u001b[1mINFO    \u001b[0m | \u001b[36m__main__\u001b[0m:\u001b[36mpredict\u001b[0m:\u001b[36m81\u001b[0m - \u001b[1mEmbeddings were read\u001b[0m\n",
      "\u001b[32m2024-11-10 09:17:21.597\u001b[0m | \u001b[1mINFO    \u001b[0m | \u001b[36m__main__\u001b[0m:\u001b[36mpredict\u001b[0m:\u001b[36m88\u001b[0m - \u001b[1mtrain_labels and train_labels_with_text were read\u001b[0m\n",
      "\u001b[32m2024-11-10 09:17:21.597\u001b[0m | \u001b[1mINFO    \u001b[0m | \u001b[36m__main__\u001b[0m:\u001b[36mpredict\u001b[0m:\u001b[36m90\u001b[0m - \u001b[1mTest image filenames were read\u001b[0m\n",
      "\u001b[32m2024-11-10 09:17:21.602\u001b[0m | \u001b[1mINFO    \u001b[0m | \u001b[36m__main__\u001b[0m:\u001b[36mpredict\u001b[0m:\u001b[36m95\u001b[0m - \u001b[1mNeighbours were found - [182]\u001b[0m\n",
      " 29%|██▉       | 33/113 [01:47<04:15,  3.20s/it]"
     ]
    },
    {
     "name": "stdout",
     "output_type": "stream",
     "text": [
      "\n",
      "0: 832x1088 1 2, 482.3ms\n",
      "Speed: 11.8ms preprocess, 482.3ms inference, 3.0ms postprocess per image at shape (1, 3, 832, 1088)\n",
      "\n",
      "0: 480x640 1 0, 88.6ms\n",
      "Speed: 1.3ms preprocess, 88.6ms inference, 0.5ms postprocess per image at shape (1, 3, 480, 640)\n"
     ]
    },
    {
     "name": "stderr",
     "output_type": "stream",
     "text": [
      "\u001b[32m2024-11-10 09:17:25.083\u001b[0m | \u001b[1mINFO    \u001b[0m | \u001b[36m__main__\u001b[0m:\u001b[36m__init__\u001b[0m:\u001b[36m12\u001b[0m - \u001b[1mLoaded configuration from config.yaml\u001b[0m\n",
      "\u001b[32m2024-11-10 09:17:25.243\u001b[0m | \u001b[1mINFO    \u001b[0m | \u001b[36m__main__\u001b[0m:\u001b[36mpredict\u001b[0m:\u001b[36m81\u001b[0m - \u001b[1mEmbeddings were read\u001b[0m\n",
      "\u001b[32m2024-11-10 09:17:25.250\u001b[0m | \u001b[1mINFO    \u001b[0m | \u001b[36m__main__\u001b[0m:\u001b[36mpredict\u001b[0m:\u001b[36m88\u001b[0m - \u001b[1mtrain_labels and train_labels_with_text were read\u001b[0m\n",
      "\u001b[32m2024-11-10 09:17:25.251\u001b[0m | \u001b[1mINFO    \u001b[0m | \u001b[36m__main__\u001b[0m:\u001b[36mpredict\u001b[0m:\u001b[36m90\u001b[0m - \u001b[1mTest image filenames were read\u001b[0m\n",
      "\u001b[32m2024-11-10 09:17:25.255\u001b[0m | \u001b[1mINFO    \u001b[0m | \u001b[36m__main__\u001b[0m:\u001b[36mpredict\u001b[0m:\u001b[36m95\u001b[0m - \u001b[1mNeighbours were found - [14]\u001b[0m\n",
      " 30%|███       | 34/113 [01:51<04:23,  3.33s/it]"
     ]
    },
    {
     "name": "stdout",
     "output_type": "stream",
     "text": [
      "\n",
      "0: 1088x832 (no detections), 429.3ms\n",
      "Speed: 4.1ms preprocess, 429.3ms inference, 0.3ms postprocess per image at shape (1, 3, 1088, 832)\n",
      "\n",
      "0: 640x480 1 0, 98.8ms\n",
      "Speed: 1.2ms preprocess, 98.8ms inference, 0.4ms postprocess per image at shape (1, 3, 640, 480)\n"
     ]
    },
    {
     "name": "stderr",
     "output_type": "stream",
     "text": [
      "\u001b[32m2024-11-10 09:17:28.256\u001b[0m | \u001b[1mINFO    \u001b[0m | \u001b[36m__main__\u001b[0m:\u001b[36m__init__\u001b[0m:\u001b[36m12\u001b[0m - \u001b[1mLoaded configuration from config.yaml\u001b[0m\n",
      "\u001b[32m2024-11-10 09:17:28.422\u001b[0m | \u001b[1mINFO    \u001b[0m | \u001b[36m__main__\u001b[0m:\u001b[36mpredict\u001b[0m:\u001b[36m81\u001b[0m - \u001b[1mEmbeddings were read\u001b[0m\n",
      "\u001b[32m2024-11-10 09:17:28.430\u001b[0m | \u001b[1mINFO    \u001b[0m | \u001b[36m__main__\u001b[0m:\u001b[36mpredict\u001b[0m:\u001b[36m88\u001b[0m - \u001b[1mtrain_labels and train_labels_with_text were read\u001b[0m\n",
      "\u001b[32m2024-11-10 09:17:28.431\u001b[0m | \u001b[1mINFO    \u001b[0m | \u001b[36m__main__\u001b[0m:\u001b[36mpredict\u001b[0m:\u001b[36m90\u001b[0m - \u001b[1mTest image filenames were read\u001b[0m\n",
      "\u001b[32m2024-11-10 09:17:28.437\u001b[0m | \u001b[1mINFO    \u001b[0m | \u001b[36m__main__\u001b[0m:\u001b[36mpredict\u001b[0m:\u001b[36m95\u001b[0m - \u001b[1mNeighbours were found - [19]\u001b[0m\n",
      " 31%|███       | 35/113 [01:54<04:16,  3.29s/it]"
     ]
    },
    {
     "name": "stdout",
     "output_type": "stream",
     "text": [
      "\n",
      "0: 1088x832 2 2s, 438.8ms\n",
      "Speed: 5.9ms preprocess, 438.8ms inference, 4.4ms postprocess per image at shape (1, 3, 1088, 832)\n",
      "\n",
      "0: 640x480 1 0, 97.3ms\n",
      "Speed: 1.2ms preprocess, 97.3ms inference, 0.5ms postprocess per image at shape (1, 3, 640, 480)\n"
     ]
    },
    {
     "name": "stderr",
     "output_type": "stream",
     "text": [
      "\u001b[32m2024-11-10 09:17:31.447\u001b[0m | \u001b[1mINFO    \u001b[0m | \u001b[36m__main__\u001b[0m:\u001b[36m__init__\u001b[0m:\u001b[36m12\u001b[0m - \u001b[1mLoaded configuration from config.yaml\u001b[0m\n",
      "\u001b[32m2024-11-10 09:17:31.619\u001b[0m | \u001b[1mINFO    \u001b[0m | \u001b[36m__main__\u001b[0m:\u001b[36mpredict\u001b[0m:\u001b[36m81\u001b[0m - \u001b[1mEmbeddings were read\u001b[0m\n",
      "\u001b[32m2024-11-10 09:17:31.627\u001b[0m | \u001b[1mINFO    \u001b[0m | \u001b[36m__main__\u001b[0m:\u001b[36mpredict\u001b[0m:\u001b[36m88\u001b[0m - \u001b[1mtrain_labels and train_labels_with_text were read\u001b[0m\n",
      "\u001b[32m2024-11-10 09:17:31.627\u001b[0m | \u001b[1mINFO    \u001b[0m | \u001b[36m__main__\u001b[0m:\u001b[36mpredict\u001b[0m:\u001b[36m90\u001b[0m - \u001b[1mTest image filenames were read\u001b[0m\n",
      "\u001b[32m2024-11-10 09:17:31.633\u001b[0m | \u001b[1mINFO    \u001b[0m | \u001b[36m__main__\u001b[0m:\u001b[36mpredict\u001b[0m:\u001b[36m95\u001b[0m - \u001b[1mNeighbours were found - [93]\u001b[0m\n",
      " 32%|███▏      | 36/113 [01:57<04:11,  3.26s/it]"
     ]
    },
    {
     "name": "stdout",
     "output_type": "stream",
     "text": [
      "\n",
      "0: 1088x832 2 2s, 420.8ms\n",
      "Speed: 6.8ms preprocess, 420.8ms inference, 3.7ms postprocess per image at shape (1, 3, 1088, 832)\n",
      "\n",
      "0: 640x480 1 0, 96.7ms\n",
      "Speed: 1.2ms preprocess, 96.7ms inference, 0.7ms postprocess per image at shape (1, 3, 640, 480)\n"
     ]
    },
    {
     "name": "stderr",
     "output_type": "stream",
     "text": [
      "\u001b[32m2024-11-10 09:17:34.608\u001b[0m | \u001b[1mINFO    \u001b[0m | \u001b[36m__main__\u001b[0m:\u001b[36m__init__\u001b[0m:\u001b[36m12\u001b[0m - \u001b[1mLoaded configuration from config.yaml\u001b[0m\n",
      "\u001b[32m2024-11-10 09:17:34.762\u001b[0m | \u001b[1mINFO    \u001b[0m | \u001b[36m__main__\u001b[0m:\u001b[36mpredict\u001b[0m:\u001b[36m81\u001b[0m - \u001b[1mEmbeddings were read\u001b[0m\n",
      "\u001b[32m2024-11-10 09:17:34.770\u001b[0m | \u001b[1mINFO    \u001b[0m | \u001b[36m__main__\u001b[0m:\u001b[36mpredict\u001b[0m:\u001b[36m88\u001b[0m - \u001b[1mtrain_labels and train_labels_with_text were read\u001b[0m\n",
      "\u001b[32m2024-11-10 09:17:34.770\u001b[0m | \u001b[1mINFO    \u001b[0m | \u001b[36m__main__\u001b[0m:\u001b[36mpredict\u001b[0m:\u001b[36m90\u001b[0m - \u001b[1mTest image filenames were read\u001b[0m\n",
      "\u001b[32m2024-11-10 09:17:34.774\u001b[0m | \u001b[1mINFO    \u001b[0m | \u001b[36m__main__\u001b[0m:\u001b[36mpredict\u001b[0m:\u001b[36m95\u001b[0m - \u001b[1mNeighbours were found - [57]\u001b[0m\n",
      " 33%|███▎      | 37/113 [02:00<04:05,  3.23s/it]"
     ]
    },
    {
     "name": "stdout",
     "output_type": "stream",
     "text": [
      "\n",
      "0: 1088x832 (no detections), 452.6ms\n",
      "Speed: 4.4ms preprocess, 452.6ms inference, 0.5ms postprocess per image at shape (1, 3, 1088, 832)\n",
      "\n",
      "0: 640x480 2 0s, 102.0ms\n",
      "Speed: 4.2ms preprocess, 102.0ms inference, 0.5ms postprocess per image at shape (1, 3, 640, 480)\n"
     ]
    },
    {
     "name": "stderr",
     "output_type": "stream",
     "text": [
      "\u001b[32m2024-11-10 09:17:37.877\u001b[0m | \u001b[1mINFO    \u001b[0m | \u001b[36m__main__\u001b[0m:\u001b[36m__init__\u001b[0m:\u001b[36m12\u001b[0m - \u001b[1mLoaded configuration from config.yaml\u001b[0m\n",
      "\u001b[32m2024-11-10 09:17:38.081\u001b[0m | \u001b[1mINFO    \u001b[0m | \u001b[36m__main__\u001b[0m:\u001b[36mpredict\u001b[0m:\u001b[36m81\u001b[0m - \u001b[1mEmbeddings were read\u001b[0m\n",
      "\u001b[32m2024-11-10 09:17:38.090\u001b[0m | \u001b[1mINFO    \u001b[0m | \u001b[36m__main__\u001b[0m:\u001b[36mpredict\u001b[0m:\u001b[36m88\u001b[0m - \u001b[1mtrain_labels and train_labels_with_text were read\u001b[0m\n",
      "\u001b[32m2024-11-10 09:17:38.090\u001b[0m | \u001b[1mINFO    \u001b[0m | \u001b[36m__main__\u001b[0m:\u001b[36mpredict\u001b[0m:\u001b[36m90\u001b[0m - \u001b[1mTest image filenames were read\u001b[0m\n",
      "\u001b[32m2024-11-10 09:17:38.094\u001b[0m | \u001b[1mINFO    \u001b[0m | \u001b[36m__main__\u001b[0m:\u001b[36mpredict\u001b[0m:\u001b[36m95\u001b[0m - \u001b[1mNeighbours were found - [249]\u001b[0m\n",
      " 34%|███▎      | 38/113 [02:04<04:03,  3.25s/it]"
     ]
    },
    {
     "name": "stdout",
     "output_type": "stream",
     "text": [
      "\n",
      "0: 1088x832 2 2s, 430.4ms\n",
      "Speed: 7.5ms preprocess, 430.4ms inference, 4.3ms postprocess per image at shape (1, 3, 1088, 832)\n",
      "\n",
      "0: 640x480 1 0, 94.3ms\n",
      "Speed: 3.9ms preprocess, 94.3ms inference, 1.0ms postprocess per image at shape (1, 3, 640, 480)\n"
     ]
    },
    {
     "name": "stderr",
     "output_type": "stream",
     "text": [
      "\u001b[32m2024-11-10 09:17:42.890\u001b[0m | \u001b[1mINFO    \u001b[0m | \u001b[36m__main__\u001b[0m:\u001b[36m__init__\u001b[0m:\u001b[36m12\u001b[0m - \u001b[1mLoaded configuration from config.yaml\u001b[0m\n",
      "\u001b[32m2024-11-10 09:17:43.138\u001b[0m | \u001b[1mINFO    \u001b[0m | \u001b[36m__main__\u001b[0m:\u001b[36mpredict\u001b[0m:\u001b[36m81\u001b[0m - \u001b[1mEmbeddings were read\u001b[0m\n",
      "\u001b[32m2024-11-10 09:17:43.147\u001b[0m | \u001b[1mINFO    \u001b[0m | \u001b[36m__main__\u001b[0m:\u001b[36mpredict\u001b[0m:\u001b[36m88\u001b[0m - \u001b[1mtrain_labels and train_labels_with_text were read\u001b[0m\n",
      "\u001b[32m2024-11-10 09:17:43.147\u001b[0m | \u001b[1mINFO    \u001b[0m | \u001b[36m__main__\u001b[0m:\u001b[36mpredict\u001b[0m:\u001b[36m90\u001b[0m - \u001b[1mTest image filenames were read\u001b[0m\n",
      "\u001b[32m2024-11-10 09:17:43.153\u001b[0m | \u001b[1mINFO    \u001b[0m | \u001b[36m__main__\u001b[0m:\u001b[36mpredict\u001b[0m:\u001b[36m95\u001b[0m - \u001b[1mNeighbours were found - [0]\u001b[0m\n",
      " 35%|███▍      | 39/113 [02:09<04:40,  3.80s/it]"
     ]
    },
    {
     "name": "stdout",
     "output_type": "stream",
     "text": [
      "\n",
      "0: 832x1088 2 2s, 424.1ms\n",
      "Speed: 5.9ms preprocess, 424.1ms inference, 3.7ms postprocess per image at shape (1, 3, 832, 1088)\n",
      "\n",
      "0: 480x640 1 0, 94.6ms\n",
      "Speed: 2.3ms preprocess, 94.6ms inference, 0.5ms postprocess per image at shape (1, 3, 480, 640)\n"
     ]
    },
    {
     "name": "stderr",
     "output_type": "stream",
     "text": [
      "\u001b[32m2024-11-10 09:17:46.119\u001b[0m | \u001b[1mINFO    \u001b[0m | \u001b[36m__main__\u001b[0m:\u001b[36m__init__\u001b[0m:\u001b[36m12\u001b[0m - \u001b[1mLoaded configuration from config.yaml\u001b[0m\n",
      "\u001b[32m2024-11-10 09:17:46.276\u001b[0m | \u001b[1mINFO    \u001b[0m | \u001b[36m__main__\u001b[0m:\u001b[36mpredict\u001b[0m:\u001b[36m81\u001b[0m - \u001b[1mEmbeddings were read\u001b[0m\n",
      "\u001b[32m2024-11-10 09:17:46.285\u001b[0m | \u001b[1mINFO    \u001b[0m | \u001b[36m__main__\u001b[0m:\u001b[36mpredict\u001b[0m:\u001b[36m88\u001b[0m - \u001b[1mtrain_labels and train_labels_with_text were read\u001b[0m\n",
      "\u001b[32m2024-11-10 09:17:46.286\u001b[0m | \u001b[1mINFO    \u001b[0m | \u001b[36m__main__\u001b[0m:\u001b[36mpredict\u001b[0m:\u001b[36m90\u001b[0m - \u001b[1mTest image filenames were read\u001b[0m\n",
      "\u001b[32m2024-11-10 09:17:46.289\u001b[0m | \u001b[1mINFO    \u001b[0m | \u001b[36m__main__\u001b[0m:\u001b[36mpredict\u001b[0m:\u001b[36m95\u001b[0m - \u001b[1mNeighbours were found - [40]\u001b[0m\n",
      " 35%|███▌      | 40/113 [02:12<04:22,  3.60s/it]"
     ]
    },
    {
     "name": "stdout",
     "output_type": "stream",
     "text": [
      "\n",
      "0: 1088x832 2 2s, 420.6ms\n",
      "Speed: 4.2ms preprocess, 420.6ms inference, 4.4ms postprocess per image at shape (1, 3, 1088, 832)\n",
      "\n",
      "0: 640x480 1 0, 91.0ms\n",
      "Speed: 2.7ms preprocess, 91.0ms inference, 0.5ms postprocess per image at shape (1, 3, 640, 480)\n"
     ]
    },
    {
     "name": "stderr",
     "output_type": "stream",
     "text": [
      "\u001b[32m2024-11-10 09:17:49.226\u001b[0m | \u001b[1mINFO    \u001b[0m | \u001b[36m__main__\u001b[0m:\u001b[36m__init__\u001b[0m:\u001b[36m12\u001b[0m - \u001b[1mLoaded configuration from config.yaml\u001b[0m\n",
      "\u001b[32m2024-11-10 09:17:49.382\u001b[0m | \u001b[1mINFO    \u001b[0m | \u001b[36m__main__\u001b[0m:\u001b[36mpredict\u001b[0m:\u001b[36m81\u001b[0m - \u001b[1mEmbeddings were read\u001b[0m\n",
      "\u001b[32m2024-11-10 09:17:49.390\u001b[0m | \u001b[1mINFO    \u001b[0m | \u001b[36m__main__\u001b[0m:\u001b[36mpredict\u001b[0m:\u001b[36m88\u001b[0m - \u001b[1mtrain_labels and train_labels_with_text were read\u001b[0m\n",
      "\u001b[32m2024-11-10 09:17:49.390\u001b[0m | \u001b[1mINFO    \u001b[0m | \u001b[36m__main__\u001b[0m:\u001b[36mpredict\u001b[0m:\u001b[36m90\u001b[0m - \u001b[1mTest image filenames were read\u001b[0m\n",
      "\u001b[32m2024-11-10 09:17:49.394\u001b[0m | \u001b[1mINFO    \u001b[0m | \u001b[36m__main__\u001b[0m:\u001b[36mpredict\u001b[0m:\u001b[36m95\u001b[0m - \u001b[1mNeighbours were found - [93]\u001b[0m\n",
      " 36%|███▋      | 41/113 [02:15<04:08,  3.45s/it]"
     ]
    },
    {
     "name": "stdout",
     "output_type": "stream",
     "text": [
      "\n",
      "0: 1088x832 2 2s, 474.5ms\n",
      "Speed: 5.7ms preprocess, 474.5ms inference, 3.7ms postprocess per image at shape (1, 3, 1088, 832)\n",
      "\n",
      "0: 640x480 1 0, 96.3ms\n",
      "Speed: 1.1ms preprocess, 96.3ms inference, 0.5ms postprocess per image at shape (1, 3, 640, 480)\n"
     ]
    },
    {
     "name": "stderr",
     "output_type": "stream",
     "text": [
      "\u001b[32m2024-11-10 09:17:53.035\u001b[0m | \u001b[1mINFO    \u001b[0m | \u001b[36m__main__\u001b[0m:\u001b[36m__init__\u001b[0m:\u001b[36m12\u001b[0m - \u001b[1mLoaded configuration from config.yaml\u001b[0m\n",
      "\u001b[32m2024-11-10 09:17:53.186\u001b[0m | \u001b[1mINFO    \u001b[0m | \u001b[36m__main__\u001b[0m:\u001b[36mpredict\u001b[0m:\u001b[36m81\u001b[0m - \u001b[1mEmbeddings were read\u001b[0m\n",
      "\u001b[32m2024-11-10 09:17:53.194\u001b[0m | \u001b[1mINFO    \u001b[0m | \u001b[36m__main__\u001b[0m:\u001b[36mpredict\u001b[0m:\u001b[36m88\u001b[0m - \u001b[1mtrain_labels and train_labels_with_text were read\u001b[0m\n",
      "\u001b[32m2024-11-10 09:17:53.195\u001b[0m | \u001b[1mINFO    \u001b[0m | \u001b[36m__main__\u001b[0m:\u001b[36mpredict\u001b[0m:\u001b[36m90\u001b[0m - \u001b[1mTest image filenames were read\u001b[0m\n",
      "\u001b[32m2024-11-10 09:17:53.201\u001b[0m | \u001b[1mINFO    \u001b[0m | \u001b[36m__main__\u001b[0m:\u001b[36mpredict\u001b[0m:\u001b[36m95\u001b[0m - \u001b[1mNeighbours were found - [81]\u001b[0m\n",
      " 37%|███▋      | 42/113 [02:19<04:12,  3.55s/it]"
     ]
    },
    {
     "name": "stdout",
     "output_type": "stream",
     "text": [
      "\n",
      "0: 1088x832 1 2, 447.2ms\n",
      "Speed: 4.1ms preprocess, 447.2ms inference, 3.0ms postprocess per image at shape (1, 3, 1088, 832)\n",
      "\n",
      "0: 640x480 1 0, 96.6ms\n",
      "Speed: 1.4ms preprocess, 96.6ms inference, 1.1ms postprocess per image at shape (1, 3, 640, 480)\n"
     ]
    },
    {
     "name": "stderr",
     "output_type": "stream",
     "text": [
      "\u001b[32m2024-11-10 09:17:56.203\u001b[0m | \u001b[1mINFO    \u001b[0m | \u001b[36m__main__\u001b[0m:\u001b[36m__init__\u001b[0m:\u001b[36m12\u001b[0m - \u001b[1mLoaded configuration from config.yaml\u001b[0m\n",
      "\u001b[32m2024-11-10 09:17:56.364\u001b[0m | \u001b[1mINFO    \u001b[0m | \u001b[36m__main__\u001b[0m:\u001b[36mpredict\u001b[0m:\u001b[36m81\u001b[0m - \u001b[1mEmbeddings were read\u001b[0m\n",
      "\u001b[32m2024-11-10 09:17:56.372\u001b[0m | \u001b[1mINFO    \u001b[0m | \u001b[36m__main__\u001b[0m:\u001b[36mpredict\u001b[0m:\u001b[36m88\u001b[0m - \u001b[1mtrain_labels and train_labels_with_text were read\u001b[0m\n",
      "\u001b[32m2024-11-10 09:17:56.373\u001b[0m | \u001b[1mINFO    \u001b[0m | \u001b[36m__main__\u001b[0m:\u001b[36mpredict\u001b[0m:\u001b[36m90\u001b[0m - \u001b[1mTest image filenames were read\u001b[0m\n",
      "\u001b[32m2024-11-10 09:17:56.377\u001b[0m | \u001b[1mINFO    \u001b[0m | \u001b[36m__main__\u001b[0m:\u001b[36mpredict\u001b[0m:\u001b[36m95\u001b[0m - \u001b[1mNeighbours were found - [86]\u001b[0m\n",
      " 38%|███▊      | 43/113 [02:22<04:01,  3.45s/it]"
     ]
    },
    {
     "name": "stdout",
     "output_type": "stream",
     "text": [
      "\n",
      "0: 1088x832 2 2s, 385.7ms\n",
      "Speed: 4.1ms preprocess, 385.7ms inference, 3.5ms postprocess per image at shape (1, 3, 1088, 832)\n",
      "\n",
      "0: 640x480 1 0, 81.0ms\n",
      "Speed: 1.4ms preprocess, 81.0ms inference, 0.5ms postprocess per image at shape (1, 3, 640, 480)\n"
     ]
    },
    {
     "name": "stderr",
     "output_type": "stream",
     "text": [
      "\u001b[32m2024-11-10 09:17:59.168\u001b[0m | \u001b[1mINFO    \u001b[0m | \u001b[36m__main__\u001b[0m:\u001b[36m__init__\u001b[0m:\u001b[36m12\u001b[0m - \u001b[1mLoaded configuration from config.yaml\u001b[0m\n",
      "\u001b[32m2024-11-10 09:17:59.321\u001b[0m | \u001b[1mINFO    \u001b[0m | \u001b[36m__main__\u001b[0m:\u001b[36mpredict\u001b[0m:\u001b[36m81\u001b[0m - \u001b[1mEmbeddings were read\u001b[0m\n",
      "\u001b[32m2024-11-10 09:17:59.330\u001b[0m | \u001b[1mINFO    \u001b[0m | \u001b[36m__main__\u001b[0m:\u001b[36mpredict\u001b[0m:\u001b[36m88\u001b[0m - \u001b[1mtrain_labels and train_labels_with_text were read\u001b[0m\n",
      "\u001b[32m2024-11-10 09:17:59.330\u001b[0m | \u001b[1mINFO    \u001b[0m | \u001b[36m__main__\u001b[0m:\u001b[36mpredict\u001b[0m:\u001b[36m90\u001b[0m - \u001b[1mTest image filenames were read\u001b[0m\n",
      "\u001b[32m2024-11-10 09:17:59.335\u001b[0m | \u001b[1mINFO    \u001b[0m | \u001b[36m__main__\u001b[0m:\u001b[36mpredict\u001b[0m:\u001b[36m95\u001b[0m - \u001b[1mNeighbours were found - [84]\u001b[0m\n",
      " 39%|███▉      | 44/113 [02:25<03:47,  3.30s/it]"
     ]
    },
    {
     "name": "stdout",
     "output_type": "stream",
     "text": [
      "\n",
      "0: 832x1088 1 2, 365.0ms\n",
      "Speed: 3.9ms preprocess, 365.0ms inference, 2.6ms postprocess per image at shape (1, 3, 832, 1088)\n",
      "\n",
      "0: 480x640 1 0, 103.3ms\n",
      "Speed: 1.3ms preprocess, 103.3ms inference, 0.5ms postprocess per image at shape (1, 3, 480, 640)\n"
     ]
    },
    {
     "name": "stderr",
     "output_type": "stream",
     "text": [
      "\u001b[32m2024-11-10 09:18:02.262\u001b[0m | \u001b[1mINFO    \u001b[0m | \u001b[36m__main__\u001b[0m:\u001b[36m__init__\u001b[0m:\u001b[36m12\u001b[0m - \u001b[1mLoaded configuration from config.yaml\u001b[0m\n",
      "\u001b[32m2024-11-10 09:18:02.435\u001b[0m | \u001b[1mINFO    \u001b[0m | \u001b[36m__main__\u001b[0m:\u001b[36mpredict\u001b[0m:\u001b[36m81\u001b[0m - \u001b[1mEmbeddings were read\u001b[0m\n",
      "\u001b[32m2024-11-10 09:18:02.444\u001b[0m | \u001b[1mINFO    \u001b[0m | \u001b[36m__main__\u001b[0m:\u001b[36mpredict\u001b[0m:\u001b[36m88\u001b[0m - \u001b[1mtrain_labels and train_labels_with_text were read\u001b[0m\n",
      "\u001b[32m2024-11-10 09:18:02.444\u001b[0m | \u001b[1mINFO    \u001b[0m | \u001b[36m__main__\u001b[0m:\u001b[36mpredict\u001b[0m:\u001b[36m90\u001b[0m - \u001b[1mTest image filenames were read\u001b[0m\n",
      "\u001b[32m2024-11-10 09:18:02.448\u001b[0m | \u001b[1mINFO    \u001b[0m | \u001b[36m__main__\u001b[0m:\u001b[36mpredict\u001b[0m:\u001b[36m95\u001b[0m - \u001b[1mNeighbours were found - [188]\u001b[0m\n",
      " 40%|███▉      | 45/113 [02:28<03:39,  3.23s/it]"
     ]
    },
    {
     "name": "stdout",
     "output_type": "stream",
     "text": [
      "\n",
      "0: 832x1088 2 2s, 358.5ms\n",
      "Speed: 3.7ms preprocess, 358.5ms inference, 3.6ms postprocess per image at shape (1, 3, 832, 1088)\n",
      "\n",
      "0: 480x640 1 0, 98.0ms\n",
      "Speed: 1.3ms preprocess, 98.0ms inference, 0.5ms postprocess per image at shape (1, 3, 480, 640)\n"
     ]
    },
    {
     "name": "stderr",
     "output_type": "stream",
     "text": [
      "\u001b[32m2024-11-10 09:18:05.219\u001b[0m | \u001b[1mINFO    \u001b[0m | \u001b[36m__main__\u001b[0m:\u001b[36m__init__\u001b[0m:\u001b[36m12\u001b[0m - \u001b[1mLoaded configuration from config.yaml\u001b[0m\n",
      "\u001b[32m2024-11-10 09:18:05.346\u001b[0m | \u001b[1mINFO    \u001b[0m | \u001b[36m__main__\u001b[0m:\u001b[36mpredict\u001b[0m:\u001b[36m81\u001b[0m - \u001b[1mEmbeddings were read\u001b[0m\n",
      "\u001b[32m2024-11-10 09:18:05.353\u001b[0m | \u001b[1mINFO    \u001b[0m | \u001b[36m__main__\u001b[0m:\u001b[36mpredict\u001b[0m:\u001b[36m88\u001b[0m - \u001b[1mtrain_labels and train_labels_with_text were read\u001b[0m\n",
      "\u001b[32m2024-11-10 09:18:05.353\u001b[0m | \u001b[1mINFO    \u001b[0m | \u001b[36m__main__\u001b[0m:\u001b[36mpredict\u001b[0m:\u001b[36m90\u001b[0m - \u001b[1mTest image filenames were read\u001b[0m\n",
      "\u001b[32m2024-11-10 09:18:05.357\u001b[0m | \u001b[1mINFO    \u001b[0m | \u001b[36m__main__\u001b[0m:\u001b[36mpredict\u001b[0m:\u001b[36m95\u001b[0m - \u001b[1mNeighbours were found - [69]\u001b[0m\n",
      " 41%|████      | 46/113 [02:31<03:30,  3.14s/it]"
     ]
    },
    {
     "name": "stdout",
     "output_type": "stream",
     "text": [
      "\n",
      "0: 1088x832 1 2, 349.8ms\n",
      "Speed: 4.5ms preprocess, 349.8ms inference, 2.4ms postprocess per image at shape (1, 3, 1088, 832)\n",
      "\n",
      "0: 640x480 1 0, 110.3ms\n",
      "Speed: 1.8ms preprocess, 110.3ms inference, 0.8ms postprocess per image at shape (1, 3, 640, 480)\n"
     ]
    },
    {
     "name": "stderr",
     "output_type": "stream",
     "text": [
      "\u001b[32m2024-11-10 09:18:08.048\u001b[0m | \u001b[1mINFO    \u001b[0m | \u001b[36m__main__\u001b[0m:\u001b[36m__init__\u001b[0m:\u001b[36m12\u001b[0m - \u001b[1mLoaded configuration from config.yaml\u001b[0m\n",
      "\u001b[32m2024-11-10 09:18:08.179\u001b[0m | \u001b[1mINFO    \u001b[0m | \u001b[36m__main__\u001b[0m:\u001b[36mpredict\u001b[0m:\u001b[36m81\u001b[0m - \u001b[1mEmbeddings were read\u001b[0m\n",
      "\u001b[32m2024-11-10 09:18:08.185\u001b[0m | \u001b[1mINFO    \u001b[0m | \u001b[36m__main__\u001b[0m:\u001b[36mpredict\u001b[0m:\u001b[36m88\u001b[0m - \u001b[1mtrain_labels and train_labels_with_text were read\u001b[0m\n",
      "\u001b[32m2024-11-10 09:18:08.185\u001b[0m | \u001b[1mINFO    \u001b[0m | \u001b[36m__main__\u001b[0m:\u001b[36mpredict\u001b[0m:\u001b[36m90\u001b[0m - \u001b[1mTest image filenames were read\u001b[0m\n",
      "\u001b[32m2024-11-10 09:18:08.189\u001b[0m | \u001b[1mINFO    \u001b[0m | \u001b[36m__main__\u001b[0m:\u001b[36mpredict\u001b[0m:\u001b[36m95\u001b[0m - \u001b[1mNeighbours were found - [93]\u001b[0m\n",
      " 42%|████▏     | 47/113 [02:34<03:21,  3.05s/it]"
     ]
    },
    {
     "name": "stdout",
     "output_type": "stream",
     "text": [
      "\n",
      "0: 832x1088 1 2, 349.0ms\n",
      "Speed: 4.5ms preprocess, 349.0ms inference, 2.6ms postprocess per image at shape (1, 3, 832, 1088)\n",
      "\n",
      "0: 480x640 1 0, 79.9ms\n",
      "Speed: 2.1ms preprocess, 79.9ms inference, 0.5ms postprocess per image at shape (1, 3, 480, 640)\n"
     ]
    },
    {
     "name": "stderr",
     "output_type": "stream",
     "text": [
      "\u001b[32m2024-11-10 09:18:11.263\u001b[0m | \u001b[1mINFO    \u001b[0m | \u001b[36m__main__\u001b[0m:\u001b[36m__init__\u001b[0m:\u001b[36m12\u001b[0m - \u001b[1mLoaded configuration from config.yaml\u001b[0m\n",
      "\u001b[32m2024-11-10 09:18:11.448\u001b[0m | \u001b[1mINFO    \u001b[0m | \u001b[36m__main__\u001b[0m:\u001b[36mpredict\u001b[0m:\u001b[36m81\u001b[0m - \u001b[1mEmbeddings were read\u001b[0m\n",
      "\u001b[32m2024-11-10 09:18:11.455\u001b[0m | \u001b[1mINFO    \u001b[0m | \u001b[36m__main__\u001b[0m:\u001b[36mpredict\u001b[0m:\u001b[36m88\u001b[0m - \u001b[1mtrain_labels and train_labels_with_text were read\u001b[0m\n",
      "\u001b[32m2024-11-10 09:18:11.455\u001b[0m | \u001b[1mINFO    \u001b[0m | \u001b[36m__main__\u001b[0m:\u001b[36mpredict\u001b[0m:\u001b[36m90\u001b[0m - \u001b[1mTest image filenames were read\u001b[0m\n",
      "\u001b[32m2024-11-10 09:18:11.459\u001b[0m | \u001b[1mINFO    \u001b[0m | \u001b[36m__main__\u001b[0m:\u001b[36mpredict\u001b[0m:\u001b[36m95\u001b[0m - \u001b[1mNeighbours were found - [251]\u001b[0m\n",
      " 42%|████▏     | 48/113 [02:37<03:22,  3.11s/it]"
     ]
    },
    {
     "name": "stdout",
     "output_type": "stream",
     "text": [
      "\n",
      "0: 1088x832 2 2s, 352.8ms\n",
      "Speed: 4.0ms preprocess, 352.8ms inference, 3.9ms postprocess per image at shape (1, 3, 1088, 832)\n",
      "\n",
      "0: 640x480 1 0, 81.2ms\n",
      "Speed: 1.2ms preprocess, 81.2ms inference, 0.5ms postprocess per image at shape (1, 3, 640, 480)\n"
     ]
    },
    {
     "name": "stderr",
     "output_type": "stream",
     "text": [
      "\u001b[32m2024-11-10 09:18:14.059\u001b[0m | \u001b[1mINFO    \u001b[0m | \u001b[36m__main__\u001b[0m:\u001b[36m__init__\u001b[0m:\u001b[36m12\u001b[0m - \u001b[1mLoaded configuration from config.yaml\u001b[0m\n",
      "\u001b[32m2024-11-10 09:18:14.194\u001b[0m | \u001b[1mINFO    \u001b[0m | \u001b[36m__main__\u001b[0m:\u001b[36mpredict\u001b[0m:\u001b[36m81\u001b[0m - \u001b[1mEmbeddings were read\u001b[0m\n",
      "\u001b[32m2024-11-10 09:18:14.203\u001b[0m | \u001b[1mINFO    \u001b[0m | \u001b[36m__main__\u001b[0m:\u001b[36mpredict\u001b[0m:\u001b[36m88\u001b[0m - \u001b[1mtrain_labels and train_labels_with_text were read\u001b[0m\n",
      "\u001b[32m2024-11-10 09:18:14.203\u001b[0m | \u001b[1mINFO    \u001b[0m | \u001b[36m__main__\u001b[0m:\u001b[36mpredict\u001b[0m:\u001b[36m90\u001b[0m - \u001b[1mTest image filenames were read\u001b[0m\n",
      "\u001b[32m2024-11-10 09:18:14.207\u001b[0m | \u001b[1mINFO    \u001b[0m | \u001b[36m__main__\u001b[0m:\u001b[36mpredict\u001b[0m:\u001b[36m95\u001b[0m - \u001b[1mNeighbours were found - [225]\u001b[0m\n",
      " 43%|████▎     | 49/113 [02:40<03:12,  3.00s/it]"
     ]
    },
    {
     "name": "stdout",
     "output_type": "stream",
     "text": [
      "\n",
      "0: 1088x832 1 2, 401.1ms\n",
      "Speed: 4.4ms preprocess, 401.1ms inference, 3.2ms postprocess per image at shape (1, 3, 1088, 832)\n",
      "\n",
      "0: 640x480 1 0, 90.8ms\n",
      "Speed: 1.8ms preprocess, 90.8ms inference, 0.5ms postprocess per image at shape (1, 3, 640, 480)\n"
     ]
    },
    {
     "name": "stderr",
     "output_type": "stream",
     "text": [
      "\u001b[32m2024-11-10 09:18:17.078\u001b[0m | \u001b[1mINFO    \u001b[0m | \u001b[36m__main__\u001b[0m:\u001b[36m__init__\u001b[0m:\u001b[36m12\u001b[0m - \u001b[1mLoaded configuration from config.yaml\u001b[0m\n",
      "\u001b[32m2024-11-10 09:18:17.242\u001b[0m | \u001b[1mINFO    \u001b[0m | \u001b[36m__main__\u001b[0m:\u001b[36mpredict\u001b[0m:\u001b[36m81\u001b[0m - \u001b[1mEmbeddings were read\u001b[0m\n",
      "\u001b[32m2024-11-10 09:18:17.251\u001b[0m | \u001b[1mINFO    \u001b[0m | \u001b[36m__main__\u001b[0m:\u001b[36mpredict\u001b[0m:\u001b[36m88\u001b[0m - \u001b[1mtrain_labels and train_labels_with_text were read\u001b[0m\n",
      "\u001b[32m2024-11-10 09:18:17.251\u001b[0m | \u001b[1mINFO    \u001b[0m | \u001b[36m__main__\u001b[0m:\u001b[36mpredict\u001b[0m:\u001b[36m90\u001b[0m - \u001b[1mTest image filenames were read\u001b[0m\n",
      "\u001b[32m2024-11-10 09:18:17.255\u001b[0m | \u001b[1mINFO    \u001b[0m | \u001b[36m__main__\u001b[0m:\u001b[36mpredict\u001b[0m:\u001b[36m95\u001b[0m - \u001b[1mNeighbours were found - [247]\u001b[0m\n",
      " 44%|████▍     | 50/113 [02:43<03:10,  3.02s/it]"
     ]
    },
    {
     "name": "stdout",
     "output_type": "stream",
     "text": [
      "\n",
      "0: 1088x832 2 2s, 403.5ms\n",
      "Speed: 5.8ms preprocess, 403.5ms inference, 4.6ms postprocess per image at shape (1, 3, 1088, 832)\n",
      "\n",
      "0: 640x480 1 0, 101.9ms\n",
      "Speed: 1.4ms preprocess, 101.9ms inference, 0.5ms postprocess per image at shape (1, 3, 640, 480)\n"
     ]
    },
    {
     "name": "stderr",
     "output_type": "stream",
     "text": [
      "\u001b[32m2024-11-10 09:18:20.579\u001b[0m | \u001b[1mINFO    \u001b[0m | \u001b[36m__main__\u001b[0m:\u001b[36m__init__\u001b[0m:\u001b[36m12\u001b[0m - \u001b[1mLoaded configuration from config.yaml\u001b[0m\n",
      "\u001b[32m2024-11-10 09:18:20.733\u001b[0m | \u001b[1mINFO    \u001b[0m | \u001b[36m__main__\u001b[0m:\u001b[36mpredict\u001b[0m:\u001b[36m81\u001b[0m - \u001b[1mEmbeddings were read\u001b[0m\n",
      "\u001b[32m2024-11-10 09:18:20.744\u001b[0m | \u001b[1mINFO    \u001b[0m | \u001b[36m__main__\u001b[0m:\u001b[36mpredict\u001b[0m:\u001b[36m88\u001b[0m - \u001b[1mtrain_labels and train_labels_with_text were read\u001b[0m\n",
      "\u001b[32m2024-11-10 09:18:20.744\u001b[0m | \u001b[1mINFO    \u001b[0m | \u001b[36m__main__\u001b[0m:\u001b[36mpredict\u001b[0m:\u001b[36m90\u001b[0m - \u001b[1mTest image filenames were read\u001b[0m\n",
      "\u001b[32m2024-11-10 09:18:20.749\u001b[0m | \u001b[1mINFO    \u001b[0m | \u001b[36m__main__\u001b[0m:\u001b[36mpredict\u001b[0m:\u001b[36m95\u001b[0m - \u001b[1mNeighbours were found - [74]\u001b[0m\n",
      " 45%|████▌     | 51/113 [02:46<03:16,  3.16s/it]"
     ]
    },
    {
     "name": "stdout",
     "output_type": "stream",
     "text": [
      "\n",
      "0: 1088x832 2 2s, 409.2ms\n",
      "Speed: 4.7ms preprocess, 409.2ms inference, 4.3ms postprocess per image at shape (1, 3, 1088, 832)\n",
      "\n",
      "0: 640x480 1 0, 93.9ms\n",
      "Speed: 1.1ms preprocess, 93.9ms inference, 0.5ms postprocess per image at shape (1, 3, 640, 480)\n"
     ]
    },
    {
     "name": "stderr",
     "output_type": "stream",
     "text": [
      "\u001b[32m2024-11-10 09:18:23.746\u001b[0m | \u001b[1mINFO    \u001b[0m | \u001b[36m__main__\u001b[0m:\u001b[36m__init__\u001b[0m:\u001b[36m12\u001b[0m - \u001b[1mLoaded configuration from config.yaml\u001b[0m\n",
      "\u001b[32m2024-11-10 09:18:23.898\u001b[0m | \u001b[1mINFO    \u001b[0m | \u001b[36m__main__\u001b[0m:\u001b[36mpredict\u001b[0m:\u001b[36m81\u001b[0m - \u001b[1mEmbeddings were read\u001b[0m\n",
      "\u001b[32m2024-11-10 09:18:23.906\u001b[0m | \u001b[1mINFO    \u001b[0m | \u001b[36m__main__\u001b[0m:\u001b[36mpredict\u001b[0m:\u001b[36m88\u001b[0m - \u001b[1mtrain_labels and train_labels_with_text were read\u001b[0m\n",
      "\u001b[32m2024-11-10 09:18:23.906\u001b[0m | \u001b[1mINFO    \u001b[0m | \u001b[36m__main__\u001b[0m:\u001b[36mpredict\u001b[0m:\u001b[36m90\u001b[0m - \u001b[1mTest image filenames were read\u001b[0m\n",
      "\u001b[32m2024-11-10 09:18:23.910\u001b[0m | \u001b[1mINFO    \u001b[0m | \u001b[36m__main__\u001b[0m:\u001b[36mpredict\u001b[0m:\u001b[36m95\u001b[0m - \u001b[1mNeighbours were found - [73]\u001b[0m\n",
      " 46%|████▌     | 52/113 [02:49<03:12,  3.16s/it]"
     ]
    },
    {
     "name": "stdout",
     "output_type": "stream",
     "text": [
      "\n",
      "0: 1088x832 2 2s, 437.7ms\n",
      "Speed: 4.9ms preprocess, 437.7ms inference, 4.1ms postprocess per image at shape (1, 3, 1088, 832)\n",
      "\n",
      "0: 640x480 1 0, 90.7ms\n",
      "Speed: 1.2ms preprocess, 90.7ms inference, 0.4ms postprocess per image at shape (1, 3, 640, 480)\n"
     ]
    },
    {
     "name": "stderr",
     "output_type": "stream",
     "text": [
      "\u001b[32m2024-11-10 09:18:26.788\u001b[0m | \u001b[1mINFO    \u001b[0m | \u001b[36m__main__\u001b[0m:\u001b[36m__init__\u001b[0m:\u001b[36m12\u001b[0m - \u001b[1mLoaded configuration from config.yaml\u001b[0m\n",
      "\u001b[32m2024-11-10 09:18:26.932\u001b[0m | \u001b[1mINFO    \u001b[0m | \u001b[36m__main__\u001b[0m:\u001b[36mpredict\u001b[0m:\u001b[36m81\u001b[0m - \u001b[1mEmbeddings were read\u001b[0m\n",
      "\u001b[32m2024-11-10 09:18:26.940\u001b[0m | \u001b[1mINFO    \u001b[0m | \u001b[36m__main__\u001b[0m:\u001b[36mpredict\u001b[0m:\u001b[36m88\u001b[0m - \u001b[1mtrain_labels and train_labels_with_text were read\u001b[0m\n",
      "\u001b[32m2024-11-10 09:18:26.941\u001b[0m | \u001b[1mINFO    \u001b[0m | \u001b[36m__main__\u001b[0m:\u001b[36mpredict\u001b[0m:\u001b[36m90\u001b[0m - \u001b[1mTest image filenames were read\u001b[0m\n",
      "\u001b[32m2024-11-10 09:18:26.945\u001b[0m | \u001b[1mINFO    \u001b[0m | \u001b[36m__main__\u001b[0m:\u001b[36mpredict\u001b[0m:\u001b[36m95\u001b[0m - \u001b[1mNeighbours were found - [54]\u001b[0m\n",
      " 47%|████▋     | 53/113 [02:52<03:07,  3.12s/it]"
     ]
    },
    {
     "name": "stdout",
     "output_type": "stream",
     "text": [
      "\n",
      "0: 832x1088 2 2s, 337.2ms\n",
      "Speed: 4.0ms preprocess, 337.2ms inference, 3.7ms postprocess per image at shape (1, 3, 832, 1088)\n",
      "\n",
      "0: 480x640 1 0, 80.8ms\n",
      "Speed: 1.1ms preprocess, 80.8ms inference, 0.5ms postprocess per image at shape (1, 3, 480, 640)\n"
     ]
    },
    {
     "name": "stderr",
     "output_type": "stream",
     "text": [
      "\u001b[32m2024-11-10 09:18:29.586\u001b[0m | \u001b[1mINFO    \u001b[0m | \u001b[36m__main__\u001b[0m:\u001b[36m__init__\u001b[0m:\u001b[36m12\u001b[0m - \u001b[1mLoaded configuration from config.yaml\u001b[0m\n",
      "\u001b[32m2024-11-10 09:18:29.730\u001b[0m | \u001b[1mINFO    \u001b[0m | \u001b[36m__main__\u001b[0m:\u001b[36mpredict\u001b[0m:\u001b[36m81\u001b[0m - \u001b[1mEmbeddings were read\u001b[0m\n",
      "\u001b[32m2024-11-10 09:18:29.738\u001b[0m | \u001b[1mINFO    \u001b[0m | \u001b[36m__main__\u001b[0m:\u001b[36mpredict\u001b[0m:\u001b[36m88\u001b[0m - \u001b[1mtrain_labels and train_labels_with_text were read\u001b[0m\n",
      "\u001b[32m2024-11-10 09:18:29.739\u001b[0m | \u001b[1mINFO    \u001b[0m | \u001b[36m__main__\u001b[0m:\u001b[36mpredict\u001b[0m:\u001b[36m90\u001b[0m - \u001b[1mTest image filenames were read\u001b[0m\n",
      "\u001b[32m2024-11-10 09:18:29.743\u001b[0m | \u001b[1mINFO    \u001b[0m | \u001b[36m__main__\u001b[0m:\u001b[36mpredict\u001b[0m:\u001b[36m95\u001b[0m - \u001b[1mNeighbours were found - [226]\u001b[0m\n",
      " 48%|████▊     | 54/113 [02:55<02:58,  3.02s/it]"
     ]
    },
    {
     "name": "stdout",
     "output_type": "stream",
     "text": [
      "\n",
      "0: 1088x832 2 2s, 342.0ms\n",
      "Speed: 3.8ms preprocess, 342.0ms inference, 4.1ms postprocess per image at shape (1, 3, 1088, 832)\n",
      "\n",
      "0: 640x480 1 0, 99.8ms\n",
      "Speed: 1.1ms preprocess, 99.8ms inference, 0.5ms postprocess per image at shape (1, 3, 640, 480)\n"
     ]
    },
    {
     "name": "stderr",
     "output_type": "stream",
     "text": [
      "\u001b[32m2024-11-10 09:18:32.409\u001b[0m | \u001b[1mINFO    \u001b[0m | \u001b[36m__main__\u001b[0m:\u001b[36m__init__\u001b[0m:\u001b[36m12\u001b[0m - \u001b[1mLoaded configuration from config.yaml\u001b[0m\n",
      "\u001b[32m2024-11-10 09:18:32.546\u001b[0m | \u001b[1mINFO    \u001b[0m | \u001b[36m__main__\u001b[0m:\u001b[36mpredict\u001b[0m:\u001b[36m81\u001b[0m - \u001b[1mEmbeddings were read\u001b[0m\n",
      "\u001b[32m2024-11-10 09:18:32.553\u001b[0m | \u001b[1mINFO    \u001b[0m | \u001b[36m__main__\u001b[0m:\u001b[36mpredict\u001b[0m:\u001b[36m88\u001b[0m - \u001b[1mtrain_labels and train_labels_with_text were read\u001b[0m\n",
      "\u001b[32m2024-11-10 09:18:32.554\u001b[0m | \u001b[1mINFO    \u001b[0m | \u001b[36m__main__\u001b[0m:\u001b[36mpredict\u001b[0m:\u001b[36m90\u001b[0m - \u001b[1mTest image filenames were read\u001b[0m\n",
      "\u001b[32m2024-11-10 09:18:32.558\u001b[0m | \u001b[1mINFO    \u001b[0m | \u001b[36m__main__\u001b[0m:\u001b[36mpredict\u001b[0m:\u001b[36m95\u001b[0m - \u001b[1mNeighbours were found - [200]\u001b[0m\n",
      " 49%|████▊     | 55/113 [02:58<02:51,  2.96s/it]"
     ]
    },
    {
     "name": "stdout",
     "output_type": "stream",
     "text": [
      "\n",
      "0: 1088x832 2 2s, 400.0ms\n",
      "Speed: 3.8ms preprocess, 400.0ms inference, 4.1ms postprocess per image at shape (1, 3, 1088, 832)\n",
      "\n",
      "0: 640x480 1 0, 76.1ms\n",
      "Speed: 1.2ms preprocess, 76.1ms inference, 0.4ms postprocess per image at shape (1, 3, 640, 480)\n"
     ]
    },
    {
     "name": "stderr",
     "output_type": "stream",
     "text": [
      "\u001b[32m2024-11-10 09:18:35.230\u001b[0m | \u001b[1mINFO    \u001b[0m | \u001b[36m__main__\u001b[0m:\u001b[36m__init__\u001b[0m:\u001b[36m12\u001b[0m - \u001b[1mLoaded configuration from config.yaml\u001b[0m\n",
      "\u001b[32m2024-11-10 09:18:35.357\u001b[0m | \u001b[1mINFO    \u001b[0m | \u001b[36m__main__\u001b[0m:\u001b[36mpredict\u001b[0m:\u001b[36m81\u001b[0m - \u001b[1mEmbeddings were read\u001b[0m\n",
      "\u001b[32m2024-11-10 09:18:35.366\u001b[0m | \u001b[1mINFO    \u001b[0m | \u001b[36m__main__\u001b[0m:\u001b[36mpredict\u001b[0m:\u001b[36m88\u001b[0m - \u001b[1mtrain_labels and train_labels_with_text were read\u001b[0m\n",
      "\u001b[32m2024-11-10 09:18:35.366\u001b[0m | \u001b[1mINFO    \u001b[0m | \u001b[36m__main__\u001b[0m:\u001b[36mpredict\u001b[0m:\u001b[36m90\u001b[0m - \u001b[1mTest image filenames were read\u001b[0m\n",
      "\u001b[32m2024-11-10 09:18:35.370\u001b[0m | \u001b[1mINFO    \u001b[0m | \u001b[36m__main__\u001b[0m:\u001b[36mpredict\u001b[0m:\u001b[36m95\u001b[0m - \u001b[1mNeighbours were found - [93]\u001b[0m\n",
      " 50%|████▉     | 56/113 [03:01<02:46,  2.92s/it]"
     ]
    },
    {
     "name": "stdout",
     "output_type": "stream",
     "text": [
      "\n",
      "0: 832x1088 2 2s, 372.0ms\n",
      "Speed: 3.8ms preprocess, 372.0ms inference, 3.4ms postprocess per image at shape (1, 3, 832, 1088)\n",
      "\n",
      "0: 480x640 1 0, 81.5ms\n",
      "Speed: 0.9ms preprocess, 81.5ms inference, 0.6ms postprocess per image at shape (1, 3, 480, 640)\n"
     ]
    },
    {
     "name": "stderr",
     "output_type": "stream",
     "text": [
      "\u001b[32m2024-11-10 09:18:38.107\u001b[0m | \u001b[1mINFO    \u001b[0m | \u001b[36m__main__\u001b[0m:\u001b[36m__init__\u001b[0m:\u001b[36m12\u001b[0m - \u001b[1mLoaded configuration from config.yaml\u001b[0m\n",
      "\u001b[32m2024-11-10 09:18:38.246\u001b[0m | \u001b[1mINFO    \u001b[0m | \u001b[36m__main__\u001b[0m:\u001b[36mpredict\u001b[0m:\u001b[36m81\u001b[0m - \u001b[1mEmbeddings were read\u001b[0m\n",
      "\u001b[32m2024-11-10 09:18:38.253\u001b[0m | \u001b[1mINFO    \u001b[0m | \u001b[36m__main__\u001b[0m:\u001b[36mpredict\u001b[0m:\u001b[36m88\u001b[0m - \u001b[1mtrain_labels and train_labels_with_text were read\u001b[0m\n",
      "\u001b[32m2024-11-10 09:18:38.253\u001b[0m | \u001b[1mINFO    \u001b[0m | \u001b[36m__main__\u001b[0m:\u001b[36mpredict\u001b[0m:\u001b[36m90\u001b[0m - \u001b[1mTest image filenames were read\u001b[0m\n",
      "\u001b[32m2024-11-10 09:18:38.257\u001b[0m | \u001b[1mINFO    \u001b[0m | \u001b[36m__main__\u001b[0m:\u001b[36mpredict\u001b[0m:\u001b[36m95\u001b[0m - \u001b[1mNeighbours were found - [122]\u001b[0m\n",
      " 50%|█████     | 57/113 [03:04<02:42,  2.91s/it]"
     ]
    },
    {
     "name": "stdout",
     "output_type": "stream",
     "text": [
      "\n",
      "0: 1088x832 2 2s, 336.6ms\n",
      "Speed: 4.0ms preprocess, 336.6ms inference, 3.6ms postprocess per image at shape (1, 3, 1088, 832)\n",
      "\n",
      "0: 640x480 1 0, 77.5ms\n",
      "Speed: 1.0ms preprocess, 77.5ms inference, 0.5ms postprocess per image at shape (1, 3, 640, 480)\n"
     ]
    },
    {
     "name": "stderr",
     "output_type": "stream",
     "text": [
      "\u001b[32m2024-11-10 09:18:40.836\u001b[0m | \u001b[1mINFO    \u001b[0m | \u001b[36m__main__\u001b[0m:\u001b[36m__init__\u001b[0m:\u001b[36m12\u001b[0m - \u001b[1mLoaded configuration from config.yaml\u001b[0m\n",
      "\u001b[32m2024-11-10 09:18:40.966\u001b[0m | \u001b[1mINFO    \u001b[0m | \u001b[36m__main__\u001b[0m:\u001b[36mpredict\u001b[0m:\u001b[36m81\u001b[0m - \u001b[1mEmbeddings were read\u001b[0m\n",
      "\u001b[32m2024-11-10 09:18:40.972\u001b[0m | \u001b[1mINFO    \u001b[0m | \u001b[36m__main__\u001b[0m:\u001b[36mpredict\u001b[0m:\u001b[36m88\u001b[0m - \u001b[1mtrain_labels and train_labels_with_text were read\u001b[0m\n",
      "\u001b[32m2024-11-10 09:18:40.972\u001b[0m | \u001b[1mINFO    \u001b[0m | \u001b[36m__main__\u001b[0m:\u001b[36mpredict\u001b[0m:\u001b[36m90\u001b[0m - \u001b[1mTest image filenames were read\u001b[0m\n",
      "\u001b[32m2024-11-10 09:18:40.976\u001b[0m | \u001b[1mINFO    \u001b[0m | \u001b[36m__main__\u001b[0m:\u001b[36mpredict\u001b[0m:\u001b[36m95\u001b[0m - \u001b[1mNeighbours were found - [221]\u001b[0m\n",
      " 51%|█████▏    | 58/113 [03:06<02:36,  2.85s/it]"
     ]
    },
    {
     "name": "stdout",
     "output_type": "stream",
     "text": [
      "\n",
      "0: 1088x832 1 2, 384.8ms\n",
      "Speed: 4.7ms preprocess, 384.8ms inference, 3.6ms postprocess per image at shape (1, 3, 1088, 832)\n",
      "\n",
      "0: 640x480 1 0, 94.3ms\n",
      "Speed: 2.6ms preprocess, 94.3ms inference, 0.5ms postprocess per image at shape (1, 3, 640, 480)\n"
     ]
    },
    {
     "name": "stderr",
     "output_type": "stream",
     "text": [
      "\u001b[32m2024-11-10 09:18:44.137\u001b[0m | \u001b[1mINFO    \u001b[0m | \u001b[36m__main__\u001b[0m:\u001b[36m__init__\u001b[0m:\u001b[36m12\u001b[0m - \u001b[1mLoaded configuration from config.yaml\u001b[0m\n",
      "\u001b[32m2024-11-10 09:18:44.289\u001b[0m | \u001b[1mINFO    \u001b[0m | \u001b[36m__main__\u001b[0m:\u001b[36mpredict\u001b[0m:\u001b[36m81\u001b[0m - \u001b[1mEmbeddings were read\u001b[0m\n",
      "\u001b[32m2024-11-10 09:18:44.298\u001b[0m | \u001b[1mINFO    \u001b[0m | \u001b[36m__main__\u001b[0m:\u001b[36mpredict\u001b[0m:\u001b[36m88\u001b[0m - \u001b[1mtrain_labels and train_labels_with_text were read\u001b[0m\n",
      "\u001b[32m2024-11-10 09:18:44.299\u001b[0m | \u001b[1mINFO    \u001b[0m | \u001b[36m__main__\u001b[0m:\u001b[36mpredict\u001b[0m:\u001b[36m90\u001b[0m - \u001b[1mTest image filenames were read\u001b[0m\n",
      "\u001b[32m2024-11-10 09:18:44.302\u001b[0m | \u001b[1mINFO    \u001b[0m | \u001b[36m__main__\u001b[0m:\u001b[36mpredict\u001b[0m:\u001b[36m95\u001b[0m - \u001b[1mNeighbours were found - [25]\u001b[0m\n",
      " 52%|█████▏    | 59/113 [03:10<02:41,  3.00s/it]"
     ]
    },
    {
     "name": "stdout",
     "output_type": "stream",
     "text": [
      "\n",
      "0: 1088x832 3 2s, 341.0ms\n",
      "Speed: 3.8ms preprocess, 341.0ms inference, 4.8ms postprocess per image at shape (1, 3, 1088, 832)\n",
      "\n",
      "0: 640x480 1 0, 79.6ms\n",
      "Speed: 1.1ms preprocess, 79.6ms inference, 0.5ms postprocess per image at shape (1, 3, 640, 480)\n"
     ]
    },
    {
     "name": "stderr",
     "output_type": "stream",
     "text": [
      "\u001b[32m2024-11-10 09:18:46.946\u001b[0m | \u001b[1mINFO    \u001b[0m | \u001b[36m__main__\u001b[0m:\u001b[36m__init__\u001b[0m:\u001b[36m12\u001b[0m - \u001b[1mLoaded configuration from config.yaml\u001b[0m\n",
      "\u001b[32m2024-11-10 09:18:47.105\u001b[0m | \u001b[1mINFO    \u001b[0m | \u001b[36m__main__\u001b[0m:\u001b[36mpredict\u001b[0m:\u001b[36m81\u001b[0m - \u001b[1mEmbeddings were read\u001b[0m\n",
      "\u001b[32m2024-11-10 09:18:47.116\u001b[0m | \u001b[1mINFO    \u001b[0m | \u001b[36m__main__\u001b[0m:\u001b[36mpredict\u001b[0m:\u001b[36m88\u001b[0m - \u001b[1mtrain_labels and train_labels_with_text were read\u001b[0m\n",
      "\u001b[32m2024-11-10 09:18:47.117\u001b[0m | \u001b[1mINFO    \u001b[0m | \u001b[36m__main__\u001b[0m:\u001b[36mpredict\u001b[0m:\u001b[36m90\u001b[0m - \u001b[1mTest image filenames were read\u001b[0m\n",
      "\u001b[32m2024-11-10 09:18:47.120\u001b[0m | \u001b[1mINFO    \u001b[0m | \u001b[36m__main__\u001b[0m:\u001b[36mpredict\u001b[0m:\u001b[36m95\u001b[0m - \u001b[1mNeighbours were found - [197]\u001b[0m\n",
      " 53%|█████▎    | 60/113 [03:13<02:36,  2.94s/it]"
     ]
    },
    {
     "name": "stdout",
     "output_type": "stream",
     "text": [
      "\n",
      "0: 1088x832 2 2s, 402.1ms\n",
      "Speed: 4.9ms preprocess, 402.1ms inference, 4.2ms postprocess per image at shape (1, 3, 1088, 832)\n",
      "\n",
      "0: 640x480 1 0, 98.1ms\n",
      "Speed: 1.8ms preprocess, 98.1ms inference, 0.6ms postprocess per image at shape (1, 3, 640, 480)\n"
     ]
    },
    {
     "name": "stderr",
     "output_type": "stream",
     "text": [
      "\u001b[32m2024-11-10 09:18:50.405\u001b[0m | \u001b[1mINFO    \u001b[0m | \u001b[36m__main__\u001b[0m:\u001b[36m__init__\u001b[0m:\u001b[36m12\u001b[0m - \u001b[1mLoaded configuration from config.yaml\u001b[0m\n",
      "\u001b[32m2024-11-10 09:18:50.549\u001b[0m | \u001b[1mINFO    \u001b[0m | \u001b[36m__main__\u001b[0m:\u001b[36mpredict\u001b[0m:\u001b[36m81\u001b[0m - \u001b[1mEmbeddings were read\u001b[0m\n",
      "\u001b[32m2024-11-10 09:18:50.557\u001b[0m | \u001b[1mINFO    \u001b[0m | \u001b[36m__main__\u001b[0m:\u001b[36mpredict\u001b[0m:\u001b[36m88\u001b[0m - \u001b[1mtrain_labels and train_labels_with_text were read\u001b[0m\n",
      "\u001b[32m2024-11-10 09:18:50.558\u001b[0m | \u001b[1mINFO    \u001b[0m | \u001b[36m__main__\u001b[0m:\u001b[36mpredict\u001b[0m:\u001b[36m90\u001b[0m - \u001b[1mTest image filenames were read\u001b[0m\n",
      "\u001b[32m2024-11-10 09:18:50.562\u001b[0m | \u001b[1mINFO    \u001b[0m | \u001b[36m__main__\u001b[0m:\u001b[36mpredict\u001b[0m:\u001b[36m95\u001b[0m - \u001b[1mNeighbours were found - [251]\u001b[0m\n",
      " 54%|█████▍    | 61/113 [03:16<02:40,  3.09s/it]"
     ]
    },
    {
     "name": "stdout",
     "output_type": "stream",
     "text": [
      "\n",
      "0: 1088x832 2 2s, 393.7ms\n",
      "Speed: 4.0ms preprocess, 393.7ms inference, 4.4ms postprocess per image at shape (1, 3, 1088, 832)\n",
      "\n",
      "0: 640x480 1 0, 91.5ms\n",
      "Speed: 1.5ms preprocess, 91.5ms inference, 0.5ms postprocess per image at shape (1, 3, 640, 480)\n"
     ]
    },
    {
     "name": "stderr",
     "output_type": "stream",
     "text": [
      "\u001b[32m2024-11-10 09:18:53.365\u001b[0m | \u001b[1mINFO    \u001b[0m | \u001b[36m__main__\u001b[0m:\u001b[36m__init__\u001b[0m:\u001b[36m12\u001b[0m - \u001b[1mLoaded configuration from config.yaml\u001b[0m\n",
      "\u001b[32m2024-11-10 09:18:53.510\u001b[0m | \u001b[1mINFO    \u001b[0m | \u001b[36m__main__\u001b[0m:\u001b[36mpredict\u001b[0m:\u001b[36m81\u001b[0m - \u001b[1mEmbeddings were read\u001b[0m\n",
      "\u001b[32m2024-11-10 09:18:53.517\u001b[0m | \u001b[1mINFO    \u001b[0m | \u001b[36m__main__\u001b[0m:\u001b[36mpredict\u001b[0m:\u001b[36m88\u001b[0m - \u001b[1mtrain_labels and train_labels_with_text were read\u001b[0m\n",
      "\u001b[32m2024-11-10 09:18:53.518\u001b[0m | \u001b[1mINFO    \u001b[0m | \u001b[36m__main__\u001b[0m:\u001b[36mpredict\u001b[0m:\u001b[36m90\u001b[0m - \u001b[1mTest image filenames were read\u001b[0m\n",
      "\u001b[32m2024-11-10 09:18:53.522\u001b[0m | \u001b[1mINFO    \u001b[0m | \u001b[36m__main__\u001b[0m:\u001b[36mpredict\u001b[0m:\u001b[36m95\u001b[0m - \u001b[1mNeighbours were found - [202]\u001b[0m\n",
      " 55%|█████▍    | 62/113 [03:19<02:35,  3.05s/it]"
     ]
    },
    {
     "name": "stdout",
     "output_type": "stream",
     "text": [
      "\n",
      "0: 1088x832 2 2s, 366.5ms\n",
      "Speed: 5.1ms preprocess, 366.5ms inference, 3.6ms postprocess per image at shape (1, 3, 1088, 832)\n",
      "\n",
      "0: 640x480 1 0, 95.8ms\n",
      "Speed: 1.6ms preprocess, 95.8ms inference, 0.5ms postprocess per image at shape (1, 3, 640, 480)\n"
     ]
    },
    {
     "name": "stderr",
     "output_type": "stream",
     "text": [
      "\u001b[32m2024-11-10 09:18:56.467\u001b[0m | \u001b[1mINFO    \u001b[0m | \u001b[36m__main__\u001b[0m:\u001b[36m__init__\u001b[0m:\u001b[36m12\u001b[0m - \u001b[1mLoaded configuration from config.yaml\u001b[0m\n",
      "\u001b[32m2024-11-10 09:18:56.605\u001b[0m | \u001b[1mINFO    \u001b[0m | \u001b[36m__main__\u001b[0m:\u001b[36mpredict\u001b[0m:\u001b[36m81\u001b[0m - \u001b[1mEmbeddings were read\u001b[0m\n",
      "\u001b[32m2024-11-10 09:18:56.614\u001b[0m | \u001b[1mINFO    \u001b[0m | \u001b[36m__main__\u001b[0m:\u001b[36mpredict\u001b[0m:\u001b[36m88\u001b[0m - \u001b[1mtrain_labels and train_labels_with_text were read\u001b[0m\n",
      "\u001b[32m2024-11-10 09:18:56.614\u001b[0m | \u001b[1mINFO    \u001b[0m | \u001b[36m__main__\u001b[0m:\u001b[36mpredict\u001b[0m:\u001b[36m90\u001b[0m - \u001b[1mTest image filenames were read\u001b[0m\n",
      "\u001b[32m2024-11-10 09:18:56.618\u001b[0m | \u001b[1mINFO    \u001b[0m | \u001b[36m__main__\u001b[0m:\u001b[36mpredict\u001b[0m:\u001b[36m95\u001b[0m - \u001b[1mNeighbours were found - [5]\u001b[0m\n",
      " 56%|█████▌    | 63/113 [03:22<02:33,  3.06s/it]"
     ]
    },
    {
     "name": "stdout",
     "output_type": "stream",
     "text": [
      "\n",
      "0: 832x1088 (no detections), 336.7ms\n",
      "Speed: 4.4ms preprocess, 336.7ms inference, 0.3ms postprocess per image at shape (1, 3, 832, 1088)\n",
      "\n",
      "0: 480x640 (no detections), 76.6ms\n",
      "Speed: 1.1ms preprocess, 76.6ms inference, 0.3ms postprocess per image at shape (1, 3, 480, 640)\n"
     ]
    },
    {
     "name": "stderr",
     "output_type": "stream",
     "text": [
      "\u001b[32m2024-11-10 09:18:59.243\u001b[0m | \u001b[1mINFO    \u001b[0m | \u001b[36m__main__\u001b[0m:\u001b[36m__init__\u001b[0m:\u001b[36m12\u001b[0m - \u001b[1mLoaded configuration from config.yaml\u001b[0m\n",
      "\u001b[32m2024-11-10 09:18:59.396\u001b[0m | \u001b[1mINFO    \u001b[0m | \u001b[36m__main__\u001b[0m:\u001b[36mpredict\u001b[0m:\u001b[36m81\u001b[0m - \u001b[1mEmbeddings were read\u001b[0m\n",
      "\u001b[32m2024-11-10 09:18:59.405\u001b[0m | \u001b[1mINFO    \u001b[0m | \u001b[36m__main__\u001b[0m:\u001b[36mpredict\u001b[0m:\u001b[36m88\u001b[0m - \u001b[1mtrain_labels and train_labels_with_text were read\u001b[0m\n",
      "\u001b[32m2024-11-10 09:18:59.406\u001b[0m | \u001b[1mINFO    \u001b[0m | \u001b[36m__main__\u001b[0m:\u001b[36mpredict\u001b[0m:\u001b[36m90\u001b[0m - \u001b[1mTest image filenames were read\u001b[0m\n",
      "\u001b[32m2024-11-10 09:18:59.411\u001b[0m | \u001b[1mINFO    \u001b[0m | \u001b[36m__main__\u001b[0m:\u001b[36mpredict\u001b[0m:\u001b[36m95\u001b[0m - \u001b[1mNeighbours were found - [188]\u001b[0m\n",
      " 57%|█████▋    | 64/113 [03:25<02:26,  2.99s/it]"
     ]
    },
    {
     "name": "stdout",
     "output_type": "stream",
     "text": [
      "\n",
      "0: 832x1088 (no detections), 348.9ms\n",
      "Speed: 4.7ms preprocess, 348.9ms inference, 0.4ms postprocess per image at shape (1, 3, 832, 1088)\n",
      "\n",
      "0: 480x640 1 0, 82.6ms\n",
      "Speed: 1.8ms preprocess, 82.6ms inference, 0.5ms postprocess per image at shape (1, 3, 480, 640)\n"
     ]
    },
    {
     "name": "stderr",
     "output_type": "stream",
     "text": [
      "\u001b[32m2024-11-10 09:19:02.779\u001b[0m | \u001b[1mINFO    \u001b[0m | \u001b[36m__main__\u001b[0m:\u001b[36m__init__\u001b[0m:\u001b[36m12\u001b[0m - \u001b[1mLoaded configuration from config.yaml\u001b[0m\n",
      "\u001b[32m2024-11-10 09:19:02.985\u001b[0m | \u001b[1mINFO    \u001b[0m | \u001b[36m__main__\u001b[0m:\u001b[36mpredict\u001b[0m:\u001b[36m81\u001b[0m - \u001b[1mEmbeddings were read\u001b[0m\n",
      "\u001b[32m2024-11-10 09:19:02.991\u001b[0m | \u001b[1mINFO    \u001b[0m | \u001b[36m__main__\u001b[0m:\u001b[36mpredict\u001b[0m:\u001b[36m88\u001b[0m - \u001b[1mtrain_labels and train_labels_with_text were read\u001b[0m\n",
      "\u001b[32m2024-11-10 09:19:02.992\u001b[0m | \u001b[1mINFO    \u001b[0m | \u001b[36m__main__\u001b[0m:\u001b[36mpredict\u001b[0m:\u001b[36m90\u001b[0m - \u001b[1mTest image filenames were read\u001b[0m\n",
      "\u001b[32m2024-11-10 09:19:02.995\u001b[0m | \u001b[1mINFO    \u001b[0m | \u001b[36m__main__\u001b[0m:\u001b[36mpredict\u001b[0m:\u001b[36m95\u001b[0m - \u001b[1mNeighbours were found - [61]\u001b[0m\n",
      " 58%|█████▊    | 65/113 [03:28<02:31,  3.16s/it]"
     ]
    },
    {
     "name": "stdout",
     "output_type": "stream",
     "text": [
      "\n",
      "0: 1088x832 2 2s, 347.3ms\n",
      "Speed: 4.0ms preprocess, 347.3ms inference, 3.9ms postprocess per image at shape (1, 3, 1088, 832)\n",
      "\n",
      "0: 640x480 1 0, 77.0ms\n",
      "Speed: 1.1ms preprocess, 77.0ms inference, 0.5ms postprocess per image at shape (1, 3, 640, 480)\n"
     ]
    },
    {
     "name": "stderr",
     "output_type": "stream",
     "text": [
      "\u001b[32m2024-11-10 09:19:05.735\u001b[0m | \u001b[1mINFO    \u001b[0m | \u001b[36m__main__\u001b[0m:\u001b[36m__init__\u001b[0m:\u001b[36m12\u001b[0m - \u001b[1mLoaded configuration from config.yaml\u001b[0m\n",
      "\u001b[32m2024-11-10 09:19:05.874\u001b[0m | \u001b[1mINFO    \u001b[0m | \u001b[36m__main__\u001b[0m:\u001b[36mpredict\u001b[0m:\u001b[36m81\u001b[0m - \u001b[1mEmbeddings were read\u001b[0m\n",
      "\u001b[32m2024-11-10 09:19:05.883\u001b[0m | \u001b[1mINFO    \u001b[0m | \u001b[36m__main__\u001b[0m:\u001b[36mpredict\u001b[0m:\u001b[36m88\u001b[0m - \u001b[1mtrain_labels and train_labels_with_text were read\u001b[0m\n",
      "\u001b[32m2024-11-10 09:19:05.883\u001b[0m | \u001b[1mINFO    \u001b[0m | \u001b[36m__main__\u001b[0m:\u001b[36mpredict\u001b[0m:\u001b[36m90\u001b[0m - \u001b[1mTest image filenames were read\u001b[0m\n",
      "\u001b[32m2024-11-10 09:19:05.890\u001b[0m | \u001b[1mINFO    \u001b[0m | \u001b[36m__main__\u001b[0m:\u001b[36mpredict\u001b[0m:\u001b[36m95\u001b[0m - \u001b[1mNeighbours were found - [194]\u001b[0m\n",
      " 58%|█████▊    | 66/113 [03:31<02:25,  3.09s/it]"
     ]
    },
    {
     "name": "stdout",
     "output_type": "stream",
     "text": [
      "\n",
      "0: 1088x832 1 2, 408.7ms\n",
      "Speed: 6.6ms preprocess, 408.7ms inference, 3.7ms postprocess per image at shape (1, 3, 1088, 832)\n",
      "\n",
      "0: 640x480 1 0, 104.7ms\n",
      "Speed: 1.1ms preprocess, 104.7ms inference, 0.9ms postprocess per image at shape (1, 3, 640, 480)\n"
     ]
    },
    {
     "name": "stderr",
     "output_type": "stream",
     "text": [
      "\u001b[32m2024-11-10 09:19:09.892\u001b[0m | \u001b[1mINFO    \u001b[0m | \u001b[36m__main__\u001b[0m:\u001b[36m__init__\u001b[0m:\u001b[36m12\u001b[0m - \u001b[1mLoaded configuration from config.yaml\u001b[0m\n",
      "\u001b[32m2024-11-10 09:19:10.125\u001b[0m | \u001b[1mINFO    \u001b[0m | \u001b[36m__main__\u001b[0m:\u001b[36mpredict\u001b[0m:\u001b[36m81\u001b[0m - \u001b[1mEmbeddings were read\u001b[0m\n",
      "\u001b[32m2024-11-10 09:19:10.133\u001b[0m | \u001b[1mINFO    \u001b[0m | \u001b[36m__main__\u001b[0m:\u001b[36mpredict\u001b[0m:\u001b[36m88\u001b[0m - \u001b[1mtrain_labels and train_labels_with_text were read\u001b[0m\n",
      "\u001b[32m2024-11-10 09:19:10.134\u001b[0m | \u001b[1mINFO    \u001b[0m | \u001b[36m__main__\u001b[0m:\u001b[36mpredict\u001b[0m:\u001b[36m90\u001b[0m - \u001b[1mTest image filenames were read\u001b[0m\n",
      "\u001b[32m2024-11-10 09:19:10.139\u001b[0m | \u001b[1mINFO    \u001b[0m | \u001b[36m__main__\u001b[0m:\u001b[36mpredict\u001b[0m:\u001b[36m95\u001b[0m - \u001b[1mNeighbours were found - [38]\u001b[0m\n",
      " 59%|█████▉    | 67/113 [03:36<02:37,  3.43s/it]"
     ]
    },
    {
     "name": "stdout",
     "output_type": "stream",
     "text": [
      "\n",
      "0: 832x1088 1 2, 421.4ms\n",
      "Speed: 5.5ms preprocess, 421.4ms inference, 2.9ms postprocess per image at shape (1, 3, 832, 1088)\n",
      "\n",
      "0: 480x640 1 0, 107.8ms\n",
      "Speed: 1.7ms preprocess, 107.8ms inference, 0.5ms postprocess per image at shape (1, 3, 480, 640)\n"
     ]
    },
    {
     "name": "stderr",
     "output_type": "stream",
     "text": [
      "\u001b[32m2024-11-10 09:19:13.207\u001b[0m | \u001b[1mINFO    \u001b[0m | \u001b[36m__main__\u001b[0m:\u001b[36m__init__\u001b[0m:\u001b[36m12\u001b[0m - \u001b[1mLoaded configuration from config.yaml\u001b[0m\n",
      "\u001b[32m2024-11-10 09:19:13.373\u001b[0m | \u001b[1mINFO    \u001b[0m | \u001b[36m__main__\u001b[0m:\u001b[36mpredict\u001b[0m:\u001b[36m81\u001b[0m - \u001b[1mEmbeddings were read\u001b[0m\n",
      "\u001b[32m2024-11-10 09:19:13.381\u001b[0m | \u001b[1mINFO    \u001b[0m | \u001b[36m__main__\u001b[0m:\u001b[36mpredict\u001b[0m:\u001b[36m88\u001b[0m - \u001b[1mtrain_labels and train_labels_with_text were read\u001b[0m\n",
      "\u001b[32m2024-11-10 09:19:13.381\u001b[0m | \u001b[1mINFO    \u001b[0m | \u001b[36m__main__\u001b[0m:\u001b[36mpredict\u001b[0m:\u001b[36m90\u001b[0m - \u001b[1mTest image filenames were read\u001b[0m\n",
      "\u001b[32m2024-11-10 09:19:13.385\u001b[0m | \u001b[1mINFO    \u001b[0m | \u001b[36m__main__\u001b[0m:\u001b[36mpredict\u001b[0m:\u001b[36m95\u001b[0m - \u001b[1mNeighbours were found - [100]\u001b[0m\n",
      " 60%|██████    | 68/113 [03:39<02:32,  3.38s/it]"
     ]
    },
    {
     "name": "stdout",
     "output_type": "stream",
     "text": [
      "\n",
      "0: 1088x832 2 2s, 443.7ms\n",
      "Speed: 6.9ms preprocess, 443.7ms inference, 4.8ms postprocess per image at shape (1, 3, 1088, 832)\n",
      "\n",
      "0: 640x480 1 0, 101.5ms\n",
      "Speed: 1.3ms preprocess, 101.5ms inference, 0.4ms postprocess per image at shape (1, 3, 640, 480)\n"
     ]
    },
    {
     "name": "stderr",
     "output_type": "stream",
     "text": [
      "\u001b[32m2024-11-10 09:19:16.443\u001b[0m | \u001b[1mINFO    \u001b[0m | \u001b[36m__main__\u001b[0m:\u001b[36m__init__\u001b[0m:\u001b[36m12\u001b[0m - \u001b[1mLoaded configuration from config.yaml\u001b[0m\n",
      "\u001b[32m2024-11-10 09:19:16.674\u001b[0m | \u001b[1mINFO    \u001b[0m | \u001b[36m__main__\u001b[0m:\u001b[36mpredict\u001b[0m:\u001b[36m81\u001b[0m - \u001b[1mEmbeddings were read\u001b[0m\n",
      "\u001b[32m2024-11-10 09:19:16.683\u001b[0m | \u001b[1mINFO    \u001b[0m | \u001b[36m__main__\u001b[0m:\u001b[36mpredict\u001b[0m:\u001b[36m88\u001b[0m - \u001b[1mtrain_labels and train_labels_with_text were read\u001b[0m\n",
      "\u001b[32m2024-11-10 09:19:16.683\u001b[0m | \u001b[1mINFO    \u001b[0m | \u001b[36m__main__\u001b[0m:\u001b[36mpredict\u001b[0m:\u001b[36m90\u001b[0m - \u001b[1mTest image filenames were read\u001b[0m\n",
      "\u001b[32m2024-11-10 09:19:16.688\u001b[0m | \u001b[1mINFO    \u001b[0m | \u001b[36m__main__\u001b[0m:\u001b[36mpredict\u001b[0m:\u001b[36m95\u001b[0m - \u001b[1mNeighbours were found - [221]\u001b[0m\n",
      " 61%|██████    | 69/113 [03:42<02:27,  3.36s/it]"
     ]
    },
    {
     "name": "stdout",
     "output_type": "stream",
     "text": [
      "\n",
      "0: 1088x832 1 2, 447.3ms\n",
      "Speed: 4.9ms preprocess, 447.3ms inference, 2.7ms postprocess per image at shape (1, 3, 1088, 832)\n",
      "\n",
      "0: 640x480 1 0, 103.9ms\n",
      "Speed: 2.3ms preprocess, 103.9ms inference, 0.5ms postprocess per image at shape (1, 3, 640, 480)\n"
     ]
    },
    {
     "name": "stderr",
     "output_type": "stream",
     "text": [
      "\u001b[32m2024-11-10 09:19:19.882\u001b[0m | \u001b[1mINFO    \u001b[0m | \u001b[36m__main__\u001b[0m:\u001b[36m__init__\u001b[0m:\u001b[36m12\u001b[0m - \u001b[1mLoaded configuration from config.yaml\u001b[0m\n",
      "\u001b[32m2024-11-10 09:19:20.060\u001b[0m | \u001b[1mINFO    \u001b[0m | \u001b[36m__main__\u001b[0m:\u001b[36mpredict\u001b[0m:\u001b[36m81\u001b[0m - \u001b[1mEmbeddings were read\u001b[0m\n",
      "\u001b[32m2024-11-10 09:19:20.070\u001b[0m | \u001b[1mINFO    \u001b[0m | \u001b[36m__main__\u001b[0m:\u001b[36mpredict\u001b[0m:\u001b[36m88\u001b[0m - \u001b[1mtrain_labels and train_labels_with_text were read\u001b[0m\n",
      "\u001b[32m2024-11-10 09:19:20.071\u001b[0m | \u001b[1mINFO    \u001b[0m | \u001b[36m__main__\u001b[0m:\u001b[36mpredict\u001b[0m:\u001b[36m90\u001b[0m - \u001b[1mTest image filenames were read\u001b[0m\n",
      "\u001b[32m2024-11-10 09:19:20.075\u001b[0m | \u001b[1mINFO    \u001b[0m | \u001b[36m__main__\u001b[0m:\u001b[36mpredict\u001b[0m:\u001b[36m95\u001b[0m - \u001b[1mNeighbours were found - [52]\u001b[0m\n",
      " 62%|██████▏   | 70/113 [03:45<02:24,  3.36s/it]"
     ]
    },
    {
     "name": "stdout",
     "output_type": "stream",
     "text": [
      "\n",
      "0: 1088x832 1 2, 413.8ms\n",
      "Speed: 5.7ms preprocess, 413.8ms inference, 3.4ms postprocess per image at shape (1, 3, 1088, 832)\n",
      "\n",
      "0: 640x480 1 0, 92.8ms\n",
      "Speed: 1.4ms preprocess, 92.8ms inference, 0.7ms postprocess per image at shape (1, 3, 640, 480)\n"
     ]
    },
    {
     "name": "stderr",
     "output_type": "stream",
     "text": [
      "\u001b[32m2024-11-10 09:19:22.988\u001b[0m | \u001b[1mINFO    \u001b[0m | \u001b[36m__main__\u001b[0m:\u001b[36m__init__\u001b[0m:\u001b[36m12\u001b[0m - \u001b[1mLoaded configuration from config.yaml\u001b[0m\n",
      "\u001b[32m2024-11-10 09:19:23.135\u001b[0m | \u001b[1mINFO    \u001b[0m | \u001b[36m__main__\u001b[0m:\u001b[36mpredict\u001b[0m:\u001b[36m81\u001b[0m - \u001b[1mEmbeddings were read\u001b[0m\n",
      "\u001b[32m2024-11-10 09:19:23.144\u001b[0m | \u001b[1mINFO    \u001b[0m | \u001b[36m__main__\u001b[0m:\u001b[36mpredict\u001b[0m:\u001b[36m88\u001b[0m - \u001b[1mtrain_labels and train_labels_with_text were read\u001b[0m\n",
      "\u001b[32m2024-11-10 09:19:23.144\u001b[0m | \u001b[1mINFO    \u001b[0m | \u001b[36m__main__\u001b[0m:\u001b[36mpredict\u001b[0m:\u001b[36m90\u001b[0m - \u001b[1mTest image filenames were read\u001b[0m\n",
      "\u001b[32m2024-11-10 09:19:23.148\u001b[0m | \u001b[1mINFO    \u001b[0m | \u001b[36m__main__\u001b[0m:\u001b[36mpredict\u001b[0m:\u001b[36m95\u001b[0m - \u001b[1mNeighbours were found - [31]\u001b[0m\n",
      " 63%|██████▎   | 71/113 [03:49<02:17,  3.28s/it]"
     ]
    },
    {
     "name": "stdout",
     "output_type": "stream",
     "text": [
      "\n",
      "0: 832x1088 1 2, 423.5ms\n",
      "Speed: 6.0ms preprocess, 423.5ms inference, 3.0ms postprocess per image at shape (1, 3, 832, 1088)\n",
      "\n",
      "0: 480x640 1 0, 91.0ms\n",
      "Speed: 3.2ms preprocess, 91.0ms inference, 0.6ms postprocess per image at shape (1, 3, 480, 640)\n"
     ]
    },
    {
     "name": "stderr",
     "output_type": "stream",
     "text": [
      "\u001b[32m2024-11-10 09:19:26.168\u001b[0m | \u001b[1mINFO    \u001b[0m | \u001b[36m__main__\u001b[0m:\u001b[36m__init__\u001b[0m:\u001b[36m12\u001b[0m - \u001b[1mLoaded configuration from config.yaml\u001b[0m\n",
      "\u001b[32m2024-11-10 09:19:26.330\u001b[0m | \u001b[1mINFO    \u001b[0m | \u001b[36m__main__\u001b[0m:\u001b[36mpredict\u001b[0m:\u001b[36m81\u001b[0m - \u001b[1mEmbeddings were read\u001b[0m\n",
      "\u001b[32m2024-11-10 09:19:26.339\u001b[0m | \u001b[1mINFO    \u001b[0m | \u001b[36m__main__\u001b[0m:\u001b[36mpredict\u001b[0m:\u001b[36m88\u001b[0m - \u001b[1mtrain_labels and train_labels_with_text were read\u001b[0m\n",
      "\u001b[32m2024-11-10 09:19:26.340\u001b[0m | \u001b[1mINFO    \u001b[0m | \u001b[36m__main__\u001b[0m:\u001b[36mpredict\u001b[0m:\u001b[36m90\u001b[0m - \u001b[1mTest image filenames were read\u001b[0m\n",
      "\u001b[32m2024-11-10 09:19:26.344\u001b[0m | \u001b[1mINFO    \u001b[0m | \u001b[36m__main__\u001b[0m:\u001b[36mpredict\u001b[0m:\u001b[36m95\u001b[0m - \u001b[1mNeighbours were found - [101]\u001b[0m\n",
      " 64%|██████▎   | 72/113 [03:52<02:13,  3.25s/it]"
     ]
    },
    {
     "name": "stdout",
     "output_type": "stream",
     "text": [
      "\n",
      "0: 1088x832 1 2, 407.3ms\n",
      "Speed: 4.8ms preprocess, 407.3ms inference, 2.8ms postprocess per image at shape (1, 3, 1088, 832)\n",
      "\n",
      "0: 640x480 1 0, 93.8ms\n",
      "Speed: 1.5ms preprocess, 93.8ms inference, 0.7ms postprocess per image at shape (1, 3, 640, 480)\n"
     ]
    },
    {
     "name": "stderr",
     "output_type": "stream",
     "text": [
      "\u001b[32m2024-11-10 09:19:29.316\u001b[0m | \u001b[1mINFO    \u001b[0m | \u001b[36m__main__\u001b[0m:\u001b[36m__init__\u001b[0m:\u001b[36m12\u001b[0m - \u001b[1mLoaded configuration from config.yaml\u001b[0m\n",
      "\u001b[32m2024-11-10 09:19:29.534\u001b[0m | \u001b[1mINFO    \u001b[0m | \u001b[36m__main__\u001b[0m:\u001b[36mpredict\u001b[0m:\u001b[36m81\u001b[0m - \u001b[1mEmbeddings were read\u001b[0m\n",
      "\u001b[32m2024-11-10 09:19:29.543\u001b[0m | \u001b[1mINFO    \u001b[0m | \u001b[36m__main__\u001b[0m:\u001b[36mpredict\u001b[0m:\u001b[36m88\u001b[0m - \u001b[1mtrain_labels and train_labels_with_text were read\u001b[0m\n",
      "\u001b[32m2024-11-10 09:19:29.544\u001b[0m | \u001b[1mINFO    \u001b[0m | \u001b[36m__main__\u001b[0m:\u001b[36mpredict\u001b[0m:\u001b[36m90\u001b[0m - \u001b[1mTest image filenames were read\u001b[0m\n",
      "\u001b[32m2024-11-10 09:19:29.548\u001b[0m | \u001b[1mINFO    \u001b[0m | \u001b[36m__main__\u001b[0m:\u001b[36mpredict\u001b[0m:\u001b[36m95\u001b[0m - \u001b[1mNeighbours were found - [38]\u001b[0m\n",
      " 65%|██████▍   | 73/113 [03:55<02:09,  3.24s/it]"
     ]
    },
    {
     "name": "stdout",
     "output_type": "stream",
     "text": [
      "\n",
      "0: 832x1088 (no detections), 398.4ms\n",
      "Speed: 4.6ms preprocess, 398.4ms inference, 0.3ms postprocess per image at shape (1, 3, 832, 1088)\n",
      "\n",
      "0: 480x640 1 0, 96.8ms\n",
      "Speed: 2.1ms preprocess, 96.8ms inference, 0.5ms postprocess per image at shape (1, 3, 480, 640)\n"
     ]
    },
    {
     "name": "stderr",
     "output_type": "stream",
     "text": [
      "\u001b[32m2024-11-10 09:19:33.181\u001b[0m | \u001b[1mINFO    \u001b[0m | \u001b[36m__main__\u001b[0m:\u001b[36m__init__\u001b[0m:\u001b[36m12\u001b[0m - \u001b[1mLoaded configuration from config.yaml\u001b[0m\n",
      "\u001b[32m2024-11-10 09:19:33.441\u001b[0m | \u001b[1mINFO    \u001b[0m | \u001b[36m__main__\u001b[0m:\u001b[36mpredict\u001b[0m:\u001b[36m81\u001b[0m - \u001b[1mEmbeddings were read\u001b[0m\n",
      "\u001b[32m2024-11-10 09:19:33.450\u001b[0m | \u001b[1mINFO    \u001b[0m | \u001b[36m__main__\u001b[0m:\u001b[36mpredict\u001b[0m:\u001b[36m88\u001b[0m - \u001b[1mtrain_labels and train_labels_with_text were read\u001b[0m\n",
      "\u001b[32m2024-11-10 09:19:33.451\u001b[0m | \u001b[1mINFO    \u001b[0m | \u001b[36m__main__\u001b[0m:\u001b[36mpredict\u001b[0m:\u001b[36m90\u001b[0m - \u001b[1mTest image filenames were read\u001b[0m\n",
      "\u001b[32m2024-11-10 09:19:33.455\u001b[0m | \u001b[1mINFO    \u001b[0m | \u001b[36m__main__\u001b[0m:\u001b[36mpredict\u001b[0m:\u001b[36m95\u001b[0m - \u001b[1mNeighbours were found - [194]\u001b[0m\n",
      " 65%|██████▌   | 74/113 [03:59<02:14,  3.44s/it]"
     ]
    },
    {
     "name": "stdout",
     "output_type": "stream",
     "text": [
      "\n",
      "0: 832x1088 1 2, 407.4ms\n",
      "Speed: 6.5ms preprocess, 407.4ms inference, 13.6ms postprocess per image at shape (1, 3, 832, 1088)\n",
      "\n",
      "0: 480x640 2 0s, 89.6ms\n",
      "Speed: 1.8ms preprocess, 89.6ms inference, 0.5ms postprocess per image at shape (1, 3, 480, 640)\n"
     ]
    },
    {
     "name": "stderr",
     "output_type": "stream",
     "text": [
      "\u001b[32m2024-11-10 09:19:36.664\u001b[0m | \u001b[1mINFO    \u001b[0m | \u001b[36m__main__\u001b[0m:\u001b[36m__init__\u001b[0m:\u001b[36m12\u001b[0m - \u001b[1mLoaded configuration from config.yaml\u001b[0m\n",
      "\u001b[32m2024-11-10 09:19:36.846\u001b[0m | \u001b[1mINFO    \u001b[0m | \u001b[36m__main__\u001b[0m:\u001b[36mpredict\u001b[0m:\u001b[36m81\u001b[0m - \u001b[1mEmbeddings were read\u001b[0m\n",
      "\u001b[32m2024-11-10 09:19:36.853\u001b[0m | \u001b[1mINFO    \u001b[0m | \u001b[36m__main__\u001b[0m:\u001b[36mpredict\u001b[0m:\u001b[36m88\u001b[0m - \u001b[1mtrain_labels and train_labels_with_text were read\u001b[0m\n",
      "\u001b[32m2024-11-10 09:19:36.853\u001b[0m | \u001b[1mINFO    \u001b[0m | \u001b[36m__main__\u001b[0m:\u001b[36mpredict\u001b[0m:\u001b[36m90\u001b[0m - \u001b[1mTest image filenames were read\u001b[0m\n",
      "\u001b[32m2024-11-10 09:19:36.857\u001b[0m | \u001b[1mINFO    \u001b[0m | \u001b[36m__main__\u001b[0m:\u001b[36mpredict\u001b[0m:\u001b[36m95\u001b[0m - \u001b[1mNeighbours were found - [124]\u001b[0m\n",
      " 66%|██████▋   | 75/113 [04:02<02:10,  3.43s/it]"
     ]
    },
    {
     "name": "stdout",
     "output_type": "stream",
     "text": [
      "\n",
      "0: 1088x832 2 2s, 401.9ms\n",
      "Speed: 4.6ms preprocess, 401.9ms inference, 4.5ms postprocess per image at shape (1, 3, 1088, 832)\n",
      "\n",
      "0: 640x512 1 0, 126.9ms\n",
      "Speed: 2.5ms preprocess, 126.9ms inference, 0.4ms postprocess per image at shape (1, 3, 640, 512)\n"
     ]
    },
    {
     "name": "stderr",
     "output_type": "stream",
     "text": [
      "\u001b[32m2024-11-10 09:19:40.374\u001b[0m | \u001b[1mINFO    \u001b[0m | \u001b[36m__main__\u001b[0m:\u001b[36m__init__\u001b[0m:\u001b[36m12\u001b[0m - \u001b[1mLoaded configuration from config.yaml\u001b[0m\n",
      "\u001b[32m2024-11-10 09:19:40.528\u001b[0m | \u001b[1mINFO    \u001b[0m | \u001b[36m__main__\u001b[0m:\u001b[36mpredict\u001b[0m:\u001b[36m81\u001b[0m - \u001b[1mEmbeddings were read\u001b[0m\n",
      "\u001b[32m2024-11-10 09:19:40.536\u001b[0m | \u001b[1mINFO    \u001b[0m | \u001b[36m__main__\u001b[0m:\u001b[36mpredict\u001b[0m:\u001b[36m88\u001b[0m - \u001b[1mtrain_labels and train_labels_with_text were read\u001b[0m\n",
      "\u001b[32m2024-11-10 09:19:40.536\u001b[0m | \u001b[1mINFO    \u001b[0m | \u001b[36m__main__\u001b[0m:\u001b[36mpredict\u001b[0m:\u001b[36m90\u001b[0m - \u001b[1mTest image filenames were read\u001b[0m\n",
      "\u001b[32m2024-11-10 09:19:40.540\u001b[0m | \u001b[1mINFO    \u001b[0m | \u001b[36m__main__\u001b[0m:\u001b[36mpredict\u001b[0m:\u001b[36m95\u001b[0m - \u001b[1mNeighbours were found - [12]\u001b[0m\n",
      " 67%|██████▋   | 76/113 [04:06<02:09,  3.50s/it]"
     ]
    },
    {
     "name": "stdout",
     "output_type": "stream",
     "text": [
      "\n",
      "0: 832x1088 2 2s, 409.1ms\n",
      "Speed: 4.6ms preprocess, 409.1ms inference, 4.5ms postprocess per image at shape (1, 3, 832, 1088)\n",
      "\n",
      "0: 480x640 1 0, 95.5ms\n",
      "Speed: 1.3ms preprocess, 95.5ms inference, 1.0ms postprocess per image at shape (1, 3, 480, 640)\n"
     ]
    },
    {
     "name": "stderr",
     "output_type": "stream",
     "text": [
      "\u001b[32m2024-11-10 09:19:43.484\u001b[0m | \u001b[1mINFO    \u001b[0m | \u001b[36m__main__\u001b[0m:\u001b[36m__init__\u001b[0m:\u001b[36m12\u001b[0m - \u001b[1mLoaded configuration from config.yaml\u001b[0m\n",
      "\u001b[32m2024-11-10 09:19:43.637\u001b[0m | \u001b[1mINFO    \u001b[0m | \u001b[36m__main__\u001b[0m:\u001b[36mpredict\u001b[0m:\u001b[36m81\u001b[0m - \u001b[1mEmbeddings were read\u001b[0m\n",
      "\u001b[32m2024-11-10 09:19:43.645\u001b[0m | \u001b[1mINFO    \u001b[0m | \u001b[36m__main__\u001b[0m:\u001b[36mpredict\u001b[0m:\u001b[36m88\u001b[0m - \u001b[1mtrain_labels and train_labels_with_text were read\u001b[0m\n",
      "\u001b[32m2024-11-10 09:19:43.646\u001b[0m | \u001b[1mINFO    \u001b[0m | \u001b[36m__main__\u001b[0m:\u001b[36mpredict\u001b[0m:\u001b[36m90\u001b[0m - \u001b[1mTest image filenames were read\u001b[0m\n",
      "\u001b[32m2024-11-10 09:19:43.651\u001b[0m | \u001b[1mINFO    \u001b[0m | \u001b[36m__main__\u001b[0m:\u001b[36mpredict\u001b[0m:\u001b[36m95\u001b[0m - \u001b[1mNeighbours were found - [74]\u001b[0m\n",
      " 68%|██████▊   | 77/113 [04:09<02:01,  3.39s/it]"
     ]
    },
    {
     "name": "stdout",
     "output_type": "stream",
     "text": [
      "\n",
      "0: 832x1088 1 2, 419.4ms\n",
      "Speed: 5.3ms preprocess, 419.4ms inference, 3.0ms postprocess per image at shape (1, 3, 832, 1088)\n",
      "\n",
      "0: 480x640 1 0, 99.0ms\n",
      "Speed: 1.2ms preprocess, 99.0ms inference, 0.5ms postprocess per image at shape (1, 3, 480, 640)\n"
     ]
    },
    {
     "name": "stderr",
     "output_type": "stream",
     "text": [
      "\u001b[32m2024-11-10 09:19:46.653\u001b[0m | \u001b[1mINFO    \u001b[0m | \u001b[36m__main__\u001b[0m:\u001b[36m__init__\u001b[0m:\u001b[36m12\u001b[0m - \u001b[1mLoaded configuration from config.yaml\u001b[0m\n",
      "\u001b[32m2024-11-10 09:19:46.812\u001b[0m | \u001b[1mINFO    \u001b[0m | \u001b[36m__main__\u001b[0m:\u001b[36mpredict\u001b[0m:\u001b[36m81\u001b[0m - \u001b[1mEmbeddings were read\u001b[0m\n",
      "\u001b[32m2024-11-10 09:19:46.822\u001b[0m | \u001b[1mINFO    \u001b[0m | \u001b[36m__main__\u001b[0m:\u001b[36mpredict\u001b[0m:\u001b[36m88\u001b[0m - \u001b[1mtrain_labels and train_labels_with_text were read\u001b[0m\n",
      "\u001b[32m2024-11-10 09:19:46.822\u001b[0m | \u001b[1mINFO    \u001b[0m | \u001b[36m__main__\u001b[0m:\u001b[36mpredict\u001b[0m:\u001b[36m90\u001b[0m - \u001b[1mTest image filenames were read\u001b[0m\n",
      "\u001b[32m2024-11-10 09:19:46.826\u001b[0m | \u001b[1mINFO    \u001b[0m | \u001b[36m__main__\u001b[0m:\u001b[36mpredict\u001b[0m:\u001b[36m95\u001b[0m - \u001b[1mNeighbours were found - [144]\u001b[0m\n",
      " 69%|██████▉   | 78/113 [04:12<01:56,  3.32s/it]"
     ]
    },
    {
     "name": "stdout",
     "output_type": "stream",
     "text": [
      "\n",
      "0: 832x1088 2 2s, 403.5ms\n",
      "Speed: 5.0ms preprocess, 403.5ms inference, 4.1ms postprocess per image at shape (1, 3, 832, 1088)\n",
      "\n",
      "0: 480x640 1 0, 96.1ms\n",
      "Speed: 1.1ms preprocess, 96.1ms inference, 0.4ms postprocess per image at shape (1, 3, 480, 640)\n"
     ]
    },
    {
     "name": "stderr",
     "output_type": "stream",
     "text": [
      "\u001b[32m2024-11-10 09:19:49.722\u001b[0m | \u001b[1mINFO    \u001b[0m | \u001b[36m__main__\u001b[0m:\u001b[36m__init__\u001b[0m:\u001b[36m12\u001b[0m - \u001b[1mLoaded configuration from config.yaml\u001b[0m\n",
      "\u001b[32m2024-11-10 09:19:49.876\u001b[0m | \u001b[1mINFO    \u001b[0m | \u001b[36m__main__\u001b[0m:\u001b[36mpredict\u001b[0m:\u001b[36m81\u001b[0m - \u001b[1mEmbeddings were read\u001b[0m\n",
      "\u001b[32m2024-11-10 09:19:49.883\u001b[0m | \u001b[1mINFO    \u001b[0m | \u001b[36m__main__\u001b[0m:\u001b[36mpredict\u001b[0m:\u001b[36m88\u001b[0m - \u001b[1mtrain_labels and train_labels_with_text were read\u001b[0m\n",
      "\u001b[32m2024-11-10 09:19:49.884\u001b[0m | \u001b[1mINFO    \u001b[0m | \u001b[36m__main__\u001b[0m:\u001b[36mpredict\u001b[0m:\u001b[36m90\u001b[0m - \u001b[1mTest image filenames were read\u001b[0m\n",
      "\u001b[32m2024-11-10 09:19:49.888\u001b[0m | \u001b[1mINFO    \u001b[0m | \u001b[36m__main__\u001b[0m:\u001b[36mpredict\u001b[0m:\u001b[36m95\u001b[0m - \u001b[1mNeighbours were found - [40]\u001b[0m\n",
      " 70%|██████▉   | 79/113 [04:15<01:50,  3.24s/it]"
     ]
    },
    {
     "name": "stdout",
     "output_type": "stream",
     "text": [
      "\n",
      "0: 832x1088 1 2, 409.8ms\n",
      "Speed: 5.2ms preprocess, 409.8ms inference, 3.9ms postprocess per image at shape (1, 3, 832, 1088)\n",
      "\n",
      "0: 480x640 2 0s, 93.9ms\n",
      "Speed: 1.9ms preprocess, 93.9ms inference, 0.5ms postprocess per image at shape (1, 3, 480, 640)\n"
     ]
    },
    {
     "name": "stderr",
     "output_type": "stream",
     "text": [
      "\u001b[32m2024-11-10 09:19:53.157\u001b[0m | \u001b[1mINFO    \u001b[0m | \u001b[36m__main__\u001b[0m:\u001b[36m__init__\u001b[0m:\u001b[36m12\u001b[0m - \u001b[1mLoaded configuration from config.yaml\u001b[0m\n",
      "\u001b[32m2024-11-10 09:19:53.344\u001b[0m | \u001b[1mINFO    \u001b[0m | \u001b[36m__main__\u001b[0m:\u001b[36mpredict\u001b[0m:\u001b[36m81\u001b[0m - \u001b[1mEmbeddings were read\u001b[0m\n",
      "\u001b[32m2024-11-10 09:19:53.352\u001b[0m | \u001b[1mINFO    \u001b[0m | \u001b[36m__main__\u001b[0m:\u001b[36mpredict\u001b[0m:\u001b[36m88\u001b[0m - \u001b[1mtrain_labels and train_labels_with_text were read\u001b[0m\n",
      "\u001b[32m2024-11-10 09:19:53.352\u001b[0m | \u001b[1mINFO    \u001b[0m | \u001b[36m__main__\u001b[0m:\u001b[36mpredict\u001b[0m:\u001b[36m90\u001b[0m - \u001b[1mTest image filenames were read\u001b[0m\n",
      "\u001b[32m2024-11-10 09:19:53.356\u001b[0m | \u001b[1mINFO    \u001b[0m | \u001b[36m__main__\u001b[0m:\u001b[36mpredict\u001b[0m:\u001b[36m95\u001b[0m - \u001b[1mNeighbours were found - [124]\u001b[0m\n",
      " 71%|███████   | 80/113 [04:19<01:49,  3.31s/it]"
     ]
    },
    {
     "name": "stdout",
     "output_type": "stream",
     "text": [
      "\n",
      "0: 832x1088 2 2s, 407.7ms\n",
      "Speed: 4.0ms preprocess, 407.7ms inference, 5.1ms postprocess per image at shape (1, 3, 832, 1088)\n",
      "\n",
      "0: 480x640 1 0, 92.9ms\n",
      "Speed: 1.3ms preprocess, 92.9ms inference, 0.5ms postprocess per image at shape (1, 3, 480, 640)\n"
     ]
    },
    {
     "name": "stderr",
     "output_type": "stream",
     "text": [
      "\u001b[32m2024-11-10 09:19:56.316\u001b[0m | \u001b[1mINFO    \u001b[0m | \u001b[36m__main__\u001b[0m:\u001b[36m__init__\u001b[0m:\u001b[36m12\u001b[0m - \u001b[1mLoaded configuration from config.yaml\u001b[0m\n",
      "\u001b[32m2024-11-10 09:19:56.463\u001b[0m | \u001b[1mINFO    \u001b[0m | \u001b[36m__main__\u001b[0m:\u001b[36mpredict\u001b[0m:\u001b[36m81\u001b[0m - \u001b[1mEmbeddings were read\u001b[0m\n",
      "\u001b[32m2024-11-10 09:19:56.472\u001b[0m | \u001b[1mINFO    \u001b[0m | \u001b[36m__main__\u001b[0m:\u001b[36mpredict\u001b[0m:\u001b[36m88\u001b[0m - \u001b[1mtrain_labels and train_labels_with_text were read\u001b[0m\n",
      "\u001b[32m2024-11-10 09:19:56.472\u001b[0m | \u001b[1mINFO    \u001b[0m | \u001b[36m__main__\u001b[0m:\u001b[36mpredict\u001b[0m:\u001b[36m90\u001b[0m - \u001b[1mTest image filenames were read\u001b[0m\n",
      "\u001b[32m2024-11-10 09:19:56.476\u001b[0m | \u001b[1mINFO    \u001b[0m | \u001b[36m__main__\u001b[0m:\u001b[36mpredict\u001b[0m:\u001b[36m95\u001b[0m - \u001b[1mNeighbours were found - [239]\u001b[0m\n",
      " 72%|███████▏  | 81/113 [04:22<01:44,  3.25s/it]"
     ]
    },
    {
     "name": "stdout",
     "output_type": "stream",
     "text": [
      "\n",
      "0: 1088x832 1 2, 398.5ms\n",
      "Speed: 4.1ms preprocess, 398.5ms inference, 2.7ms postprocess per image at shape (1, 3, 1088, 832)\n",
      "\n",
      "0: 640x480 1 0, 96.0ms\n",
      "Speed: 1.0ms preprocess, 96.0ms inference, 0.5ms postprocess per image at shape (1, 3, 640, 480)\n"
     ]
    },
    {
     "name": "stderr",
     "output_type": "stream",
     "text": [
      "\u001b[32m2024-11-10 09:19:59.425\u001b[0m | \u001b[1mINFO    \u001b[0m | \u001b[36m__main__\u001b[0m:\u001b[36m__init__\u001b[0m:\u001b[36m12\u001b[0m - \u001b[1mLoaded configuration from config.yaml\u001b[0m\n",
      "\u001b[32m2024-11-10 09:19:59.574\u001b[0m | \u001b[1mINFO    \u001b[0m | \u001b[36m__main__\u001b[0m:\u001b[36mpredict\u001b[0m:\u001b[36m81\u001b[0m - \u001b[1mEmbeddings were read\u001b[0m\n",
      "\u001b[32m2024-11-10 09:19:59.583\u001b[0m | \u001b[1mINFO    \u001b[0m | \u001b[36m__main__\u001b[0m:\u001b[36mpredict\u001b[0m:\u001b[36m88\u001b[0m - \u001b[1mtrain_labels and train_labels_with_text were read\u001b[0m\n",
      "\u001b[32m2024-11-10 09:19:59.583\u001b[0m | \u001b[1mINFO    \u001b[0m | \u001b[36m__main__\u001b[0m:\u001b[36mpredict\u001b[0m:\u001b[36m90\u001b[0m - \u001b[1mTest image filenames were read\u001b[0m\n",
      "\u001b[32m2024-11-10 09:19:59.587\u001b[0m | \u001b[1mINFO    \u001b[0m | \u001b[36m__main__\u001b[0m:\u001b[36mpredict\u001b[0m:\u001b[36m95\u001b[0m - \u001b[1mNeighbours were found - [31]\u001b[0m\n",
      " 73%|███████▎  | 82/113 [04:25<01:39,  3.21s/it]"
     ]
    },
    {
     "name": "stdout",
     "output_type": "stream",
     "text": [
      "\n",
      "0: 1088x832 1 2, 415.6ms\n",
      "Speed: 4.1ms preprocess, 415.6ms inference, 3.3ms postprocess per image at shape (1, 3, 1088, 832)\n",
      "\n",
      "0: 640x480 1 0, 92.5ms\n",
      "Speed: 1.1ms preprocess, 92.5ms inference, 0.5ms postprocess per image at shape (1, 3, 640, 480)\n"
     ]
    },
    {
     "name": "stderr",
     "output_type": "stream",
     "text": [
      "\u001b[32m2024-11-10 09:20:02.488\u001b[0m | \u001b[1mINFO    \u001b[0m | \u001b[36m__main__\u001b[0m:\u001b[36m__init__\u001b[0m:\u001b[36m12\u001b[0m - \u001b[1mLoaded configuration from config.yaml\u001b[0m\n",
      "\u001b[32m2024-11-10 09:20:02.637\u001b[0m | \u001b[1mINFO    \u001b[0m | \u001b[36m__main__\u001b[0m:\u001b[36mpredict\u001b[0m:\u001b[36m81\u001b[0m - \u001b[1mEmbeddings were read\u001b[0m\n",
      "\u001b[32m2024-11-10 09:20:02.643\u001b[0m | \u001b[1mINFO    \u001b[0m | \u001b[36m__main__\u001b[0m:\u001b[36mpredict\u001b[0m:\u001b[36m88\u001b[0m - \u001b[1mtrain_labels and train_labels_with_text were read\u001b[0m\n",
      "\u001b[32m2024-11-10 09:20:02.644\u001b[0m | \u001b[1mINFO    \u001b[0m | \u001b[36m__main__\u001b[0m:\u001b[36mpredict\u001b[0m:\u001b[36m90\u001b[0m - \u001b[1mTest image filenames were read\u001b[0m\n",
      "\u001b[32m2024-11-10 09:20:02.649\u001b[0m | \u001b[1mINFO    \u001b[0m | \u001b[36m__main__\u001b[0m:\u001b[36mpredict\u001b[0m:\u001b[36m95\u001b[0m - \u001b[1mNeighbours were found - [31]\u001b[0m\n",
      " 73%|███████▎  | 83/113 [04:28<01:34,  3.17s/it]"
     ]
    },
    {
     "name": "stdout",
     "output_type": "stream",
     "text": [
      "\n",
      "0: 1088x832 1 2, 406.8ms\n",
      "Speed: 6.6ms preprocess, 406.8ms inference, 3.7ms postprocess per image at shape (1, 3, 1088, 832)\n",
      "\n",
      "0: 640x480 1 0, 97.3ms\n",
      "Speed: 1.1ms preprocess, 97.3ms inference, 0.4ms postprocess per image at shape (1, 3, 640, 480)\n"
     ]
    },
    {
     "name": "stderr",
     "output_type": "stream",
     "text": [
      "\u001b[32m2024-11-10 09:20:06.028\u001b[0m | \u001b[1mINFO    \u001b[0m | \u001b[36m__main__\u001b[0m:\u001b[36m__init__\u001b[0m:\u001b[36m12\u001b[0m - \u001b[1mLoaded configuration from config.yaml\u001b[0m\n",
      "\u001b[32m2024-11-10 09:20:06.180\u001b[0m | \u001b[1mINFO    \u001b[0m | \u001b[36m__main__\u001b[0m:\u001b[36mpredict\u001b[0m:\u001b[36m81\u001b[0m - \u001b[1mEmbeddings were read\u001b[0m\n",
      "\u001b[32m2024-11-10 09:20:06.189\u001b[0m | \u001b[1mINFO    \u001b[0m | \u001b[36m__main__\u001b[0m:\u001b[36mpredict\u001b[0m:\u001b[36m88\u001b[0m - \u001b[1mtrain_labels and train_labels_with_text were read\u001b[0m\n",
      "\u001b[32m2024-11-10 09:20:06.189\u001b[0m | \u001b[1mINFO    \u001b[0m | \u001b[36m__main__\u001b[0m:\u001b[36mpredict\u001b[0m:\u001b[36m90\u001b[0m - \u001b[1mTest image filenames were read\u001b[0m\n",
      "\u001b[32m2024-11-10 09:20:06.193\u001b[0m | \u001b[1mINFO    \u001b[0m | \u001b[36m__main__\u001b[0m:\u001b[36mpredict\u001b[0m:\u001b[36m95\u001b[0m - \u001b[1mNeighbours were found - [25]\u001b[0m\n",
      " 74%|███████▍  | 84/113 [04:32<01:35,  3.28s/it]"
     ]
    },
    {
     "name": "stdout",
     "output_type": "stream",
     "text": [
      "\n",
      "0: 1088x832 2 2s, 396.6ms\n",
      "Speed: 3.9ms preprocess, 396.6ms inference, 3.7ms postprocess per image at shape (1, 3, 1088, 832)\n",
      "\n",
      "0: 640x480 1 0, 95.2ms\n",
      "Speed: 1.0ms preprocess, 95.2ms inference, 0.8ms postprocess per image at shape (1, 3, 640, 480)\n"
     ]
    },
    {
     "name": "stderr",
     "output_type": "stream",
     "text": [
      "\u001b[32m2024-11-10 09:20:09.125\u001b[0m | \u001b[1mINFO    \u001b[0m | \u001b[36m__main__\u001b[0m:\u001b[36m__init__\u001b[0m:\u001b[36m12\u001b[0m - \u001b[1mLoaded configuration from config.yaml\u001b[0m\n",
      "\u001b[32m2024-11-10 09:20:09.275\u001b[0m | \u001b[1mINFO    \u001b[0m | \u001b[36m__main__\u001b[0m:\u001b[36mpredict\u001b[0m:\u001b[36m81\u001b[0m - \u001b[1mEmbeddings were read\u001b[0m\n",
      "\u001b[32m2024-11-10 09:20:09.283\u001b[0m | \u001b[1mINFO    \u001b[0m | \u001b[36m__main__\u001b[0m:\u001b[36mpredict\u001b[0m:\u001b[36m88\u001b[0m - \u001b[1mtrain_labels and train_labels_with_text were read\u001b[0m\n",
      "\u001b[32m2024-11-10 09:20:09.284\u001b[0m | \u001b[1mINFO    \u001b[0m | \u001b[36m__main__\u001b[0m:\u001b[36mpredict\u001b[0m:\u001b[36m90\u001b[0m - \u001b[1mTest image filenames were read\u001b[0m\n",
      "\u001b[32m2024-11-10 09:20:09.288\u001b[0m | \u001b[1mINFO    \u001b[0m | \u001b[36m__main__\u001b[0m:\u001b[36mpredict\u001b[0m:\u001b[36m95\u001b[0m - \u001b[1mNeighbours were found - [81]\u001b[0m\n",
      " 75%|███████▌  | 85/113 [04:35<01:30,  3.23s/it]"
     ]
    },
    {
     "name": "stdout",
     "output_type": "stream",
     "text": [
      "\n",
      "0: 832x1088 2 2s, 415.8ms\n",
      "Speed: 4.4ms preprocess, 415.8ms inference, 4.4ms postprocess per image at shape (1, 3, 832, 1088)\n",
      "\n",
      "0: 480x640 1 0, 95.5ms\n",
      "Speed: 1.0ms preprocess, 95.5ms inference, 0.4ms postprocess per image at shape (1, 3, 480, 640)\n"
     ]
    },
    {
     "name": "stderr",
     "output_type": "stream",
     "text": [
      "\u001b[32m2024-11-10 09:20:12.254\u001b[0m | \u001b[1mINFO    \u001b[0m | \u001b[36m__main__\u001b[0m:\u001b[36m__init__\u001b[0m:\u001b[36m12\u001b[0m - \u001b[1mLoaded configuration from config.yaml\u001b[0m\n",
      "\u001b[32m2024-11-10 09:20:12.417\u001b[0m | \u001b[1mINFO    \u001b[0m | \u001b[36m__main__\u001b[0m:\u001b[36mpredict\u001b[0m:\u001b[36m81\u001b[0m - \u001b[1mEmbeddings were read\u001b[0m\n",
      "\u001b[32m2024-11-10 09:20:12.425\u001b[0m | \u001b[1mINFO    \u001b[0m | \u001b[36m__main__\u001b[0m:\u001b[36mpredict\u001b[0m:\u001b[36m88\u001b[0m - \u001b[1mtrain_labels and train_labels_with_text were read\u001b[0m\n",
      "\u001b[32m2024-11-10 09:20:12.426\u001b[0m | \u001b[1mINFO    \u001b[0m | \u001b[36m__main__\u001b[0m:\u001b[36mpredict\u001b[0m:\u001b[36m90\u001b[0m - \u001b[1mTest image filenames were read\u001b[0m\n",
      "\u001b[32m2024-11-10 09:20:12.431\u001b[0m | \u001b[1mINFO    \u001b[0m | \u001b[36m__main__\u001b[0m:\u001b[36mpredict\u001b[0m:\u001b[36m95\u001b[0m - \u001b[1mNeighbours were found - [223]\u001b[0m\n",
      " 76%|███████▌  | 86/113 [04:38<01:26,  3.20s/it]"
     ]
    },
    {
     "name": "stdout",
     "output_type": "stream",
     "text": [
      "\n",
      "0: 1088x832 1 2, 426.3ms\n",
      "Speed: 6.2ms preprocess, 426.3ms inference, 3.0ms postprocess per image at shape (1, 3, 1088, 832)\n",
      "\n",
      "0: 640x480 1 0, 94.7ms\n",
      "Speed: 1.9ms preprocess, 94.7ms inference, 0.9ms postprocess per image at shape (1, 3, 640, 480)\n"
     ]
    },
    {
     "name": "stderr",
     "output_type": "stream",
     "text": [
      "\u001b[32m2024-11-10 09:20:15.537\u001b[0m | \u001b[1mINFO    \u001b[0m | \u001b[36m__main__\u001b[0m:\u001b[36m__init__\u001b[0m:\u001b[36m12\u001b[0m - \u001b[1mLoaded configuration from config.yaml\u001b[0m\n",
      "\u001b[32m2024-11-10 09:20:15.752\u001b[0m | \u001b[1mINFO    \u001b[0m | \u001b[36m__main__\u001b[0m:\u001b[36mpredict\u001b[0m:\u001b[36m81\u001b[0m - \u001b[1mEmbeddings were read\u001b[0m\n",
      "\u001b[32m2024-11-10 09:20:15.760\u001b[0m | \u001b[1mINFO    \u001b[0m | \u001b[36m__main__\u001b[0m:\u001b[36mpredict\u001b[0m:\u001b[36m88\u001b[0m - \u001b[1mtrain_labels and train_labels_with_text were read\u001b[0m\n",
      "\u001b[32m2024-11-10 09:20:15.761\u001b[0m | \u001b[1mINFO    \u001b[0m | \u001b[36m__main__\u001b[0m:\u001b[36mpredict\u001b[0m:\u001b[36m90\u001b[0m - \u001b[1mTest image filenames were read\u001b[0m\n",
      "\u001b[32m2024-11-10 09:20:15.766\u001b[0m | \u001b[1mINFO    \u001b[0m | \u001b[36m__main__\u001b[0m:\u001b[36mpredict\u001b[0m:\u001b[36m95\u001b[0m - \u001b[1mNeighbours were found - [39]\u001b[0m\n",
      " 77%|███████▋  | 87/113 [04:41<01:24,  3.24s/it]"
     ]
    },
    {
     "name": "stdout",
     "output_type": "stream",
     "text": [
      "\n",
      "0: 1088x832 1 2, 404.1ms\n",
      "Speed: 6.4ms preprocess, 404.1ms inference, 2.4ms postprocess per image at shape (1, 3, 1088, 832)\n",
      "\n",
      "0: 640x480 1 0, 95.6ms\n",
      "Speed: 1.4ms preprocess, 95.6ms inference, 1.0ms postprocess per image at shape (1, 3, 640, 480)\n"
     ]
    },
    {
     "name": "stderr",
     "output_type": "stream",
     "text": [
      "\u001b[32m2024-11-10 09:20:18.842\u001b[0m | \u001b[1mINFO    \u001b[0m | \u001b[36m__main__\u001b[0m:\u001b[36m__init__\u001b[0m:\u001b[36m12\u001b[0m - \u001b[1mLoaded configuration from config.yaml\u001b[0m\n",
      "\u001b[32m2024-11-10 09:20:18.999\u001b[0m | \u001b[1mINFO    \u001b[0m | \u001b[36m__main__\u001b[0m:\u001b[36mpredict\u001b[0m:\u001b[36m81\u001b[0m - \u001b[1mEmbeddings were read\u001b[0m\n",
      "\u001b[32m2024-11-10 09:20:19.006\u001b[0m | \u001b[1mINFO    \u001b[0m | \u001b[36m__main__\u001b[0m:\u001b[36mpredict\u001b[0m:\u001b[36m88\u001b[0m - \u001b[1mtrain_labels and train_labels_with_text were read\u001b[0m\n",
      "\u001b[32m2024-11-10 09:20:19.006\u001b[0m | \u001b[1mINFO    \u001b[0m | \u001b[36m__main__\u001b[0m:\u001b[36mpredict\u001b[0m:\u001b[36m90\u001b[0m - \u001b[1mTest image filenames were read\u001b[0m\n",
      "\u001b[32m2024-11-10 09:20:19.010\u001b[0m | \u001b[1mINFO    \u001b[0m | \u001b[36m__main__\u001b[0m:\u001b[36mpredict\u001b[0m:\u001b[36m95\u001b[0m - \u001b[1mNeighbours were found - [43]\u001b[0m\n",
      " 78%|███████▊  | 88/113 [04:44<01:21,  3.24s/it]"
     ]
    },
    {
     "name": "stdout",
     "output_type": "stream",
     "text": [
      "\n",
      "0: 1088x832 2 2s, 415.8ms\n",
      "Speed: 4.5ms preprocess, 415.8ms inference, 5.0ms postprocess per image at shape (1, 3, 1088, 832)\n",
      "\n",
      "0: 640x480 1 0, 90.3ms\n",
      "Speed: 2.0ms preprocess, 90.3ms inference, 0.4ms postprocess per image at shape (1, 3, 640, 480)\n"
     ]
    },
    {
     "name": "stderr",
     "output_type": "stream",
     "text": [
      "\u001b[32m2024-11-10 09:20:23.598\u001b[0m | \u001b[1mINFO    \u001b[0m | \u001b[36m__main__\u001b[0m:\u001b[36m__init__\u001b[0m:\u001b[36m12\u001b[0m - \u001b[1mLoaded configuration from config.yaml\u001b[0m\n",
      "\u001b[32m2024-11-10 09:20:23.853\u001b[0m | \u001b[1mINFO    \u001b[0m | \u001b[36m__main__\u001b[0m:\u001b[36mpredict\u001b[0m:\u001b[36m81\u001b[0m - \u001b[1mEmbeddings were read\u001b[0m\n",
      "\u001b[32m2024-11-10 09:20:23.860\u001b[0m | \u001b[1mINFO    \u001b[0m | \u001b[36m__main__\u001b[0m:\u001b[36mpredict\u001b[0m:\u001b[36m88\u001b[0m - \u001b[1mtrain_labels and train_labels_with_text were read\u001b[0m\n",
      "\u001b[32m2024-11-10 09:20:23.861\u001b[0m | \u001b[1mINFO    \u001b[0m | \u001b[36m__main__\u001b[0m:\u001b[36mpredict\u001b[0m:\u001b[36m90\u001b[0m - \u001b[1mTest image filenames were read\u001b[0m\n",
      "\u001b[32m2024-11-10 09:20:23.865\u001b[0m | \u001b[1mINFO    \u001b[0m | \u001b[36m__main__\u001b[0m:\u001b[36mpredict\u001b[0m:\u001b[36m95\u001b[0m - \u001b[1mNeighbours were found - [0]\u001b[0m\n",
      " 79%|███████▉  | 89/113 [04:49<01:29,  3.73s/it]"
     ]
    },
    {
     "name": "stdout",
     "output_type": "stream",
     "text": [
      "\n",
      "0: 1088x832 1 2, 416.6ms\n",
      "Speed: 4.8ms preprocess, 416.6ms inference, 3.1ms postprocess per image at shape (1, 3, 1088, 832)\n",
      "\n",
      "0: 640x480 1 0, 89.3ms\n",
      "Speed: 2.3ms preprocess, 89.3ms inference, 0.4ms postprocess per image at shape (1, 3, 640, 480)\n"
     ]
    },
    {
     "name": "stderr",
     "output_type": "stream",
     "text": [
      "\u001b[32m2024-11-10 09:20:27.004\u001b[0m | \u001b[1mINFO    \u001b[0m | \u001b[36m__main__\u001b[0m:\u001b[36m__init__\u001b[0m:\u001b[36m12\u001b[0m - \u001b[1mLoaded configuration from config.yaml\u001b[0m\n",
      "\u001b[32m2024-11-10 09:20:27.169\u001b[0m | \u001b[1mINFO    \u001b[0m | \u001b[36m__main__\u001b[0m:\u001b[36mpredict\u001b[0m:\u001b[36m81\u001b[0m - \u001b[1mEmbeddings were read\u001b[0m\n",
      "\u001b[32m2024-11-10 09:20:27.177\u001b[0m | \u001b[1mINFO    \u001b[0m | \u001b[36m__main__\u001b[0m:\u001b[36mpredict\u001b[0m:\u001b[36m88\u001b[0m - \u001b[1mtrain_labels and train_labels_with_text were read\u001b[0m\n",
      "\u001b[32m2024-11-10 09:20:27.178\u001b[0m | \u001b[1mINFO    \u001b[0m | \u001b[36m__main__\u001b[0m:\u001b[36mpredict\u001b[0m:\u001b[36m90\u001b[0m - \u001b[1mTest image filenames were read\u001b[0m\n",
      "\u001b[32m2024-11-10 09:20:27.182\u001b[0m | \u001b[1mINFO    \u001b[0m | \u001b[36m__main__\u001b[0m:\u001b[36mpredict\u001b[0m:\u001b[36m95\u001b[0m - \u001b[1mNeighbours were found - [218]\u001b[0m\n",
      " 80%|███████▉  | 90/113 [04:53<01:22,  3.60s/it]"
     ]
    },
    {
     "name": "stdout",
     "output_type": "stream",
     "text": [
      "\n",
      "0: 448x1088 (no detections), 201.0ms\n",
      "Speed: 2.2ms preprocess, 201.0ms inference, 0.2ms postprocess per image at shape (1, 3, 448, 1088)\n",
      "\n",
      "0: 288x640 1 0, 88.9ms\n",
      "Speed: 1.1ms preprocess, 88.9ms inference, 0.7ms postprocess per image at shape (1, 3, 288, 640)\n"
     ]
    },
    {
     "name": "stderr",
     "output_type": "stream",
     "text": [
      "\u001b[32m2024-11-10 09:20:29.910\u001b[0m | \u001b[1mINFO    \u001b[0m | \u001b[36m__main__\u001b[0m:\u001b[36m__init__\u001b[0m:\u001b[36m12\u001b[0m - \u001b[1mLoaded configuration from config.yaml\u001b[0m\n",
      "\u001b[32m2024-11-10 09:20:30.121\u001b[0m | \u001b[1mINFO    \u001b[0m | \u001b[36m__main__\u001b[0m:\u001b[36mpredict\u001b[0m:\u001b[36m81\u001b[0m - \u001b[1mEmbeddings were read\u001b[0m\n",
      "\u001b[32m2024-11-10 09:20:30.130\u001b[0m | \u001b[1mINFO    \u001b[0m | \u001b[36m__main__\u001b[0m:\u001b[36mpredict\u001b[0m:\u001b[36m88\u001b[0m - \u001b[1mtrain_labels and train_labels_with_text were read\u001b[0m\n",
      "\u001b[32m2024-11-10 09:20:30.130\u001b[0m | \u001b[1mINFO    \u001b[0m | \u001b[36m__main__\u001b[0m:\u001b[36mpredict\u001b[0m:\u001b[36m90\u001b[0m - \u001b[1mTest image filenames were read\u001b[0m\n",
      "\u001b[32m2024-11-10 09:20:30.134\u001b[0m | \u001b[1mINFO    \u001b[0m | \u001b[36m__main__\u001b[0m:\u001b[36mpredict\u001b[0m:\u001b[36m95\u001b[0m - \u001b[1mNeighbours were found - [233]\u001b[0m\n",
      " 81%|████████  | 91/113 [04:56<01:14,  3.41s/it]"
     ]
    },
    {
     "name": "stdout",
     "output_type": "stream",
     "text": [
      "\n",
      "0: 1088x832 1 2, 406.4ms\n",
      "Speed: 4.5ms preprocess, 406.4ms inference, 3.2ms postprocess per image at shape (1, 3, 1088, 832)\n",
      "\n",
      "0: 640x480 (no detections), 98.0ms\n",
      "Speed: 1.1ms preprocess, 98.0ms inference, 0.3ms postprocess per image at shape (1, 3, 640, 480)\n"
     ]
    },
    {
     "name": "stderr",
     "output_type": "stream",
     "text": [
      "\u001b[32m2024-11-10 09:20:33.399\u001b[0m | \u001b[1mINFO    \u001b[0m | \u001b[36m__main__\u001b[0m:\u001b[36m__init__\u001b[0m:\u001b[36m12\u001b[0m - \u001b[1mLoaded configuration from config.yaml\u001b[0m\n",
      "\u001b[32m2024-11-10 09:20:33.545\u001b[0m | \u001b[1mINFO    \u001b[0m | \u001b[36m__main__\u001b[0m:\u001b[36mpredict\u001b[0m:\u001b[36m81\u001b[0m - \u001b[1mEmbeddings were read\u001b[0m\n",
      "\u001b[32m2024-11-10 09:20:33.555\u001b[0m | \u001b[1mINFO    \u001b[0m | \u001b[36m__main__\u001b[0m:\u001b[36mpredict\u001b[0m:\u001b[36m88\u001b[0m - \u001b[1mtrain_labels and train_labels_with_text were read\u001b[0m\n",
      "\u001b[32m2024-11-10 09:20:33.556\u001b[0m | \u001b[1mINFO    \u001b[0m | \u001b[36m__main__\u001b[0m:\u001b[36mpredict\u001b[0m:\u001b[36m90\u001b[0m - \u001b[1mTest image filenames were read\u001b[0m\n",
      "\u001b[32m2024-11-10 09:20:33.560\u001b[0m | \u001b[1mINFO    \u001b[0m | \u001b[36m__main__\u001b[0m:\u001b[36mpredict\u001b[0m:\u001b[36m95\u001b[0m - \u001b[1mNeighbours were found - [54]\u001b[0m\n",
      " 81%|████████▏ | 92/113 [04:59<01:11,  3.41s/it]"
     ]
    },
    {
     "name": "stdout",
     "output_type": "stream",
     "text": [
      "\n",
      "0: 1088x832 2 2s, 416.3ms\n",
      "Speed: 4.7ms preprocess, 416.3ms inference, 3.4ms postprocess per image at shape (1, 3, 1088, 832)\n",
      "\n",
      "0: 640x480 1 0, 97.3ms\n",
      "Speed: 1.0ms preprocess, 97.3ms inference, 0.5ms postprocess per image at shape (1, 3, 640, 480)\n"
     ]
    },
    {
     "name": "stderr",
     "output_type": "stream",
     "text": [
      "\u001b[32m2024-11-10 09:20:36.516\u001b[0m | \u001b[1mINFO    \u001b[0m | \u001b[36m__main__\u001b[0m:\u001b[36m__init__\u001b[0m:\u001b[36m12\u001b[0m - \u001b[1mLoaded configuration from config.yaml\u001b[0m\n",
      "\u001b[32m2024-11-10 09:20:36.670\u001b[0m | \u001b[1mINFO    \u001b[0m | \u001b[36m__main__\u001b[0m:\u001b[36mpredict\u001b[0m:\u001b[36m81\u001b[0m - \u001b[1mEmbeddings were read\u001b[0m\n",
      "\u001b[32m2024-11-10 09:20:36.679\u001b[0m | \u001b[1mINFO    \u001b[0m | \u001b[36m__main__\u001b[0m:\u001b[36mpredict\u001b[0m:\u001b[36m88\u001b[0m - \u001b[1mtrain_labels and train_labels_with_text were read\u001b[0m\n",
      "\u001b[32m2024-11-10 09:20:36.679\u001b[0m | \u001b[1mINFO    \u001b[0m | \u001b[36m__main__\u001b[0m:\u001b[36mpredict\u001b[0m:\u001b[36m90\u001b[0m - \u001b[1mTest image filenames were read\u001b[0m\n",
      "\u001b[32m2024-11-10 09:20:36.684\u001b[0m | \u001b[1mINFO    \u001b[0m | \u001b[36m__main__\u001b[0m:\u001b[36mpredict\u001b[0m:\u001b[36m95\u001b[0m - \u001b[1mNeighbours were found - [201]\u001b[0m\n",
      " 82%|████████▏ | 93/113 [05:02<01:06,  3.33s/it]"
     ]
    },
    {
     "name": "stdout",
     "output_type": "stream",
     "text": [
      "\n",
      "0: 832x1088 2 2s, 413.8ms\n",
      "Speed: 5.2ms preprocess, 413.8ms inference, 5.1ms postprocess per image at shape (1, 3, 832, 1088)\n",
      "\n",
      "0: 480x640 2 0s, 95.1ms\n",
      "Speed: 1.0ms preprocess, 95.1ms inference, 0.5ms postprocess per image at shape (1, 3, 480, 640)\n"
     ]
    },
    {
     "name": "stderr",
     "output_type": "stream",
     "text": [
      "\u001b[32m2024-11-10 09:20:41.010\u001b[0m | \u001b[1mINFO    \u001b[0m | \u001b[36m__main__\u001b[0m:\u001b[36m__init__\u001b[0m:\u001b[36m12\u001b[0m - \u001b[1mLoaded configuration from config.yaml\u001b[0m\n",
      "\u001b[32m2024-11-10 09:20:41.165\u001b[0m | \u001b[1mINFO    \u001b[0m | \u001b[36m__main__\u001b[0m:\u001b[36mpredict\u001b[0m:\u001b[36m81\u001b[0m - \u001b[1mEmbeddings were read\u001b[0m\n",
      "\u001b[32m2024-11-10 09:20:41.172\u001b[0m | \u001b[1mINFO    \u001b[0m | \u001b[36m__main__\u001b[0m:\u001b[36mpredict\u001b[0m:\u001b[36m88\u001b[0m - \u001b[1mtrain_labels and train_labels_with_text were read\u001b[0m\n",
      "\u001b[32m2024-11-10 09:20:41.172\u001b[0m | \u001b[1mINFO    \u001b[0m | \u001b[36m__main__\u001b[0m:\u001b[36mpredict\u001b[0m:\u001b[36m90\u001b[0m - \u001b[1mTest image filenames were read\u001b[0m\n",
      "\u001b[32m2024-11-10 09:20:41.177\u001b[0m | \u001b[1mINFO    \u001b[0m | \u001b[36m__main__\u001b[0m:\u001b[36mpredict\u001b[0m:\u001b[36m95\u001b[0m - \u001b[1mNeighbours were found - [17]\u001b[0m\n",
      " 83%|████████▎ | 94/113 [05:07<01:09,  3.68s/it]"
     ]
    },
    {
     "name": "stdout",
     "output_type": "stream",
     "text": [
      "\n",
      "0: 1088x832 1 2, 414.9ms\n",
      "Speed: 4.3ms preprocess, 414.9ms inference, 2.5ms postprocess per image at shape (1, 3, 1088, 832)\n",
      "\n",
      "0: 640x480 1 0, 93.8ms\n",
      "Speed: 1.1ms preprocess, 93.8ms inference, 0.5ms postprocess per image at shape (1, 3, 640, 480)\n"
     ]
    },
    {
     "name": "stderr",
     "output_type": "stream",
     "text": [
      "\u001b[32m2024-11-10 09:20:44.096\u001b[0m | \u001b[1mINFO    \u001b[0m | \u001b[36m__main__\u001b[0m:\u001b[36m__init__\u001b[0m:\u001b[36m12\u001b[0m - \u001b[1mLoaded configuration from config.yaml\u001b[0m\n",
      "\u001b[32m2024-11-10 09:20:44.302\u001b[0m | \u001b[1mINFO    \u001b[0m | \u001b[36m__main__\u001b[0m:\u001b[36mpredict\u001b[0m:\u001b[36m81\u001b[0m - \u001b[1mEmbeddings were read\u001b[0m\n",
      "\u001b[32m2024-11-10 09:20:44.310\u001b[0m | \u001b[1mINFO    \u001b[0m | \u001b[36m__main__\u001b[0m:\u001b[36mpredict\u001b[0m:\u001b[36m88\u001b[0m - \u001b[1mtrain_labels and train_labels_with_text were read\u001b[0m\n",
      "\u001b[32m2024-11-10 09:20:44.311\u001b[0m | \u001b[1mINFO    \u001b[0m | \u001b[36m__main__\u001b[0m:\u001b[36mpredict\u001b[0m:\u001b[36m90\u001b[0m - \u001b[1mTest image filenames were read\u001b[0m\n",
      "\u001b[32m2024-11-10 09:20:44.314\u001b[0m | \u001b[1mINFO    \u001b[0m | \u001b[36m__main__\u001b[0m:\u001b[36mpredict\u001b[0m:\u001b[36m95\u001b[0m - \u001b[1mNeighbours were found - [29]\u001b[0m\n",
      " 84%|████████▍ | 95/113 [05:10<01:03,  3.51s/it]"
     ]
    },
    {
     "name": "stdout",
     "output_type": "stream",
     "text": [
      "\n",
      "0: 832x1088 1 2, 401.1ms\n",
      "Speed: 4.8ms preprocess, 401.1ms inference, 3.8ms postprocess per image at shape (1, 3, 832, 1088)\n",
      "\n",
      "0: 480x640 1 0, 89.8ms\n",
      "Speed: 2.0ms preprocess, 89.8ms inference, 0.8ms postprocess per image at shape (1, 3, 480, 640)\n"
     ]
    },
    {
     "name": "stderr",
     "output_type": "stream",
     "text": [
      "\u001b[32m2024-11-10 09:20:47.569\u001b[0m | \u001b[1mINFO    \u001b[0m | \u001b[36m__main__\u001b[0m:\u001b[36m__init__\u001b[0m:\u001b[36m12\u001b[0m - \u001b[1mLoaded configuration from config.yaml\u001b[0m\n",
      "\u001b[32m2024-11-10 09:20:47.754\u001b[0m | \u001b[1mINFO    \u001b[0m | \u001b[36m__main__\u001b[0m:\u001b[36mpredict\u001b[0m:\u001b[36m81\u001b[0m - \u001b[1mEmbeddings were read\u001b[0m\n",
      "\u001b[32m2024-11-10 09:20:47.763\u001b[0m | \u001b[1mINFO    \u001b[0m | \u001b[36m__main__\u001b[0m:\u001b[36mpredict\u001b[0m:\u001b[36m88\u001b[0m - \u001b[1mtrain_labels and train_labels_with_text were read\u001b[0m\n",
      "\u001b[32m2024-11-10 09:20:47.763\u001b[0m | \u001b[1mINFO    \u001b[0m | \u001b[36m__main__\u001b[0m:\u001b[36mpredict\u001b[0m:\u001b[36m90\u001b[0m - \u001b[1mTest image filenames were read\u001b[0m\n",
      "\u001b[32m2024-11-10 09:20:47.767\u001b[0m | \u001b[1mINFO    \u001b[0m | \u001b[36m__main__\u001b[0m:\u001b[36mpredict\u001b[0m:\u001b[36m95\u001b[0m - \u001b[1mNeighbours were found - [185]\u001b[0m\n",
      " 85%|████████▍ | 96/113 [05:13<00:59,  3.50s/it]"
     ]
    },
    {
     "name": "stdout",
     "output_type": "stream",
     "text": [
      "\n",
      "0: 1088x832 2 2s, 389.0ms\n",
      "Speed: 5.8ms preprocess, 389.0ms inference, 4.4ms postprocess per image at shape (1, 3, 1088, 832)\n",
      "\n",
      "0: 640x480 1 0, 94.4ms\n",
      "Speed: 1.1ms preprocess, 94.4ms inference, 0.5ms postprocess per image at shape (1, 3, 640, 480)\n"
     ]
    },
    {
     "name": "stderr",
     "output_type": "stream",
     "text": [
      "\u001b[32m2024-11-10 09:20:50.665\u001b[0m | \u001b[1mINFO    \u001b[0m | \u001b[36m__main__\u001b[0m:\u001b[36m__init__\u001b[0m:\u001b[36m12\u001b[0m - \u001b[1mLoaded configuration from config.yaml\u001b[0m\n",
      "\u001b[32m2024-11-10 09:20:50.877\u001b[0m | \u001b[1mINFO    \u001b[0m | \u001b[36m__main__\u001b[0m:\u001b[36mpredict\u001b[0m:\u001b[36m81\u001b[0m - \u001b[1mEmbeddings were read\u001b[0m\n",
      "\u001b[32m2024-11-10 09:20:50.884\u001b[0m | \u001b[1mINFO    \u001b[0m | \u001b[36m__main__\u001b[0m:\u001b[36mpredict\u001b[0m:\u001b[36m88\u001b[0m - \u001b[1mtrain_labels and train_labels_with_text were read\u001b[0m\n",
      "\u001b[32m2024-11-10 09:20:50.885\u001b[0m | \u001b[1mINFO    \u001b[0m | \u001b[36m__main__\u001b[0m:\u001b[36mpredict\u001b[0m:\u001b[36m90\u001b[0m - \u001b[1mTest image filenames were read\u001b[0m\n",
      "\u001b[32m2024-11-10 09:20:50.890\u001b[0m | \u001b[1mINFO    \u001b[0m | \u001b[36m__main__\u001b[0m:\u001b[36mpredict\u001b[0m:\u001b[36m95\u001b[0m - \u001b[1mNeighbours were found - [142]\u001b[0m\n",
      " 86%|████████▌ | 97/113 [05:16<00:54,  3.39s/it]"
     ]
    },
    {
     "name": "stdout",
     "output_type": "stream",
     "text": [
      "\n",
      "0: 1088x832 1 2, 424.8ms\n",
      "Speed: 6.3ms preprocess, 424.8ms inference, 3.1ms postprocess per image at shape (1, 3, 1088, 832)\n",
      "\n",
      "0: 640x480 1 0, 92.2ms\n",
      "Speed: 1.3ms preprocess, 92.2ms inference, 0.6ms postprocess per image at shape (1, 3, 640, 480)\n"
     ]
    },
    {
     "name": "stderr",
     "output_type": "stream",
     "text": [
      "\u001b[32m2024-11-10 09:20:54.046\u001b[0m | \u001b[1mINFO    \u001b[0m | \u001b[36m__main__\u001b[0m:\u001b[36m__init__\u001b[0m:\u001b[36m12\u001b[0m - \u001b[1mLoaded configuration from config.yaml\u001b[0m\n",
      "\u001b[32m2024-11-10 09:20:54.267\u001b[0m | \u001b[1mINFO    \u001b[0m | \u001b[36m__main__\u001b[0m:\u001b[36mpredict\u001b[0m:\u001b[36m81\u001b[0m - \u001b[1mEmbeddings were read\u001b[0m\n",
      "\u001b[32m2024-11-10 09:20:54.276\u001b[0m | \u001b[1mINFO    \u001b[0m | \u001b[36m__main__\u001b[0m:\u001b[36mpredict\u001b[0m:\u001b[36m88\u001b[0m - \u001b[1mtrain_labels and train_labels_with_text were read\u001b[0m\n",
      "\u001b[32m2024-11-10 09:20:54.276\u001b[0m | \u001b[1mINFO    \u001b[0m | \u001b[36m__main__\u001b[0m:\u001b[36mpredict\u001b[0m:\u001b[36m90\u001b[0m - \u001b[1mTest image filenames were read\u001b[0m\n",
      "\u001b[32m2024-11-10 09:20:54.280\u001b[0m | \u001b[1mINFO    \u001b[0m | \u001b[36m__main__\u001b[0m:\u001b[36mpredict\u001b[0m:\u001b[36m95\u001b[0m - \u001b[1mNeighbours were found - [44]\u001b[0m\n",
      " 87%|████████▋ | 98/113 [05:20<00:50,  3.39s/it]"
     ]
    },
    {
     "name": "stdout",
     "output_type": "stream",
     "text": [
      "\n",
      "0: 1024x1088 1 2, 603.1ms\n",
      "Speed: 5.5ms preprocess, 603.1ms inference, 2.7ms postprocess per image at shape (1, 3, 1024, 1088)\n",
      "\n",
      "0: 608x640 1 0, 152.7ms\n",
      "Speed: 2.9ms preprocess, 152.7ms inference, 0.4ms postprocess per image at shape (1, 3, 608, 640)\n"
     ]
    },
    {
     "name": "stderr",
     "output_type": "stream",
     "text": [
      "\u001b[32m2024-11-10 09:20:57.760\u001b[0m | \u001b[1mINFO    \u001b[0m | \u001b[36m__main__\u001b[0m:\u001b[36m__init__\u001b[0m:\u001b[36m12\u001b[0m - \u001b[1mLoaded configuration from config.yaml\u001b[0m\n",
      "\u001b[32m2024-11-10 09:20:57.911\u001b[0m | \u001b[1mINFO    \u001b[0m | \u001b[36m__main__\u001b[0m:\u001b[36mpredict\u001b[0m:\u001b[36m81\u001b[0m - \u001b[1mEmbeddings were read\u001b[0m\n",
      "\u001b[32m2024-11-10 09:20:57.920\u001b[0m | \u001b[1mINFO    \u001b[0m | \u001b[36m__main__\u001b[0m:\u001b[36mpredict\u001b[0m:\u001b[36m88\u001b[0m - \u001b[1mtrain_labels and train_labels_with_text were read\u001b[0m\n",
      "\u001b[32m2024-11-10 09:20:57.920\u001b[0m | \u001b[1mINFO    \u001b[0m | \u001b[36m__main__\u001b[0m:\u001b[36mpredict\u001b[0m:\u001b[36m90\u001b[0m - \u001b[1mTest image filenames were read\u001b[0m\n",
      "\u001b[32m2024-11-10 09:20:57.925\u001b[0m | \u001b[1mINFO    \u001b[0m | \u001b[36m__main__\u001b[0m:\u001b[36mpredict\u001b[0m:\u001b[36m95\u001b[0m - \u001b[1mNeighbours were found - [250]\u001b[0m\n",
      " 88%|████████▊ | 99/113 [05:23<00:48,  3.46s/it]"
     ]
    },
    {
     "name": "stdout",
     "output_type": "stream",
     "text": [
      "\n",
      "0: 832x1088 (no detections), 426.1ms\n",
      "Speed: 7.4ms preprocess, 426.1ms inference, 0.3ms postprocess per image at shape (1, 3, 832, 1088)\n",
      "\n",
      "0: 480x640 1 0, 84.3ms\n",
      "Speed: 1.9ms preprocess, 84.3ms inference, 0.9ms postprocess per image at shape (1, 3, 480, 640)\n"
     ]
    },
    {
     "name": "stderr",
     "output_type": "stream",
     "text": [
      "\u001b[32m2024-11-10 09:21:02.029\u001b[0m | \u001b[1mINFO    \u001b[0m | \u001b[36m__main__\u001b[0m:\u001b[36m__init__\u001b[0m:\u001b[36m12\u001b[0m - \u001b[1mLoaded configuration from config.yaml\u001b[0m\n",
      "\u001b[32m2024-11-10 09:21:02.279\u001b[0m | \u001b[1mINFO    \u001b[0m | \u001b[36m__main__\u001b[0m:\u001b[36mpredict\u001b[0m:\u001b[36m81\u001b[0m - \u001b[1mEmbeddings were read\u001b[0m\n",
      "\u001b[32m2024-11-10 09:21:02.285\u001b[0m | \u001b[1mINFO    \u001b[0m | \u001b[36m__main__\u001b[0m:\u001b[36mpredict\u001b[0m:\u001b[36m88\u001b[0m - \u001b[1mtrain_labels and train_labels_with_text were read\u001b[0m\n",
      "\u001b[32m2024-11-10 09:21:02.286\u001b[0m | \u001b[1mINFO    \u001b[0m | \u001b[36m__main__\u001b[0m:\u001b[36mpredict\u001b[0m:\u001b[36m90\u001b[0m - \u001b[1mTest image filenames were read\u001b[0m\n",
      "\u001b[32m2024-11-10 09:21:02.292\u001b[0m | \u001b[1mINFO    \u001b[0m | \u001b[36m__main__\u001b[0m:\u001b[36mpredict\u001b[0m:\u001b[36m95\u001b[0m - \u001b[1mNeighbours were found - [220]\u001b[0m\n",
      " 88%|████████▊ | 100/113 [05:28<00:48,  3.73s/it]"
     ]
    },
    {
     "name": "stdout",
     "output_type": "stream",
     "text": [
      "\n",
      "0: 1088x832 1 2, 421.4ms\n",
      "Speed: 5.4ms preprocess, 421.4ms inference, 2.8ms postprocess per image at shape (1, 3, 1088, 832)\n",
      "\n",
      "0: 640x480 (no detections), 98.6ms\n",
      "Speed: 1.3ms preprocess, 98.6ms inference, 0.3ms postprocess per image at shape (1, 3, 640, 480)\n"
     ]
    },
    {
     "name": "stderr",
     "output_type": "stream",
     "text": [
      "\u001b[32m2024-11-10 09:21:05.484\u001b[0m | \u001b[1mINFO    \u001b[0m | \u001b[36m__main__\u001b[0m:\u001b[36m__init__\u001b[0m:\u001b[36m12\u001b[0m - \u001b[1mLoaded configuration from config.yaml\u001b[0m\n",
      "\u001b[32m2024-11-10 09:21:05.645\u001b[0m | \u001b[1mINFO    \u001b[0m | \u001b[36m__main__\u001b[0m:\u001b[36mpredict\u001b[0m:\u001b[36m81\u001b[0m - \u001b[1mEmbeddings were read\u001b[0m\n",
      "\u001b[32m2024-11-10 09:21:05.654\u001b[0m | \u001b[1mINFO    \u001b[0m | \u001b[36m__main__\u001b[0m:\u001b[36mpredict\u001b[0m:\u001b[36m88\u001b[0m - \u001b[1mtrain_labels and train_labels_with_text were read\u001b[0m\n",
      "\u001b[32m2024-11-10 09:21:05.654\u001b[0m | \u001b[1mINFO    \u001b[0m | \u001b[36m__main__\u001b[0m:\u001b[36mpredict\u001b[0m:\u001b[36m90\u001b[0m - \u001b[1mTest image filenames were read\u001b[0m\n",
      "\u001b[32m2024-11-10 09:21:05.659\u001b[0m | \u001b[1mINFO    \u001b[0m | \u001b[36m__main__\u001b[0m:\u001b[36mpredict\u001b[0m:\u001b[36m95\u001b[0m - \u001b[1mNeighbours were found - [185]\u001b[0m\n",
      " 89%|████████▉ | 101/113 [05:31<00:43,  3.63s/it]"
     ]
    },
    {
     "name": "stdout",
     "output_type": "stream",
     "text": [
      "\n",
      "0: 1088x832 1 2, 499.0ms\n",
      "Speed: 4.3ms preprocess, 499.0ms inference, 2.6ms postprocess per image at shape (1, 3, 1088, 832)\n",
      "\n",
      "0: 640x480 1 0, 96.9ms\n",
      "Speed: 1.2ms preprocess, 96.9ms inference, 0.5ms postprocess per image at shape (1, 3, 640, 480)\n"
     ]
    },
    {
     "name": "stderr",
     "output_type": "stream",
     "text": [
      "\u001b[32m2024-11-10 09:21:08.878\u001b[0m | \u001b[1mINFO    \u001b[0m | \u001b[36m__main__\u001b[0m:\u001b[36m__init__\u001b[0m:\u001b[36m12\u001b[0m - \u001b[1mLoaded configuration from config.yaml\u001b[0m\n",
      "\u001b[32m2024-11-10 09:21:09.039\u001b[0m | \u001b[1mINFO    \u001b[0m | \u001b[36m__main__\u001b[0m:\u001b[36mpredict\u001b[0m:\u001b[36m81\u001b[0m - \u001b[1mEmbeddings were read\u001b[0m\n",
      "\u001b[32m2024-11-10 09:21:09.047\u001b[0m | \u001b[1mINFO    \u001b[0m | \u001b[36m__main__\u001b[0m:\u001b[36mpredict\u001b[0m:\u001b[36m88\u001b[0m - \u001b[1mtrain_labels and train_labels_with_text were read\u001b[0m\n",
      "\u001b[32m2024-11-10 09:21:09.048\u001b[0m | \u001b[1mINFO    \u001b[0m | \u001b[36m__main__\u001b[0m:\u001b[36mpredict\u001b[0m:\u001b[36m90\u001b[0m - \u001b[1mTest image filenames were read\u001b[0m\n",
      "\u001b[32m2024-11-10 09:21:09.052\u001b[0m | \u001b[1mINFO    \u001b[0m | \u001b[36m__main__\u001b[0m:\u001b[36mpredict\u001b[0m:\u001b[36m95\u001b[0m - \u001b[1mNeighbours were found - [49]\u001b[0m\n",
      " 90%|█████████ | 102/113 [05:34<00:39,  3.56s/it]"
     ]
    },
    {
     "name": "stdout",
     "output_type": "stream",
     "text": [
      "\n",
      "0: 832x1088 1 2, 448.8ms\n",
      "Speed: 4.6ms preprocess, 448.8ms inference, 2.9ms postprocess per image at shape (1, 3, 832, 1088)\n",
      "\n",
      "0: 480x640 1 0, 100.8ms\n",
      "Speed: 1.2ms preprocess, 100.8ms inference, 0.8ms postprocess per image at shape (1, 3, 480, 640)\n"
     ]
    },
    {
     "name": "stderr",
     "output_type": "stream",
     "text": [
      "\u001b[32m2024-11-10 09:21:12.281\u001b[0m | \u001b[1mINFO    \u001b[0m | \u001b[36m__main__\u001b[0m:\u001b[36m__init__\u001b[0m:\u001b[36m12\u001b[0m - \u001b[1mLoaded configuration from config.yaml\u001b[0m\n",
      "\u001b[32m2024-11-10 09:21:12.446\u001b[0m | \u001b[1mINFO    \u001b[0m | \u001b[36m__main__\u001b[0m:\u001b[36mpredict\u001b[0m:\u001b[36m81\u001b[0m - \u001b[1mEmbeddings were read\u001b[0m\n",
      "\u001b[32m2024-11-10 09:21:12.456\u001b[0m | \u001b[1mINFO    \u001b[0m | \u001b[36m__main__\u001b[0m:\u001b[36mpredict\u001b[0m:\u001b[36m88\u001b[0m - \u001b[1mtrain_labels and train_labels_with_text were read\u001b[0m\n",
      "\u001b[32m2024-11-10 09:21:12.457\u001b[0m | \u001b[1mINFO    \u001b[0m | \u001b[36m__main__\u001b[0m:\u001b[36mpredict\u001b[0m:\u001b[36m90\u001b[0m - \u001b[1mTest image filenames were read\u001b[0m\n",
      "\u001b[32m2024-11-10 09:21:12.462\u001b[0m | \u001b[1mINFO    \u001b[0m | \u001b[36m__main__\u001b[0m:\u001b[36mpredict\u001b[0m:\u001b[36m95\u001b[0m - \u001b[1mNeighbours were found - [189]\u001b[0m\n",
      " 91%|█████████ | 103/113 [05:38<00:35,  3.51s/it]"
     ]
    },
    {
     "name": "stdout",
     "output_type": "stream",
     "text": [
      "\n",
      "0: 1088x832 2 2s, 452.6ms\n",
      "Speed: 4.3ms preprocess, 452.6ms inference, 4.8ms postprocess per image at shape (1, 3, 1088, 832)\n",
      "\n",
      "0: 640x480 1 0, 105.2ms\n",
      "Speed: 1.3ms preprocess, 105.2ms inference, 0.5ms postprocess per image at shape (1, 3, 640, 480)\n"
     ]
    },
    {
     "name": "stderr",
     "output_type": "stream",
     "text": [
      "\u001b[32m2024-11-10 09:21:15.642\u001b[0m | \u001b[1mINFO    \u001b[0m | \u001b[36m__main__\u001b[0m:\u001b[36m__init__\u001b[0m:\u001b[36m12\u001b[0m - \u001b[1mLoaded configuration from config.yaml\u001b[0m\n",
      "\u001b[32m2024-11-10 09:21:15.810\u001b[0m | \u001b[1mINFO    \u001b[0m | \u001b[36m__main__\u001b[0m:\u001b[36mpredict\u001b[0m:\u001b[36m81\u001b[0m - \u001b[1mEmbeddings were read\u001b[0m\n",
      "\u001b[32m2024-11-10 09:21:15.819\u001b[0m | \u001b[1mINFO    \u001b[0m | \u001b[36m__main__\u001b[0m:\u001b[36mpredict\u001b[0m:\u001b[36m88\u001b[0m - \u001b[1mtrain_labels and train_labels_with_text were read\u001b[0m\n",
      "\u001b[32m2024-11-10 09:21:15.821\u001b[0m | \u001b[1mINFO    \u001b[0m | \u001b[36m__main__\u001b[0m:\u001b[36mpredict\u001b[0m:\u001b[36m90\u001b[0m - \u001b[1mTest image filenames were read\u001b[0m\n",
      "\u001b[32m2024-11-10 09:21:15.827\u001b[0m | \u001b[1mINFO    \u001b[0m | \u001b[36m__main__\u001b[0m:\u001b[36mpredict\u001b[0m:\u001b[36m95\u001b[0m - \u001b[1mNeighbours were found - [250]\u001b[0m\n",
      " 92%|█████████▏| 104/113 [05:41<00:31,  3.47s/it]"
     ]
    },
    {
     "name": "stdout",
     "output_type": "stream",
     "text": [
      "\n",
      "0: 1088x832 2 2s, 420.0ms\n",
      "Speed: 4.6ms preprocess, 420.0ms inference, 4.0ms postprocess per image at shape (1, 3, 1088, 832)\n",
      "\n",
      "0: 640x480 1 0, 98.2ms\n",
      "Speed: 1.2ms preprocess, 98.2ms inference, 0.5ms postprocess per image at shape (1, 3, 640, 480)\n"
     ]
    },
    {
     "name": "stderr",
     "output_type": "stream",
     "text": [
      "\u001b[32m2024-11-10 09:21:18.945\u001b[0m | \u001b[1mINFO    \u001b[0m | \u001b[36m__main__\u001b[0m:\u001b[36m__init__\u001b[0m:\u001b[36m12\u001b[0m - \u001b[1mLoaded configuration from config.yaml\u001b[0m\n",
      "\u001b[32m2024-11-10 09:21:19.181\u001b[0m | \u001b[1mINFO    \u001b[0m | \u001b[36m__main__\u001b[0m:\u001b[36mpredict\u001b[0m:\u001b[36m81\u001b[0m - \u001b[1mEmbeddings were read\u001b[0m\n",
      "\u001b[32m2024-11-10 09:21:19.189\u001b[0m | \u001b[1mINFO    \u001b[0m | \u001b[36m__main__\u001b[0m:\u001b[36mpredict\u001b[0m:\u001b[36m88\u001b[0m - \u001b[1mtrain_labels and train_labels_with_text were read\u001b[0m\n",
      "\u001b[32m2024-11-10 09:21:19.189\u001b[0m | \u001b[1mINFO    \u001b[0m | \u001b[36m__main__\u001b[0m:\u001b[36mpredict\u001b[0m:\u001b[36m90\u001b[0m - \u001b[1mTest image filenames were read\u001b[0m\n",
      "\u001b[32m2024-11-10 09:21:19.195\u001b[0m | \u001b[1mINFO    \u001b[0m | \u001b[36m__main__\u001b[0m:\u001b[36mpredict\u001b[0m:\u001b[36m95\u001b[0m - \u001b[1mNeighbours were found - [97]\u001b[0m\n",
      " 93%|█████████▎| 105/113 [05:45<00:27,  3.44s/it]"
     ]
    },
    {
     "name": "stdout",
     "output_type": "stream",
     "text": [
      "\n",
      "0: 1088x832 2 2s, 448.5ms\n",
      "Speed: 5.0ms preprocess, 448.5ms inference, 4.5ms postprocess per image at shape (1, 3, 1088, 832)\n",
      "\n",
      "0: 640x480 1 0, 117.3ms\n",
      "Speed: 2.5ms preprocess, 117.3ms inference, 0.6ms postprocess per image at shape (1, 3, 640, 480)\n"
     ]
    },
    {
     "name": "stderr",
     "output_type": "stream",
     "text": [
      "\u001b[32m2024-11-10 09:21:22.409\u001b[0m | \u001b[1mINFO    \u001b[0m | \u001b[36m__main__\u001b[0m:\u001b[36m__init__\u001b[0m:\u001b[36m12\u001b[0m - \u001b[1mLoaded configuration from config.yaml\u001b[0m\n",
      "\u001b[32m2024-11-10 09:21:22.566\u001b[0m | \u001b[1mINFO    \u001b[0m | \u001b[36m__main__\u001b[0m:\u001b[36mpredict\u001b[0m:\u001b[36m81\u001b[0m - \u001b[1mEmbeddings were read\u001b[0m\n",
      "\u001b[32m2024-11-10 09:21:22.574\u001b[0m | \u001b[1mINFO    \u001b[0m | \u001b[36m__main__\u001b[0m:\u001b[36mpredict\u001b[0m:\u001b[36m88\u001b[0m - \u001b[1mtrain_labels and train_labels_with_text were read\u001b[0m\n",
      "\u001b[32m2024-11-10 09:21:22.575\u001b[0m | \u001b[1mINFO    \u001b[0m | \u001b[36m__main__\u001b[0m:\u001b[36mpredict\u001b[0m:\u001b[36m90\u001b[0m - \u001b[1mTest image filenames were read\u001b[0m\n",
      "\u001b[32m2024-11-10 09:21:22.579\u001b[0m | \u001b[1mINFO    \u001b[0m | \u001b[36m__main__\u001b[0m:\u001b[36mpredict\u001b[0m:\u001b[36m95\u001b[0m - \u001b[1mNeighbours were found - [142]\u001b[0m\n",
      " 94%|█████████▍| 106/113 [05:48<00:23,  3.42s/it]"
     ]
    },
    {
     "name": "stdout",
     "output_type": "stream",
     "text": [
      "\n",
      "0: 832x1088 1 2, 394.4ms\n",
      "Speed: 4.6ms preprocess, 394.4ms inference, 2.4ms postprocess per image at shape (1, 3, 832, 1088)\n",
      "\n",
      "0: 480x640 1 0, 87.4ms\n",
      "Speed: 1.8ms preprocess, 87.4ms inference, 0.4ms postprocess per image at shape (1, 3, 480, 640)\n"
     ]
    },
    {
     "name": "stderr",
     "output_type": "stream",
     "text": [
      "\u001b[32m2024-11-10 09:21:35.542\u001b[0m | \u001b[1mINFO    \u001b[0m | \u001b[36m__main__\u001b[0m:\u001b[36m__init__\u001b[0m:\u001b[36m12\u001b[0m - \u001b[1mLoaded configuration from config.yaml\u001b[0m\n",
      "\u001b[32m2024-11-10 09:21:35.708\u001b[0m | \u001b[1mINFO    \u001b[0m | \u001b[36m__main__\u001b[0m:\u001b[36mpredict\u001b[0m:\u001b[36m81\u001b[0m - \u001b[1mEmbeddings were read\u001b[0m\n",
      "\u001b[32m2024-11-10 09:21:35.717\u001b[0m | \u001b[1mINFO    \u001b[0m | \u001b[36m__main__\u001b[0m:\u001b[36mpredict\u001b[0m:\u001b[36m88\u001b[0m - \u001b[1mtrain_labels and train_labels_with_text were read\u001b[0m\n",
      "\u001b[32m2024-11-10 09:21:35.718\u001b[0m | \u001b[1mINFO    \u001b[0m | \u001b[36m__main__\u001b[0m:\u001b[36mpredict\u001b[0m:\u001b[36m90\u001b[0m - \u001b[1mTest image filenames were read\u001b[0m\n",
      "\u001b[32m2024-11-10 09:21:35.722\u001b[0m | \u001b[1mINFO    \u001b[0m | \u001b[36m__main__\u001b[0m:\u001b[36mpredict\u001b[0m:\u001b[36m95\u001b[0m - \u001b[1mNeighbours were found - [123]\u001b[0m\n",
      " 95%|█████████▍| 107/113 [06:01<00:38,  6.34s/it]"
     ]
    },
    {
     "name": "stdout",
     "output_type": "stream",
     "text": [
      "\n",
      "0: 1088x832 1 2, 399.6ms\n",
      "Speed: 4.8ms preprocess, 399.6ms inference, 3.0ms postprocess per image at shape (1, 3, 1088, 832)\n",
      "\n",
      "0: 640x480 (no detections), 95.5ms\n",
      "Speed: 1.9ms preprocess, 95.5ms inference, 0.4ms postprocess per image at shape (1, 3, 640, 480)\n"
     ]
    },
    {
     "name": "stderr",
     "output_type": "stream",
     "text": [
      "\u001b[32m2024-11-10 09:21:39.137\u001b[0m | \u001b[1mINFO    \u001b[0m | \u001b[36m__main__\u001b[0m:\u001b[36m__init__\u001b[0m:\u001b[36m12\u001b[0m - \u001b[1mLoaded configuration from config.yaml\u001b[0m\n",
      "\u001b[32m2024-11-10 09:21:39.298\u001b[0m | \u001b[1mINFO    \u001b[0m | \u001b[36m__main__\u001b[0m:\u001b[36mpredict\u001b[0m:\u001b[36m81\u001b[0m - \u001b[1mEmbeddings were read\u001b[0m\n",
      "\u001b[32m2024-11-10 09:21:39.306\u001b[0m | \u001b[1mINFO    \u001b[0m | \u001b[36m__main__\u001b[0m:\u001b[36mpredict\u001b[0m:\u001b[36m88\u001b[0m - \u001b[1mtrain_labels and train_labels_with_text were read\u001b[0m\n",
      "\u001b[32m2024-11-10 09:21:39.307\u001b[0m | \u001b[1mINFO    \u001b[0m | \u001b[36m__main__\u001b[0m:\u001b[36mpredict\u001b[0m:\u001b[36m90\u001b[0m - \u001b[1mTest image filenames were read\u001b[0m\n",
      "\u001b[32m2024-11-10 09:21:39.311\u001b[0m | \u001b[1mINFO    \u001b[0m | \u001b[36m__main__\u001b[0m:\u001b[36mpredict\u001b[0m:\u001b[36m95\u001b[0m - \u001b[1mNeighbours were found - [248]\u001b[0m\n",
      " 96%|█████████▌| 108/113 [06:05<00:27,  5.52s/it]"
     ]
    },
    {
     "name": "stdout",
     "output_type": "stream",
     "text": [
      "\n",
      "0: 1088x832 1 2, 405.0ms\n",
      "Speed: 4.4ms preprocess, 405.0ms inference, 2.8ms postprocess per image at shape (1, 3, 1088, 832)\n",
      "\n",
      "0: 640x480 1 0, 99.7ms\n",
      "Speed: 1.1ms preprocess, 99.7ms inference, 0.5ms postprocess per image at shape (1, 3, 640, 480)\n"
     ]
    },
    {
     "name": "stderr",
     "output_type": "stream",
     "text": [
      "\u001b[32m2024-11-10 09:21:42.427\u001b[0m | \u001b[1mINFO    \u001b[0m | \u001b[36m__main__\u001b[0m:\u001b[36m__init__\u001b[0m:\u001b[36m12\u001b[0m - \u001b[1mLoaded configuration from config.yaml\u001b[0m\n",
      "\u001b[32m2024-11-10 09:21:42.581\u001b[0m | \u001b[1mINFO    \u001b[0m | \u001b[36m__main__\u001b[0m:\u001b[36mpredict\u001b[0m:\u001b[36m81\u001b[0m - \u001b[1mEmbeddings were read\u001b[0m\n",
      "\u001b[32m2024-11-10 09:21:42.590\u001b[0m | \u001b[1mINFO    \u001b[0m | \u001b[36m__main__\u001b[0m:\u001b[36mpredict\u001b[0m:\u001b[36m88\u001b[0m - \u001b[1mtrain_labels and train_labels_with_text were read\u001b[0m\n",
      "\u001b[32m2024-11-10 09:21:42.591\u001b[0m | \u001b[1mINFO    \u001b[0m | \u001b[36m__main__\u001b[0m:\u001b[36mpredict\u001b[0m:\u001b[36m90\u001b[0m - \u001b[1mTest image filenames were read\u001b[0m\n",
      "\u001b[32m2024-11-10 09:21:42.595\u001b[0m | \u001b[1mINFO    \u001b[0m | \u001b[36m__main__\u001b[0m:\u001b[36mpredict\u001b[0m:\u001b[36m95\u001b[0m - \u001b[1mNeighbours were found - [43]\u001b[0m\n",
      " 96%|█████████▋| 109/113 [06:08<00:19,  4.84s/it]"
     ]
    },
    {
     "name": "stdout",
     "output_type": "stream",
     "text": [
      "\n",
      "0: 1088x832 2 2s, 412.1ms\n",
      "Speed: 5.0ms preprocess, 412.1ms inference, 4.7ms postprocess per image at shape (1, 3, 1088, 832)\n",
      "\n",
      "0: 640x480 1 0, 98.0ms\n",
      "Speed: 1.1ms preprocess, 98.0ms inference, 0.4ms postprocess per image at shape (1, 3, 640, 480)\n"
     ]
    },
    {
     "name": "stderr",
     "output_type": "stream",
     "text": [
      "\u001b[32m2024-11-10 09:21:45.552\u001b[0m | \u001b[1mINFO    \u001b[0m | \u001b[36m__main__\u001b[0m:\u001b[36m__init__\u001b[0m:\u001b[36m12\u001b[0m - \u001b[1mLoaded configuration from config.yaml\u001b[0m\n",
      "\u001b[32m2024-11-10 09:21:45.704\u001b[0m | \u001b[1mINFO    \u001b[0m | \u001b[36m__main__\u001b[0m:\u001b[36mpredict\u001b[0m:\u001b[36m81\u001b[0m - \u001b[1mEmbeddings were read\u001b[0m\n",
      "\u001b[32m2024-11-10 09:21:45.711\u001b[0m | \u001b[1mINFO    \u001b[0m | \u001b[36m__main__\u001b[0m:\u001b[36mpredict\u001b[0m:\u001b[36m88\u001b[0m - \u001b[1mtrain_labels and train_labels_with_text were read\u001b[0m\n",
      "\u001b[32m2024-11-10 09:21:45.711\u001b[0m | \u001b[1mINFO    \u001b[0m | \u001b[36m__main__\u001b[0m:\u001b[36mpredict\u001b[0m:\u001b[36m90\u001b[0m - \u001b[1mTest image filenames were read\u001b[0m\n",
      "\u001b[32m2024-11-10 09:21:45.715\u001b[0m | \u001b[1mINFO    \u001b[0m | \u001b[36m__main__\u001b[0m:\u001b[36mpredict\u001b[0m:\u001b[36m95\u001b[0m - \u001b[1mNeighbours were found - [200]\u001b[0m\n",
      " 97%|█████████▋| 110/113 [06:11<00:12,  4.32s/it]"
     ]
    },
    {
     "name": "stdout",
     "output_type": "stream",
     "text": [
      "\n",
      "0: 1088x832 2 2s, 399.1ms\n",
      "Speed: 4.6ms preprocess, 399.1ms inference, 4.2ms postprocess per image at shape (1, 3, 1088, 832)\n",
      "\n",
      "0: 640x480 1 0, 95.0ms\n",
      "Speed: 1.1ms preprocess, 95.0ms inference, 0.5ms postprocess per image at shape (1, 3, 640, 480)\n"
     ]
    },
    {
     "name": "stderr",
     "output_type": "stream",
     "text": [
      "\u001b[32m2024-11-10 09:21:48.672\u001b[0m | \u001b[1mINFO    \u001b[0m | \u001b[36m__main__\u001b[0m:\u001b[36m__init__\u001b[0m:\u001b[36m12\u001b[0m - \u001b[1mLoaded configuration from config.yaml\u001b[0m\n",
      "\u001b[32m2024-11-10 09:21:48.839\u001b[0m | \u001b[1mINFO    \u001b[0m | \u001b[36m__main__\u001b[0m:\u001b[36mpredict\u001b[0m:\u001b[36m81\u001b[0m - \u001b[1mEmbeddings were read\u001b[0m\n",
      "\u001b[32m2024-11-10 09:21:48.846\u001b[0m | \u001b[1mINFO    \u001b[0m | \u001b[36m__main__\u001b[0m:\u001b[36mpredict\u001b[0m:\u001b[36m88\u001b[0m - \u001b[1mtrain_labels and train_labels_with_text were read\u001b[0m\n",
      "\u001b[32m2024-11-10 09:21:48.846\u001b[0m | \u001b[1mINFO    \u001b[0m | \u001b[36m__main__\u001b[0m:\u001b[36mpredict\u001b[0m:\u001b[36m90\u001b[0m - \u001b[1mTest image filenames were read\u001b[0m\n",
      "\u001b[32m2024-11-10 09:21:48.851\u001b[0m | \u001b[1mINFO    \u001b[0m | \u001b[36m__main__\u001b[0m:\u001b[36mpredict\u001b[0m:\u001b[36m95\u001b[0m - \u001b[1mNeighbours were found - [91]\u001b[0m\n",
      " 98%|█████████▊| 111/113 [06:14<00:07,  3.97s/it]"
     ]
    },
    {
     "name": "stdout",
     "output_type": "stream",
     "text": [
      "\n",
      "0: 1088x832 1 2, 418.7ms\n",
      "Speed: 4.2ms preprocess, 418.7ms inference, 2.5ms postprocess per image at shape (1, 3, 1088, 832)\n",
      "\n",
      "0: 640x480 1 0, 98.6ms\n",
      "Speed: 1.6ms preprocess, 98.6ms inference, 0.5ms postprocess per image at shape (1, 3, 640, 480)\n"
     ]
    },
    {
     "name": "stderr",
     "output_type": "stream",
     "text": [
      "\u001b[32m2024-11-10 09:21:51.870\u001b[0m | \u001b[1mINFO    \u001b[0m | \u001b[36m__main__\u001b[0m:\u001b[36m__init__\u001b[0m:\u001b[36m12\u001b[0m - \u001b[1mLoaded configuration from config.yaml\u001b[0m\n",
      "\u001b[32m2024-11-10 09:21:52.027\u001b[0m | \u001b[1mINFO    \u001b[0m | \u001b[36m__main__\u001b[0m:\u001b[36mpredict\u001b[0m:\u001b[36m81\u001b[0m - \u001b[1mEmbeddings were read\u001b[0m\n",
      "\u001b[32m2024-11-10 09:21:52.036\u001b[0m | \u001b[1mINFO    \u001b[0m | \u001b[36m__main__\u001b[0m:\u001b[36mpredict\u001b[0m:\u001b[36m88\u001b[0m - \u001b[1mtrain_labels and train_labels_with_text were read\u001b[0m\n",
      "\u001b[32m2024-11-10 09:21:52.036\u001b[0m | \u001b[1mINFO    \u001b[0m | \u001b[36m__main__\u001b[0m:\u001b[36mpredict\u001b[0m:\u001b[36m90\u001b[0m - \u001b[1mTest image filenames were read\u001b[0m\n",
      "\u001b[32m2024-11-10 09:21:52.041\u001b[0m | \u001b[1mINFO    \u001b[0m | \u001b[36m__main__\u001b[0m:\u001b[36mpredict\u001b[0m:\u001b[36m95\u001b[0m - \u001b[1mNeighbours were found - [34]\u001b[0m\n",
      " 99%|█████████▉| 112/113 [06:17<00:03,  3.74s/it]"
     ]
    },
    {
     "name": "stdout",
     "output_type": "stream",
     "text": [
      "\n",
      "0: 1088x832 2 2s, 459.1ms\n",
      "Speed: 4.9ms preprocess, 459.1ms inference, 4.6ms postprocess per image at shape (1, 3, 1088, 832)\n",
      "\n",
      "0: 640x480 1 0, 107.3ms\n",
      "Speed: 2.1ms preprocess, 107.3ms inference, 0.5ms postprocess per image at shape (1, 3, 640, 480)\n"
     ]
    },
    {
     "name": "stderr",
     "output_type": "stream",
     "text": [
      "\u001b[32m2024-11-10 09:21:55.353\u001b[0m | \u001b[1mINFO    \u001b[0m | \u001b[36m__main__\u001b[0m:\u001b[36m__init__\u001b[0m:\u001b[36m12\u001b[0m - \u001b[1mLoaded configuration from config.yaml\u001b[0m\n",
      "\u001b[32m2024-11-10 09:21:55.523\u001b[0m | \u001b[1mINFO    \u001b[0m | \u001b[36m__main__\u001b[0m:\u001b[36mpredict\u001b[0m:\u001b[36m81\u001b[0m - \u001b[1mEmbeddings were read\u001b[0m\n",
      "\u001b[32m2024-11-10 09:21:55.529\u001b[0m | \u001b[1mINFO    \u001b[0m | \u001b[36m__main__\u001b[0m:\u001b[36mpredict\u001b[0m:\u001b[36m88\u001b[0m - \u001b[1mtrain_labels and train_labels_with_text were read\u001b[0m\n",
      "\u001b[32m2024-11-10 09:21:55.530\u001b[0m | \u001b[1mINFO    \u001b[0m | \u001b[36m__main__\u001b[0m:\u001b[36mpredict\u001b[0m:\u001b[36m90\u001b[0m - \u001b[1mTest image filenames were read\u001b[0m\n",
      "\u001b[32m2024-11-10 09:21:55.536\u001b[0m | \u001b[1mINFO    \u001b[0m | \u001b[36m__main__\u001b[0m:\u001b[36mpredict\u001b[0m:\u001b[36m95\u001b[0m - \u001b[1mNeighbours were found - [81]\u001b[0m\n",
      "100%|██████████| 113/113 [06:21<00:00,  3.38s/it]\n"
     ]
    }
   ],
   "source": [
    "model = OcrPipeline()\n",
    "ans = pd.DataFrame()\n",
    "res_arr = []\n",
    "for img_path in tqdm(os.listdir(config[\"test_images_folder\"])):\n",
    "    if img_path.split(\".\")[-1].lower() in [\"jpg\", \"png\", \"jpeg\"]:\n",
    "        image = Image.open(os.path.join(config[\"test_images_folder\"], img_path))\n",
    "        result = [img_path]\n",
    "        result += model.predict(image, search_in_data=False, dist_threshold=10.5)\n",
    "        res_arr.append(result)"
   ]
  },
  {
   "cell_type": "code",
   "execution_count": 68,
   "metadata": {},
   "outputs": [],
   "source": [
    "final_df = pd.DataFrame(res_arr, columns=[\"image_file\", \"label\", \"label_text\"])\n",
    "final_df[\"label_text\"] = final_df[\"label_text\"].map(lambda x: '\"'+x+'\"')"
   ]
  },
  {
   "cell_type": "code",
   "execution_count": 69,
   "metadata": {},
   "outputs": [],
   "source": [
    "final_df.to_csv(\"submission.csv\", index=False)"
   ]
  },
  {
   "cell_type": "code",
   "execution_count": null,
   "metadata": {},
   "outputs": [],
   "source": []
  }
 ],
 "metadata": {
  "kernelspec": {
   "display_name": "Python 3",
   "language": "python",
   "name": "python3"
  },
  "language_info": {
   "codemirror_mode": {
    "name": "ipython",
    "version": 3
   },
   "file_extension": ".py",
   "mimetype": "text/x-python",
   "name": "python",
   "nbconvert_exporter": "python",
   "pygments_lexer": "ipython3",
   "version": "3.11.9"
  }
 },
 "nbformat": 4,
 "nbformat_minor": 2
}
